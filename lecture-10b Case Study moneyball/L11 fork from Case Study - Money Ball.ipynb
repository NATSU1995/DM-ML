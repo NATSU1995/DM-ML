{
 "cells": [
  {
   "cell_type": "markdown",
   "metadata": {},
   "source": [
    "## 1 Loading and Exploring the Data Set"
   ]
  },
  {
   "cell_type": "markdown",
   "metadata": {},
   "source": [
    "Let us first read the data set from the file."
   ]
  },
  {
   "cell_type": "code",
   "execution_count": 1,
   "metadata": {},
   "outputs": [
    {
     "name": "stdout",
     "output_type": "stream",
     "text": [
      "<class 'pandas.core.frame.DataFrame'>\n",
      "RangeIndex: 932 entries, 0 to 931\n",
      "Data columns (total 15 columns):\n",
      " #   Column        Non-Null Count  Dtype  \n",
      "---  ------        --------------  -----  \n",
      " 0   Team          932 non-null    object \n",
      " 1   League        932 non-null    object \n",
      " 2   Year          932 non-null    int64  \n",
      " 3   RS            932 non-null    int64  \n",
      " 4   RA            932 non-null    int64  \n",
      " 5   W             932 non-null    int64  \n",
      " 6   OBP           932 non-null    float64\n",
      " 7   SLG           932 non-null    float64\n",
      " 8   BA            932 non-null    float64\n",
      " 9   Playoffs      932 non-null    int64  \n",
      " 10  RankSeason    162 non-null    float64\n",
      " 11  RankPlayoffs  162 non-null    float64\n",
      " 12  G             932 non-null    int64  \n",
      " 13  OOBP          120 non-null    float64\n",
      " 14  OSLG          120 non-null    float64\n",
      "dtypes: float64(7), int64(6), object(2)\n",
      "memory usage: 109.3+ KB\n"
     ]
    }
   ],
   "source": [
    "import pandas as pd \n",
    "\n",
    "moneyball = pd.read_csv('Moneyball.csv')  \n",
    "moneyball.info()"
   ]
  },
  {
   "cell_type": "markdown",
   "metadata": {},
   "source": [
    "We first build a linear regression model to predict wins using the difference between runs scored and runs allowed. To make this a little easier, let us start by creating a new variable called, RD, for run difference, and set that equal to runs scored minus runs allowed."
   ]
  },
  {
   "cell_type": "code",
   "execution_count": 2,
   "metadata": {},
   "outputs": [
    {
     "data": {
      "text/html": [
       "<div>\n",
       "<style scoped>\n",
       "    .dataframe tbody tr th:only-of-type {\n",
       "        vertical-align: middle;\n",
       "    }\n",
       "\n",
       "    .dataframe tbody tr th {\n",
       "        vertical-align: top;\n",
       "    }\n",
       "\n",
       "    .dataframe thead th {\n",
       "        text-align: right;\n",
       "    }\n",
       "</style>\n",
       "<table border=\"1\" class=\"dataframe\">\n",
       "  <thead>\n",
       "    <tr style=\"text-align: right;\">\n",
       "      <th></th>\n",
       "      <th>RD</th>\n",
       "    </tr>\n",
       "  </thead>\n",
       "  <tbody>\n",
       "    <tr>\n",
       "      <th>0</th>\n",
       "      <td>207</td>\n",
       "    </tr>\n",
       "    <tr>\n",
       "      <th>1</th>\n",
       "      <td>145</td>\n",
       "    </tr>\n",
       "    <tr>\n",
       "      <th>2</th>\n",
       "      <td>143</td>\n",
       "    </tr>\n",
       "    <tr>\n",
       "      <th>3</th>\n",
       "      <td>-106</td>\n",
       "    </tr>\n",
       "    <tr>\n",
       "      <th>4</th>\n",
       "      <td>194</td>\n",
       "    </tr>\n",
       "  </tbody>\n",
       "</table>\n",
       "</div>"
      ],
      "text/plain": [
       "    RD\n",
       "0  207\n",
       "1  145\n",
       "2  143\n",
       "3 -106\n",
       "4  194"
      ]
     },
     "execution_count": 2,
     "metadata": {},
     "output_type": "execute_result"
    }
   ],
   "source": [
    "RD=moneyball['RS']-moneyball['RA']\n",
    "RD=pd.DataFrame(RD)\n",
    "RD.columns=[\"RD\"]\n",
    "RD.head()"
   ]
  },
  {
   "cell_type": "code",
   "execution_count": 3,
   "metadata": {},
   "outputs": [
    {
     "data": {
      "text/html": [
       "<div>\n",
       "<style scoped>\n",
       "    .dataframe tbody tr th:only-of-type {\n",
       "        vertical-align: middle;\n",
       "    }\n",
       "\n",
       "    .dataframe tbody tr th {\n",
       "        vertical-align: top;\n",
       "    }\n",
       "\n",
       "    .dataframe thead th {\n",
       "        text-align: right;\n",
       "    }\n",
       "</style>\n",
       "<table border=\"1\" class=\"dataframe\">\n",
       "  <thead>\n",
       "    <tr style=\"text-align: right;\">\n",
       "      <th></th>\n",
       "      <th>Team</th>\n",
       "      <th>League</th>\n",
       "      <th>Year</th>\n",
       "      <th>RS</th>\n",
       "      <th>RA</th>\n",
       "      <th>W</th>\n",
       "      <th>OBP</th>\n",
       "      <th>SLG</th>\n",
       "      <th>BA</th>\n",
       "      <th>Playoffs</th>\n",
       "      <th>RankSeason</th>\n",
       "      <th>RankPlayoffs</th>\n",
       "      <th>G</th>\n",
       "      <th>OOBP</th>\n",
       "      <th>OSLG</th>\n",
       "      <th>RD</th>\n",
       "    </tr>\n",
       "  </thead>\n",
       "  <tbody>\n",
       "    <tr>\n",
       "      <th>0</th>\n",
       "      <td>ANA</td>\n",
       "      <td>AL</td>\n",
       "      <td>2002</td>\n",
       "      <td>851</td>\n",
       "      <td>644</td>\n",
       "      <td>99</td>\n",
       "      <td>0.341</td>\n",
       "      <td>0.433</td>\n",
       "      <td>0.282</td>\n",
       "      <td>1</td>\n",
       "      <td>3.0</td>\n",
       "      <td>1.0</td>\n",
       "      <td>162</td>\n",
       "      <td>0.314</td>\n",
       "      <td>0.392</td>\n",
       "      <td>207</td>\n",
       "    </tr>\n",
       "    <tr>\n",
       "      <th>1</th>\n",
       "      <td>ARI</td>\n",
       "      <td>NL</td>\n",
       "      <td>2002</td>\n",
       "      <td>819</td>\n",
       "      <td>674</td>\n",
       "      <td>98</td>\n",
       "      <td>0.346</td>\n",
       "      <td>0.423</td>\n",
       "      <td>0.267</td>\n",
       "      <td>1</td>\n",
       "      <td>4.0</td>\n",
       "      <td>4.0</td>\n",
       "      <td>162</td>\n",
       "      <td>0.305</td>\n",
       "      <td>0.397</td>\n",
       "      <td>145</td>\n",
       "    </tr>\n",
       "    <tr>\n",
       "      <th>2</th>\n",
       "      <td>ATL</td>\n",
       "      <td>NL</td>\n",
       "      <td>2002</td>\n",
       "      <td>708</td>\n",
       "      <td>565</td>\n",
       "      <td>101</td>\n",
       "      <td>0.331</td>\n",
       "      <td>0.409</td>\n",
       "      <td>0.260</td>\n",
       "      <td>1</td>\n",
       "      <td>2.0</td>\n",
       "      <td>4.0</td>\n",
       "      <td>161</td>\n",
       "      <td>0.313</td>\n",
       "      <td>0.364</td>\n",
       "      <td>143</td>\n",
       "    </tr>\n",
       "    <tr>\n",
       "      <th>3</th>\n",
       "      <td>BAL</td>\n",
       "      <td>AL</td>\n",
       "      <td>2002</td>\n",
       "      <td>667</td>\n",
       "      <td>773</td>\n",
       "      <td>67</td>\n",
       "      <td>0.309</td>\n",
       "      <td>0.403</td>\n",
       "      <td>0.246</td>\n",
       "      <td>0</td>\n",
       "      <td>NaN</td>\n",
       "      <td>NaN</td>\n",
       "      <td>162</td>\n",
       "      <td>0.336</td>\n",
       "      <td>0.435</td>\n",
       "      <td>-106</td>\n",
       "    </tr>\n",
       "    <tr>\n",
       "      <th>4</th>\n",
       "      <td>BOS</td>\n",
       "      <td>AL</td>\n",
       "      <td>2002</td>\n",
       "      <td>859</td>\n",
       "      <td>665</td>\n",
       "      <td>93</td>\n",
       "      <td>0.345</td>\n",
       "      <td>0.444</td>\n",
       "      <td>0.277</td>\n",
       "      <td>0</td>\n",
       "      <td>NaN</td>\n",
       "      <td>NaN</td>\n",
       "      <td>162</td>\n",
       "      <td>0.308</td>\n",
       "      <td>0.385</td>\n",
       "      <td>194</td>\n",
       "    </tr>\n",
       "  </tbody>\n",
       "</table>\n",
       "</div>"
      ],
      "text/plain": [
       "  Team League  Year   RS   RA    W    OBP    SLG     BA  Playoffs  RankSeason  \\\n",
       "0  ANA     AL  2002  851  644   99  0.341  0.433  0.282         1         3.0   \n",
       "1  ARI     NL  2002  819  674   98  0.346  0.423  0.267         1         4.0   \n",
       "2  ATL     NL  2002  708  565  101  0.331  0.409  0.260         1         2.0   \n",
       "3  BAL     AL  2002  667  773   67  0.309  0.403  0.246         0         NaN   \n",
       "4  BOS     AL  2002  859  665   93  0.345  0.444  0.277         0         NaN   \n",
       "\n",
       "   RankPlayoffs    G   OOBP   OSLG   RD  \n",
       "0           1.0  162  0.314  0.392  207  \n",
       "1           4.0  162  0.305  0.397  145  \n",
       "2           4.0  161  0.313  0.364  143  \n",
       "3           NaN  162  0.336  0.435 -106  \n",
       "4           NaN  162  0.308  0.385  194  "
      ]
     },
     "execution_count": 3,
     "metadata": {},
     "output_type": "execute_result"
    }
   ],
   "source": [
    "moneyball=moneyball.join(RD)\n",
    "moneyball.head()"
   ]
  },
  {
   "cell_type": "markdown",
   "metadata": {},
   "source": [
    "Since we are confirming the claims made in Moneyball, we want to build models using the data Paul DePodesta had in 2002."
   ]
  },
  {
   "cell_type": "code",
   "execution_count": 4,
   "metadata": {},
   "outputs": [
    {
     "data": {
      "text/html": [
       "<div>\n",
       "<style scoped>\n",
       "    .dataframe tbody tr th:only-of-type {\n",
       "        vertical-align: middle;\n",
       "    }\n",
       "\n",
       "    .dataframe tbody tr th {\n",
       "        vertical-align: top;\n",
       "    }\n",
       "\n",
       "    .dataframe thead th {\n",
       "        text-align: right;\n",
       "    }\n",
       "</style>\n",
       "<table border=\"1\" class=\"dataframe\">\n",
       "  <thead>\n",
       "    <tr style=\"text-align: right;\">\n",
       "      <th></th>\n",
       "      <th>Team</th>\n",
       "      <th>League</th>\n",
       "      <th>Year</th>\n",
       "      <th>RS</th>\n",
       "      <th>RA</th>\n",
       "      <th>W</th>\n",
       "      <th>OBP</th>\n",
       "      <th>SLG</th>\n",
       "      <th>BA</th>\n",
       "      <th>Playoffs</th>\n",
       "      <th>RankSeason</th>\n",
       "      <th>RankPlayoffs</th>\n",
       "      <th>G</th>\n",
       "      <th>OOBP</th>\n",
       "      <th>OSLG</th>\n",
       "      <th>RD</th>\n",
       "    </tr>\n",
       "  </thead>\n",
       "  <tbody>\n",
       "    <tr>\n",
       "      <th>30</th>\n",
       "      <td>ANA</td>\n",
       "      <td>AL</td>\n",
       "      <td>2001</td>\n",
       "      <td>691</td>\n",
       "      <td>730</td>\n",
       "      <td>75</td>\n",
       "      <td>0.327</td>\n",
       "      <td>0.405</td>\n",
       "      <td>0.261</td>\n",
       "      <td>0</td>\n",
       "      <td>NaN</td>\n",
       "      <td>NaN</td>\n",
       "      <td>162</td>\n",
       "      <td>0.331</td>\n",
       "      <td>0.412</td>\n",
       "      <td>-39</td>\n",
       "    </tr>\n",
       "    <tr>\n",
       "      <th>31</th>\n",
       "      <td>ARI</td>\n",
       "      <td>NL</td>\n",
       "      <td>2001</td>\n",
       "      <td>818</td>\n",
       "      <td>677</td>\n",
       "      <td>92</td>\n",
       "      <td>0.341</td>\n",
       "      <td>0.442</td>\n",
       "      <td>0.267</td>\n",
       "      <td>1</td>\n",
       "      <td>5.0</td>\n",
       "      <td>1.0</td>\n",
       "      <td>162</td>\n",
       "      <td>0.311</td>\n",
       "      <td>0.404</td>\n",
       "      <td>141</td>\n",
       "    </tr>\n",
       "    <tr>\n",
       "      <th>32</th>\n",
       "      <td>ATL</td>\n",
       "      <td>NL</td>\n",
       "      <td>2001</td>\n",
       "      <td>729</td>\n",
       "      <td>643</td>\n",
       "      <td>88</td>\n",
       "      <td>0.324</td>\n",
       "      <td>0.412</td>\n",
       "      <td>0.260</td>\n",
       "      <td>1</td>\n",
       "      <td>7.0</td>\n",
       "      <td>3.0</td>\n",
       "      <td>162</td>\n",
       "      <td>0.314</td>\n",
       "      <td>0.384</td>\n",
       "      <td>86</td>\n",
       "    </tr>\n",
       "    <tr>\n",
       "      <th>33</th>\n",
       "      <td>BAL</td>\n",
       "      <td>AL</td>\n",
       "      <td>2001</td>\n",
       "      <td>687</td>\n",
       "      <td>829</td>\n",
       "      <td>63</td>\n",
       "      <td>0.319</td>\n",
       "      <td>0.380</td>\n",
       "      <td>0.248</td>\n",
       "      <td>0</td>\n",
       "      <td>NaN</td>\n",
       "      <td>NaN</td>\n",
       "      <td>162</td>\n",
       "      <td>0.337</td>\n",
       "      <td>0.439</td>\n",
       "      <td>-142</td>\n",
       "    </tr>\n",
       "    <tr>\n",
       "      <th>34</th>\n",
       "      <td>BOS</td>\n",
       "      <td>AL</td>\n",
       "      <td>2001</td>\n",
       "      <td>772</td>\n",
       "      <td>745</td>\n",
       "      <td>82</td>\n",
       "      <td>0.334</td>\n",
       "      <td>0.439</td>\n",
       "      <td>0.266</td>\n",
       "      <td>0</td>\n",
       "      <td>NaN</td>\n",
       "      <td>NaN</td>\n",
       "      <td>161</td>\n",
       "      <td>0.329</td>\n",
       "      <td>0.393</td>\n",
       "      <td>27</td>\n",
       "    </tr>\n",
       "  </tbody>\n",
       "</table>\n",
       "</div>"
      ],
      "text/plain": [
       "   Team League  Year   RS   RA   W    OBP    SLG     BA  Playoffs  RankSeason  \\\n",
       "30  ANA     AL  2001  691  730  75  0.327  0.405  0.261         0         NaN   \n",
       "31  ARI     NL  2001  818  677  92  0.341  0.442  0.267         1         5.0   \n",
       "32  ATL     NL  2001  729  643  88  0.324  0.412  0.260         1         7.0   \n",
       "33  BAL     AL  2001  687  829  63  0.319  0.380  0.248         0         NaN   \n",
       "34  BOS     AL  2001  772  745  82  0.334  0.439  0.266         0         NaN   \n",
       "\n",
       "    RankPlayoffs    G   OOBP   OSLG   RD  \n",
       "30           NaN  162  0.331  0.412  -39  \n",
       "31           1.0  162  0.311  0.404  141  \n",
       "32           3.0  162  0.314  0.384   86  \n",
       "33           NaN  162  0.337  0.439 -142  \n",
       "34           NaN  161  0.329  0.393   27  "
      ]
     },
     "execution_count": 4,
     "metadata": {},
     "output_type": "execute_result"
    }
   ],
   "source": [
    "moneyball_train = moneyball[moneyball['Year'] <2002]\n",
    "moneyball_train.head()"
   ]
  },
  {
   "cell_type": "markdown",
   "metadata": {},
   "source": [
    "# Predicting Wins"
   ]
  },
  {
   "cell_type": "markdown",
   "metadata": {},
   "source": [
    "We first build a linear regression model to predict wins using *RD*."
   ]
  },
  {
   "cell_type": "code",
   "execution_count": 5,
   "metadata": {},
   "outputs": [],
   "source": [
    "import numpy as np\n",
    "\n",
    "X1 = np.array(moneyball_train['RD'])[:, np.newaxis]  #转化为一个1列的矩阵\n",
    "y1 = moneyball_train['W']"
   ]
  },
  {
   "cell_type": "code",
   "execution_count": 6,
   "metadata": {},
   "outputs": [
    {
     "name": "stdout",
     "output_type": "stream",
     "text": [
      "intercept: 80.88137472283813\n",
      "slope: [0.10576562]\n",
      "coefficient of determination(𝑅²) : 0.8808103719972755\n"
     ]
    }
   ],
   "source": [
    "from sklearn import linear_model\n",
    "model1 = linear_model.LinearRegression()\n",
    "model1.fit(X1,y1)\n",
    "print('intercept:', model1.intercept_)  #截距\n",
    "print('slope:', model1.coef_)  #线性模型的系数\n",
    "\n",
    "r_sq = model1.score(X1, y1)\n",
    "print('coefficient of determination(𝑅²) :', r_sq)"
   ]
  },
  {
   "cell_type": "markdown",
   "metadata": {},
   "source": [
    "This gives us the linear regression equation for wins shown in the slides."
   ]
  },
  {
   "cell_type": "markdown",
   "metadata": {},
   "source": [
    "# Predicting Runs Scored"
   ]
  },
  {
   "cell_type": "markdown",
   "metadata": {},
   "source": [
    "We want to see if we can use linear regression to predict runs scored (*RS*) using the three hitting statistics, on-base percentage (*OBP*), slugging percentage (*SLG*), and batting average (*BA*)."
   ]
  },
  {
   "cell_type": "code",
   "execution_count": 7,
   "metadata": {},
   "outputs": [
    {
     "name": "stdout",
     "output_type": "stream",
     "text": [
      "intercept: -788.4570470807923\n",
      "slope: [2917.42140821 1637.92766577 -368.96606009]\n",
      "coefficient of determination(𝑅²) : 0.9302016258786281\n"
     ]
    }
   ],
   "source": [
    "X2 = np.array(moneyball_train[['OBP','SLG','BA']])\n",
    "y2 = moneyball_train['RS']\n",
    "\n",
    "model2 = linear_model.LinearRegression()\n",
    "model2.fit(X2,y2)\n",
    "print('intercept:', model2.intercept_)  #截距\n",
    "print('slope:', model2.coef_)  #线性模型的系数\n",
    "\n",
    "r_sq = model2.score(X2, y2)\n",
    "print('coefficient of determination(𝑅²) :', r_sq)"
   ]
  },
  {
   "cell_type": "markdown",
   "metadata": {},
   "source": [
    "According to the definitions (which you can find online if you are interested), all of the three statistics are very similar to each other, and they measure the hitting performance of the players. The larger these statistics are, the better the players' hitting performance would be. Therefore, we expect the coefficients of all these variables to be positive, as better players should lead to more runs. The counterintuitive negative coefficient of batting average shows that there could be something wrong with the model. Note that if the model prediction accuracy is the only thing we care about, the model is good. However, in this case, the team relies on the model to hire potential players, so wrong coefficients will lead to seriously wrong decision. For example, the negative coefficient for batting average would indicate that the team should choose the players with lower batting average.\n",
    "\n",
    "Given the fact that these statistics are closely related to each other as they all measure the hitting performance with slight difference in definitions, we suspect that there could be some multicollinearity issues in the model. We can check the correlations among these three variables to confirm this."
   ]
  },
  {
   "cell_type": "code",
   "execution_count": 8,
   "metadata": {},
   "outputs": [
    {
     "data": {
      "text/html": [
       "<div>\n",
       "<style scoped>\n",
       "    .dataframe tbody tr th:only-of-type {\n",
       "        vertical-align: middle;\n",
       "    }\n",
       "\n",
       "    .dataframe tbody tr th {\n",
       "        vertical-align: top;\n",
       "    }\n",
       "\n",
       "    .dataframe thead th {\n",
       "        text-align: right;\n",
       "    }\n",
       "</style>\n",
       "<table border=\"1\" class=\"dataframe\">\n",
       "  <thead>\n",
       "    <tr style=\"text-align: right;\">\n",
       "      <th></th>\n",
       "      <th>OBP</th>\n",
       "      <th>SLG</th>\n",
       "      <th>BA</th>\n",
       "    </tr>\n",
       "  </thead>\n",
       "  <tbody>\n",
       "    <tr>\n",
       "      <th>OBP</th>\n",
       "      <td>1.000000</td>\n",
       "      <td>0.806154</td>\n",
       "      <td>0.854055</td>\n",
       "    </tr>\n",
       "    <tr>\n",
       "      <th>SLG</th>\n",
       "      <td>0.806154</td>\n",
       "      <td>1.000000</td>\n",
       "      <td>0.814068</td>\n",
       "    </tr>\n",
       "    <tr>\n",
       "      <th>BA</th>\n",
       "      <td>0.854055</td>\n",
       "      <td>0.814068</td>\n",
       "      <td>1.000000</td>\n",
       "    </tr>\n",
       "  </tbody>\n",
       "</table>\n",
       "</div>"
      ],
      "text/plain": [
       "          OBP       SLG        BA\n",
       "OBP  1.000000  0.806154  0.854055\n",
       "SLG  0.806154  1.000000  0.814068\n",
       "BA   0.854055  0.814068  1.000000"
      ]
     },
     "execution_count": 8,
     "metadata": {},
     "output_type": "execute_result"
    }
   ],
   "source": [
    "moneyball_train[['OBP','SLG','BA']].corr(method='pearson', min_periods=1)"
   ]
  },
  {
   "cell_type": "markdown",
   "metadata": {},
   "source": [
    "We can see that these three variables are indeed highly correlated to each other since all the correlation coefficients are larger than 0.8. To decide which variable(s) to keep, we need to perform more analysis.\n",
    "\n",
    "\n",
    "First, let us conduct univariate analysis for these three variables separately to check their predictive power. By univariate analysis, we mean running single-variable linear regression."
   ]
  },
  {
   "cell_type": "code",
   "execution_count": 9,
   "metadata": {},
   "outputs": [
    {
     "name": "stdout",
     "output_type": "stream",
     "text": [
      "intercept: -1079.0244190658655\n",
      "slope: [5486.2972758]\n",
      "coefficient of determination(𝑅²) : 0.8188605766140029\n"
     ]
    }
   ],
   "source": [
    "X3 = np.array(moneyball_train['OBP'])[:, np.newaxis]  #转化为一个1列的矩阵\n",
    "y3 = moneyball_train['RS']\n",
    "\n",
    "model3 = linear_model.LinearRegression()\n",
    "model3.fit(X3,y3)\n",
    "print('intercept:', model3.intercept_)  #截距\n",
    "print('slope:', model3.coef_)  #线性模型的系数\n",
    "\n",
    "r_sq = model3.score(X3, y3)\n",
    "print('coefficient of determination(𝑅²) :', r_sq)"
   ]
  },
  {
   "cell_type": "code",
   "execution_count": 10,
   "metadata": {},
   "outputs": [
    {
     "name": "stdout",
     "output_type": "stream",
     "text": [
      "intercept: -315.5117217942952\n",
      "slope: [2610.8827241]\n",
      "coefficient of determination(𝑅²) : 0.8581879277727746\n"
     ]
    }
   ],
   "source": [
    "X4 = np.array(moneyball_train['SLG'])[:, np.newaxis]  #转化为一个1列的矩阵\n",
    "y4 = moneyball_train['RS']\n",
    "\n",
    "model4 = linear_model.LinearRegression()\n",
    "model4.fit(X4,y4)\n",
    "print('intercept:', model4.intercept_)  #截距\n",
    "print('slope:', model4.coef_)  #线性模型的系数\n",
    "\n",
    "r_sq = model4.score(X4, y4)\n",
    "print('coefficient of determination(𝑅²) :', r_sq)"
   ]
  },
  {
   "cell_type": "code",
   "execution_count": 11,
   "metadata": {},
   "outputs": [
    {
     "name": "stdout",
     "output_type": "stream",
     "text": [
      "intercept: -806.3539926551498\n",
      "slope: [5849.87718216]\n",
      "coefficient of determination(𝑅²) : 0.6915997276049151\n"
     ]
    }
   ],
   "source": [
    "X5 = np.array(moneyball_train['BA'])[:, np.newaxis]  #转化为一个1列的矩阵\n",
    "y5 = moneyball_train['RS']\n",
    "\n",
    "model5 = linear_model.LinearRegression()\n",
    "model5.fit(X5,y5)\n",
    "print('intercept:', model5.intercept_)  #截距\n",
    "print('slope:', model5.coef_)  #线性模型的系数\n",
    "\n",
    "r_sq = model5.score(X5, y5)\n",
    "print('coefficient of determination(𝑅²) :', r_sq)"
   ]
  },
  {
   "cell_type": "markdown",
   "metadata": {},
   "source": [
    "The above univariate analysis shows that using *OBP* and *SLG* alone gives much higher $R^2$ than *BA*, and the coefficient of *OBP* is much larger than that of *SLG*. Let us confirm the findings in multiple linear regression with *OBP* and *SLG*."
   ]
  },
  {
   "cell_type": "code",
   "execution_count": 12,
   "metadata": {},
   "outputs": [
    {
     "name": "stdout",
     "output_type": "stream",
     "text": [
      "intercept: -804.6270610622394\n",
      "slope: [2737.76802227 1584.90860546]\n",
      "coefficient of determination(𝑅²) : 0.9295810608096597\n"
     ]
    }
   ],
   "source": [
    "X6 = np.array(moneyball_train[['OBP','SLG']])\n",
    "y6 = moneyball_train['RS']\n",
    "\n",
    "model6 = linear_model.LinearRegression()\n",
    "model6.fit(X6,y6)\n",
    "print('intercept:', model6.intercept_)  #截距\n",
    "print('slope:', model6.coef_)  #线性模型的系数\n",
    "\n",
    "r_sq = model6.score(X6, y6)\n",
    "print('coefficient of determination(𝑅²) :', r_sq)"
   ]
  },
  {
   "cell_type": "markdown",
   "metadata": {},
   "source": [
    "We can observe that the $R^2$ of this model is similar to the model with all the three variables, which is $0.93$. This indicates that both models are similar in terms of predictive power. In other words, the effect of *BA* can almost be captured by *OBP* and *SLG*. The coefficients of *OBP* and *SLG* confirm the relative importance of the variables as claimed in Moneyball. You can perform further analysis using other combinations of variables, and you will find that $R^2$ of other combinations (*BA* + *OBP* or *BA* + *SLG*) would be significantly less than $0.93$.\n",
    "\n",
    "\n",
    "Note that we decide to keep both *OBP* and *SLG* even though they are highly correlated to each for two main reasons. First, $R^2$ from the model using these two variables are significantly higher than those from single-variable models using each variable alone, which suggests that there is significant amount of information in each variable that cannot be captured by the other one. Second, the coefficients for both variables are significantly positive, and their magnitudes are consistent with univariate analysis.\n"
   ]
  },
  {
   "cell_type": "markdown",
   "metadata": {},
   "source": [
    "# Predicting Runs Allowed"
   ]
  },
  {
   "cell_type": "markdown",
   "metadata": {},
   "source": [
    "We can conduct similar linear regression analysis to construct a model to predict runs allowed."
   ]
  },
  {
   "cell_type": "code",
   "execution_count": 13,
   "metadata": {},
   "outputs": [
    {
     "name": "stdout",
     "output_type": "stream",
     "text": [
      "intercept: -837.3778886133358\n",
      "slope: [2913.59948582 1514.28595842]\n",
      "coefficient of determination(𝑅²) : 0.9073132027228663\n"
     ]
    }
   ],
   "source": [
    "X7=moneyball_train[['OOBP','OSLG']]\n",
    "y7 = moneyball_train['RA']\n",
    "y7 =y7[X7['OOBP'].notna()]\n",
    "X7 = X7[X7['OOBP'].notna()]\n",
    "X7 = np.array(X7)\n",
    "\n",
    "\n",
    "model7 = linear_model.LinearRegression()\n",
    "model7.fit(X7,y7)\n",
    "print('intercept:', model7.intercept_)  #截距\n",
    "print('slope:', model7.coef_)  #线性模型的系数\n",
    "\n",
    "r_sq = model7.score(X7, y7)\n",
    "print('coefficient of determination(𝑅²) :', r_sq)"
   ]
  },
  {
   "cell_type": "markdown",
   "metadata": {},
   "source": [
    "# Predicting Runs Scored Using a Regression Tree Model"
   ]
  },
  {
   "cell_type": "markdown",
   "metadata": {},
   "source": [
    "Now let us try a regression tree model using the same predictor variables, and we will use 5-fold cross validation to train our model."
   ]
  },
  {
   "cell_type": "code",
   "execution_count": 32,
   "metadata": {},
   "outputs": [
    {
     "name": "stdout",
     "output_type": "stream",
     "text": [
      "[37.7975012450337, 37.79547330704088, 37.77367389320529, 37.76510905631456, 37.75494513555994, 37.756394813047216, 37.77074220273673, 37.80494372573597, 37.8028694756415, 37.776927055496344, 37.79022463905953, 37.79679359480589, 37.81607741045862, 37.81554536567094, 37.80192090200149, 37.773552946624456, 37.773523084644545, 37.779441076049345, 37.77891460872268, 37.78000884514538]\n"
     ]
    }
   ],
   "source": [
    "from sklearn.tree import DecisionTreeRegressor  # 回归树\n",
    "from sklearn.model_selection import cross_val_score  # 交叉验证\n",
    "\n",
    "cp_range=np.arange(0,0.1,0.005)\n",
    "rmse=[]\n",
    "for cp in cp_range:\n",
    "    regressor = DecisionTreeRegressor(ccp_alpha=cp, random_state=0)\n",
    "    nmse=cross_val_score(regressor\n",
    "                ,X2  # 应用交叉验证，不需要划分训练集和测试集\n",
    "                ,y2\n",
    "                ,cv =5  #设置交叉验证次数\n",
    "                ,scoring = 'neg_mean_squared_error') # 设置衡量指标为负均方误差（越接近0越好），否则默认为R^2（越接近1越好）\n",
    "    rmse.append(pow((-sum(nmse)/5),0.5))\n",
    "print(rmse)"
   ]
  },
  {
   "cell_type": "code",
   "execution_count": 45,
   "metadata": {},
   "outputs": [
    {
     "name": "stdout",
     "output_type": "stream",
     "text": [
      "OBP SLG BA\n",
      "[0.22416222 0.75189935 0.02393843]\n"
     ]
    }
   ],
   "source": [
    "moneyball_tree = DecisionTreeRegressor(ccp_alpha=cp_range[rmse.index(min(rmse))], random_state=0)\n",
    "moneyball_tree = moneyball_tree.fit(X2,y2)\n",
    "print('OBP','SLG','BA')\n",
    "print(moneyball_tree.feature_importances_ )"
   ]
  },
  {
   "cell_type": "code",
   "execution_count": 50,
   "metadata": {},
   "outputs": [
    {
     "data": {
      "image/png": "[encoded data removed]",
      "text/plain": [
       "<Figure size 1440x720 with 1 Axes>"
      ]
     },
     "metadata": {
      "needs_background": "light"
     },
     "output_type": "display_data"
    }
   ],
   "source": [
    "import matplotlib.pyplot as plt\n",
    "%matplotlib inline\n",
    "from sklearn import tree\n",
    "plt.figure(figsize=(20,10))\n",
    "tree.plot_tree(moneyball_tree, label='root', max_depth=3,feature_names=['OBP','SLG','BA'])\n",
    "plt.show()"
   ]
  },
  {
   "cell_type": "code",
   "execution_count": null,
   "metadata": {},
   "outputs": [],
   "source": []
  }
 ],
 "metadata": {
  "kernelspec": {
   "display_name": "Python 3",
   "language": "python",
   "name": "python3"
  },
  "language_info": {
   "codemirror_mode": {
    "name": "ipython",
    "version": 3
   },
   "file_extension": ".py",
   "mimetype": "text/x-python",
   "name": "python",
   "nbconvert_exporter": "python",
   "pygments_lexer": "ipython3",
   "version": "3.6.5"
  },
  "tianchi_metadata": {
   "competitions": [],
   "datasets": [
    {
     "id": "14545",
     "title": "Money Ball"
    }
   ],
   "description": "",
   "notebookId": "67045",
   "source": "ailab"
  }
 },
 "nbformat": 4,
 "nbformat_minor": 4
}
