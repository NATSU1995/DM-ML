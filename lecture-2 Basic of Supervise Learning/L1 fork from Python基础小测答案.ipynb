{
 "cells": [
  {
   "cell_type": "markdown",
   "metadata": {},
   "source": [
    "### 三、Python学习测试\n",
    "1、求1+3+5+7+...+99的求和，用Python该如何写"
   ]
  },
  {
   "cell_type": "code",
   "execution_count": 1,
   "metadata": {},
   "outputs": [
    {
     "name": "stdout",
     "output_type": "stream",
     "text": [
      "2500\n"
     ]
    }
   ],
   "source": [
    "print(sum(range(1,100,2)))"
   ]
  },
  {
   "cell_type": "markdown",
   "metadata": {},
   "source": [
    "2、在DNA中有4种碱基，分别为ATCG，其中符号“A”和“T”是互补的，符号“C”和“G”是互补的，现给定一个DNA序列，求出他的互补DNA序列，编写函数 DNA_strand(dna)<br>\n",
    "\n",
    "测试用例：<br>\n",
    "DNA_strand (\"ATTGC\") # return \"TAACG\"<br>\n",
    "DNA_strand(\"AAAA\")<br>\n",
    "DNA_strand(\"ATCGT\")\n"
   ]
  },
  {
   "cell_type": "code",
   "execution_count": 2,
   "metadata": {},
   "outputs": [
    {
     "name": "stdout",
     "output_type": "stream",
     "text": [
      "TAACG\n",
      "TTTT\n",
      "TAGCA\n"
     ]
    }
   ],
   "source": [
    "def DNA_strand(dna):\n",
    "    dna = dna.replace(\"A\", \"t\").replace(\n",
    "            \"C\", \"g\").replace(\"T\", \"a\").replace(\"G\", \"c\")\n",
    "    dna = dna.upper()\n",
    "    return dna\n",
    "  \n",
    "print(DNA_strand(\"ATTGC\"))\n",
    "print(DNA_strand(\"AAAA\"))\n",
    "print(DNA_strand(\"ATCGT\"))"
   ]
  },
  {
   "cell_type": "markdown",
   "metadata": {},
   "source": [
    "3、编写一个函数duplicate_count(text)，这个函数返回输入字符串text中多次出现的字符的个数（不区分大小写的字母字符和数字，输入字符串只包含字母(大写和小写)和数字）\n",
    "\n",
    "测试用例：<br>\n",
    "\"abcde\" -> 0<br>\n",
    "\"aabBcde\" -> 2<br>\n",
    "\"indivisibility\" -> 1<br>\n"
   ]
  },
  {
   "cell_type": "code",
   "execution_count": 3,
   "metadata": {},
   "outputs": [
    {
     "name": "stdout",
     "output_type": "stream",
     "text": [
      "0\n",
      "2\n",
      "1\n"
     ]
    }
   ],
   "source": [
    "import collections\n",
    "def duplicate_count(text):\n",
    "    text=text.upper()\n",
    "    d = collections.defaultdict(int)\n",
    "    for c in text:\n",
    "        d[c] += 1\n",
    "    d = {k: v for k, v in d.items() if v>1}\n",
    "    return(len(d))\n",
    " \n",
    "print(duplicate_count(\"abcde\"))\n",
    "print(duplicate_count(\"aabBcde\"))\n",
    "print(duplicate_count(\"indivisibility\"))"
   ]
  }
 ],
 "metadata": {
  "kernelspec": {
   "display_name": "Python 3",
   "language": "python",
   "name": "python3"
  },
  "language_info": {
   "codemirror_mode": {
    "name": "ipython",
    "version": 3
   },
   "file_extension": ".py",
   "mimetype": "text/x-python",
   "name": "python",
   "nbconvert_exporter": "python",
   "pygments_lexer": "ipython3",
   "version": "3.6.5"
  },
  "tianchi_metadata": {
   "competitions": [],
   "datasets": [],
   "description": "",
   "notebookId": "89642",
   "source": "ailab"
  }
 },
 "nbformat": 4,
 "nbformat_minor": 4
}
