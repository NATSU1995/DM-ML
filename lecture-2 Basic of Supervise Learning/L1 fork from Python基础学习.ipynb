{
 "cells": [
  {
   "cell_type": "markdown",
   "metadata": {},
   "source": [
    "### 一、Python基础知识\n",
    "#### 1.1 Python数据类型\n",
    "\n",
    "数据类型：字符串、列表、元组、字典、集合\n",
    "<img src='https://img.alicdn.com/imgextra/i1/O1CN013SC0F21HbuQcovhYY_!!6000000000777-2-tps-299-250.png'>"
   ]
  },
  {
   "cell_type": "code",
   "execution_count": 1,
   "metadata": {},
   "outputs": [
    {
     "name": "stdout",
     "output_type": "stream",
     "text": [
      "Hello World!\n",
      "Hello World!\n",
      "<class 'str'>\n",
      "var1[0]:  H\n",
      "var1[:5]:  Hello\n"
     ]
    }
   ],
   "source": [
    "# 通过单引号或双引号来定义字符串\n",
    "var1 = \"Hello World!\"\n",
    "print(var1)\n",
    "print(var1)\n",
    "print(type(var1))\n",
    "print(\"var1[0]: \", var1[0])      #H\n",
    "print(\"var1[:5]: \", var1[:5])    #Hello"
   ]
  },
  {
   "cell_type": "code",
   "execution_count": 2,
   "metadata": {},
   "outputs": [
    {
     "name": "stdout",
     "output_type": "stream",
     "text": [
      "len(var1):  12\n"
     ]
    }
   ],
   "source": [
    "# 字符串长度len()\n",
    "print(\"len(var1): \", len(var1))  #11"
   ]
  },
  {
   "cell_type": "code",
   "execution_count": 3,
   "metadata": {},
   "outputs": [
    {
     "name": "stdout",
     "output_type": "stream",
     "text": [
      "TianChi!12\n"
     ]
    }
   ],
   "source": [
    "# 字符串拼接\n",
    "var2 = 'TianChi!'\n",
    "print(var2+str(12))"
   ]
  },
  {
   "cell_type": "code",
   "execution_count": null,
   "metadata": {},
   "outputs": [],
   "source": []
  },
  {
   "cell_type": "code",
   "execution_count": 4,
   "metadata": {},
   "outputs": [
    {
     "name": "stdout",
     "output_type": "stream",
     "text": [
      "a\n",
      "['b', 'c', 'd', 0]\n"
     ]
    }
   ],
   "source": [
    "# 列表：[]\n",
    "lists = ['a','b','c', 'd', 0, 1, 2, 3]\n",
    "print(lists[0])\n",
    "print(lists[1:5])"
   ]
  },
  {
   "cell_type": "code",
   "execution_count": 5,
   "metadata": {},
   "outputs": [
    {
     "name": "stdout",
     "output_type": "stream",
     "text": [
      "['a', 'b', 'c', 'd', 0, 1, 2, 3, 'TianChi']\n"
     ]
    }
   ],
   "source": [
    "# 在列表尾部添加元素\n",
    "lists.append('TianChi')\n",
    "print(lists)"
   ]
  },
  {
   "cell_type": "code",
   "execution_count": 6,
   "metadata": {},
   "outputs": [],
   "source": [
    "# 删除列表元素：\n",
    "del lists[2]"
   ]
  },
  {
   "cell_type": "code",
   "execution_count": 7,
   "metadata": {},
   "outputs": [
    {
     "name": "stdout",
     "output_type": "stream",
     "text": [
      "['a', 'b', 'd', 0, 1, 2, 3, 'TianChi', 35, 49]\n",
      "['a', 'b', 'd', 0, 1, 2, 3, 'TianChi', 35, 49, 'Example']\n"
     ]
    }
   ],
   "source": [
    "# 列表元素拼接\n",
    "lists += [35, 49]  \n",
    "print(lists)\n",
    "lists = lists + [\"Example\"]\n",
    "print(lists)"
   ]
  },
  {
   "cell_type": "code",
   "execution_count": null,
   "metadata": {},
   "outputs": [],
   "source": []
  },
  {
   "cell_type": "code",
   "execution_count": 8,
   "metadata": {},
   "outputs": [
    {
     "name": "stdout",
     "output_type": "stream",
     "text": [
      "{'姓名': '张三', '年龄': 18}\n",
      "<class 'dict'>\n",
      "姓名-张三\n",
      "年龄-18\n"
     ]
    }
   ],
   "source": [
    "# 字典 {key:value}\n",
    "dicts = {'姓名':'张三'}\n",
    "dicts['年龄'] = 18\n",
    "print(dicts)\n",
    "print(type(dicts))\n",
    "for k,v in dicts.items():\n",
    "    print(k+'-'+str(v))"
   ]
  },
  {
   "cell_type": "code",
   "execution_count": null,
   "metadata": {},
   "outputs": [],
   "source": []
  },
  {
   "cell_type": "code",
   "execution_count": 9,
   "metadata": {},
   "outputs": [
    {
     "name": "stdout",
     "output_type": "stream",
     "text": [
      "(1, 2, 3)\n",
      "(2, 3, 'A')\n",
      "<class 'tuple'>\n"
     ]
    }
   ],
   "source": [
    "# 元组 tuple：()\n",
    "tuples = (1,2,3)\n",
    "tuples1 = 2,3,'A'\n",
    "print(tuples)\n",
    "print(tuples1)\n",
    "print(type(tuples1))"
   ]
  },
  {
   "cell_type": "code",
   "execution_count": null,
   "metadata": {},
   "outputs": [],
   "source": []
  },
  {
   "cell_type": "code",
   "execution_count": 10,
   "metadata": {},
   "outputs": [
    {
     "name": "stdout",
     "output_type": "stream",
     "text": [
      "<class 'set'>\n",
      "{1, 2, 3, 5, '45'}\n",
      "{1, 2, 3, 5, 'apple', '45'}\n"
     ]
    }
   ],
   "source": [
    "# 集合：{}\n",
    "set1 = {1, 2, 3, '45', 3, 5}\n",
    "print(type(set1)) \n",
    "print(set1)\n",
    "set1.add('apple')\n",
    "print(set1)"
   ]
  },
  {
   "cell_type": "code",
   "execution_count": null,
   "metadata": {},
   "outputs": [],
   "source": []
  },
  {
   "cell_type": "markdown",
   "metadata": {},
   "source": [
    "#### 1.2 Python中的运算符\n",
    "<img src='https://img.alicdn.com/imgextra/i1/O1CN01GvnPer1FZV6zM3piH_!!6000000000501-2-tps-931-364.png'>"
   ]
  },
  {
   "cell_type": "code",
   "execution_count": 11,
   "metadata": {},
   "outputs": [
    {
     "name": "stdout",
     "output_type": "stream",
     "text": [
      "2\n",
      "1\n",
      "12\n",
      "0.75\n",
      "0\n",
      "3\n",
      "8\n"
     ]
    }
   ],
   "source": [
    "# 算术运算符\n",
    "print(1 + 1)  # 2\n",
    "print(2 - 1)  # 1\n",
    "print(3 * 4)  # 12\n",
    "print(3 / 4)  # 0.75\n",
    "print(3 // 4)  # 0\n",
    "print(3 % 4)  # 3\n",
    "print(2 ** 3)  # 8"
   ]
  },
  {
   "cell_type": "code",
   "execution_count": 12,
   "metadata": {},
   "outputs": [
    {
     "name": "stdout",
     "output_type": "stream",
     "text": [
      "2\n",
      "2\n"
     ]
    }
   ],
   "source": [
    "# 赋值运算符\n",
    "a = 1 \n",
    "b = a + 1\n",
    "c = 0\n",
    "c += b  # c = c + b\n",
    "print(b)\n",
    "print(c)"
   ]
  },
  {
   "cell_type": "code",
   "execution_count": 13,
   "metadata": {},
   "outputs": [
    {
     "name": "stdout",
     "output_type": "stream",
     "text": [
      "True\n",
      "False\n",
      "True\n",
      "False\n",
      "False\n",
      "True\n"
     ]
    }
   ],
   "source": [
    "# 比较运算符\n",
    "print(2 > 1)  # True\n",
    "print(2 >= 4)  # False\n",
    "print(1 < 2)  # True\n",
    "print(5 <= 2)  # False\n",
    "print(3 == 4)  # False\n",
    "print(3 != 5)  # True"
   ]
  },
  {
   "cell_type": "code",
   "execution_count": 14,
   "metadata": {},
   "outputs": [
    {
     "name": "stdout",
     "output_type": "stream",
     "text": [
      "1在[1, 2, 3, 4]中\n"
     ]
    }
   ],
   "source": [
    "# 成员运算符号\n",
    "list1 = [1,2,3,4]\n",
    "if 1 in list1:\n",
    "    print('1在%s中'%str(list1)) #通配符，稍后细讲"
   ]
  },
  {
   "cell_type": "code",
   "execution_count": 15,
   "metadata": {},
   "outputs": [
    {
     "name": "stdout",
     "output_type": "stream",
     "text": [
      "False\n",
      "True\n",
      "True\n"
     ]
    }
   ],
   "source": [
    "# 逻辑运算符\n",
    "print(1>2 and 2<3)\n",
    "print(1>2 or 2<3)\n",
    "print(not 2<1)"
   ]
  },
  {
   "cell_type": "markdown",
   "metadata": {},
   "source": [
    "#### 1.3 Python条件语句"
   ]
  },
  {
   "cell_type": "code",
   "execution_count": 16,
   "metadata": {},
   "outputs": [
    {
     "name": "stdout",
     "output_type": "stream",
     "text": [
      "1<2\n"
     ]
    }
   ],
   "source": [
    "if 1<2:\n",
    "    print('1<2')"
   ]
  },
  {
   "cell_type": "code",
   "execution_count": 17,
   "metadata": {},
   "outputs": [
    {
     "name": "stdout",
     "output_type": "stream",
     "text": [
      "1<2\n"
     ]
    }
   ],
   "source": [
    "if 1>2:\n",
    "    print('1>2')\n",
    "else:\n",
    "    print('1<2')"
   ]
  },
  {
   "cell_type": "code",
   "execution_count": 18,
   "metadata": {},
   "outputs": [
    {
     "name": "stdin",
     "output_type": "stream",
     "text": [
      "请输入成绩: 78\n"
     ]
    },
    {
     "name": "stdout",
     "output_type": "stream",
     "text": [
      "C\n"
     ]
    }
   ],
   "source": [
    "# 学生成绩等级识别\n",
    "temp = input('请输入成绩:')\n",
    "source = int(temp)\n",
    "if 100 >= source >= 90:\n",
    "    print('A')\n",
    "elif 90 > source >= 80:\n",
    "    print('B')\n",
    "elif 80 > source >= 60:\n",
    "    print('C')\n",
    "elif 60 > source >= 0:\n",
    "    print('D')\n",
    "else:\n",
    "    print('输入错误！')"
   ]
  },
  {
   "cell_type": "markdown",
   "metadata": {},
   "source": [
    "#### 1.4 Python循环语句"
   ]
  },
  {
   "cell_type": "code",
   "execution_count": 19,
   "metadata": {},
   "outputs": [
    {
     "name": "stdout",
     "output_type": "stream",
     "text": [
      "55\n"
     ]
    }
   ],
   "source": [
    "# 循环语句 for ... in\n",
    "# 计算 1+2+3+...+9+10\n",
    "sum0 = 0\n",
    "for number in range(11):\n",
    "    sum0 = sum0 + number\n",
    "print(sum0)"
   ]
  },
  {
   "cell_type": "code",
   "execution_count": 20,
   "metadata": {},
   "outputs": [
    {
     "name": "stdout",
     "output_type": "stream",
     "text": [
      "55\n"
     ]
    }
   ],
   "source": [
    "# 循环语句 while\n",
    "# 计算 1+2+3+...+9+10\n",
    "sum1 = 0\n",
    "number = 1\n",
    "while number < 11:\n",
    "    sum1 = sum1 + number\n",
    "    number = number + 1\n",
    "print(sum1)"
   ]
  },
  {
   "cell_type": "markdown",
   "metadata": {},
   "source": [
    "#### 1.4 Python通配符"
   ]
  },
  {
   "cell_type": "markdown",
   "metadata": {},
   "source": [
    "##### %s"
   ]
  },
  {
   "cell_type": "code",
   "execution_count": 21,
   "metadata": {},
   "outputs": [
    {
     "name": "stdout",
     "output_type": "stream",
     "text": [
      "string=hello\n"
     ]
    }
   ],
   "source": [
    "string=\"hello\"  \n",
    "  \n",
    "#%s打印时结果是hello  \n",
    "print(\"string=%s\" % string)      # output: string=hello  "
   ]
  },
  {
   "cell_type": "code",
   "execution_count": 22,
   "metadata": {},
   "outputs": [
    {
     "name": "stdout",
     "output_type": "stream",
     "text": [
      "string=hello\n"
     ]
    }
   ],
   "source": [
    "#%2s意思是字符串长度为2，当原字符串的长度超过2时，按原长度打印，所以%2s的打印结果还是hello  \n",
    "print(\"string=%2s\" % string)     # output: string=hello  "
   ]
  },
  {
   "cell_type": "code",
   "execution_count": 23,
   "metadata": {},
   "outputs": [
    {
     "name": "stdout",
     "output_type": "stream",
     "text": [
      "string=  hello\n"
     ]
    }
   ],
   "source": [
    "#%7s意思是字符串长度为7，当原字符串的长度小于7时，在原字符串左侧补空格，  \n",
    "#所以%7s的打印结果是  hello  \n",
    "print(\"string=%7s\" % string)     # output: string=  hello  "
   ]
  },
  {
   "cell_type": "code",
   "execution_count": 24,
   "metadata": {},
   "outputs": [
    {
     "name": "stdout",
     "output_type": "stream",
     "text": [
      "string=hello  !\n"
     ]
    }
   ],
   "source": [
    "#%-7s意思是字符串长度为7，当原字符串的长度小于7时，在原字符串右侧补空格，  \n",
    "#所以%-7s的打印结果是  hello  \n",
    "print(\"string=%-7s!\" % string)     # output: string=hello  !  "
   ]
  },
  {
   "cell_type": "code",
   "execution_count": 25,
   "metadata": {},
   "outputs": [
    {
     "name": "stdout",
     "output_type": "stream",
     "text": [
      "string=he\n"
     ]
    }
   ],
   "source": [
    "#%.2s意思是截取字符串的前2个字符，所以%.2s的打印结果是he  \n",
    "print(\"string=%.2s\" % string)    # output: string=he  "
   ]
  },
  {
   "cell_type": "code",
   "execution_count": 26,
   "metadata": {},
   "outputs": [
    {
     "name": "stdout",
     "output_type": "stream",
     "text": [
      "string=hello\n"
     ]
    }
   ],
   "source": [
    "#%.7s意思是截取字符串的前7个字符，当原字符串长度小于7时，即是字符串本身，  \n",
    "#所以%.7s的打印结果是hello  \n",
    "print(\"string=%.7s\" % string)    # output: string=hello  "
   ]
  },
  {
   "cell_type": "code",
   "execution_count": 27,
   "metadata": {},
   "outputs": [
    {
     "name": "stdout",
     "output_type": "stream",
     "text": [
      "string=     he\n",
      "string=hello\n",
      "string=     hello\n"
     ]
    }
   ],
   "source": [
    "#%a.bs这种格式是上面两种格式的综合，首先根据小数点后面的数b截取字符串，  \n",
    "#当截取的字符串长度小于a时，还需要在其左侧补空格  \n",
    "print(\"string=%7.2s\" % string)   # output: string=     he  \n",
    "print(\"string=%2.7s\" % string)   # output: string=hello  \n",
    "print(\"string=%10.7s\" % string)  # output: string=     hello  "
   ]
  },
  {
   "cell_type": "code",
   "execution_count": 28,
   "metadata": {},
   "outputs": [
    {
     "name": "stdout",
     "output_type": "stream",
     "text": [
      "string=     he\n"
     ]
    }
   ],
   "source": [
    "#还可以用%*.*s来表示精度，两个*的值分别在后面小括号的前两位数值指定  \n",
    "print(\"string=%*.*s\" % (7,2,string))      # output: string=     he  "
   ]
  },
  {
   "cell_type": "markdown",
   "metadata": {},
   "source": [
    "##### %d 整型"
   ]
  },
  {
   "cell_type": "code",
   "execution_count": 29,
   "metadata": {},
   "outputs": [
    {
     "name": "stdout",
     "output_type": "stream",
     "text": [
      "num=14\n",
      "num=14\n",
      "num= 14\n",
      "num=14 \n",
      "num=00014\n",
      "num=014\n",
      "num=014\n",
      "num=  014\n",
      "num=00014\n",
      "num= 014\n"
     ]
    }
   ],
   "source": [
    "num=14  \n",
    "  \n",
    "#%d打印时结果是14  \n",
    "print(\"num=%d\" % num)            # output: num=14  \n",
    "  \n",
    "#%1d意思是打印结果为1位整数，当整数的位数超过1位时，按整数原值打印，所以%1d的打印结果还是14  \n",
    "print(\"num=%1d\" % num)         # output: num=14  \n",
    "  \n",
    "#%3d意思是打印结果为3位整数，当整数的位数不够3位时，在整数左侧补空格，所以%3d的打印结果是 14  \n",
    "print(\"num=%3d\" % num)           # output: num= 14  \n",
    "  \n",
    "#%-3d意思是打印结果为3位整数，当整数的位数不够3位时，在整数右侧补空格，所以%3d的打印结果是14_  \n",
    "print(\"num=%-3d\" % num)          # output: num=14_  \n",
    "  \n",
    "#%05d意思是打印结果为5位整数，当整数的位数不够5位时，在整数左侧补0，所以%05d的打印结果是00014  \n",
    "print(\"num=%05d\" % num)         # output: num=00014  \n",
    "  \n",
    "#%.3d小数点后面的3意思是打印结果为3位整数，  \n",
    "#当整数的位数不够3位时，在整数左侧补0，所以%.3d的打印结果是014  \n",
    "print(\"num=%.3d\" % num)          # output: num=014  \n",
    "  \n",
    "#%.0003d小数点后面的0003和3一样，都表示3，意思是打印结果为3位整数，  \n",
    "#当整数的位数不够3位时，在整数左侧补0，所以%.3d的打印结果还是014  \n",
    "print(\"num=%.0003d\" % num)       # output: num=014  \n",
    "  \n",
    "#%5.3d是两种补齐方式的综合，当整数的位数不够3时，先在左侧补0，还是不够5位时，再在左侧补空格，  \n",
    "#规则就是补0优先，最终的长度选数值较大的那个，所以%5.3d的打印结果还是  014  \n",
    "print(\"num=%5.3d\" % num)         # output: num=  014  \n",
    "  \n",
    "#%05.3d是两种补齐方式的综合，当整数的位数不够3时，先在左侧补0，还是不够5位时，  \n",
    "#由于是05，再在左侧补0，最终的长度选数值较大的那个，所以%05.3d的打印结果还是00014  \n",
    "print(\"num=%05.3d\" % num)        # output: num=00014  \n",
    "  \n",
    "#还可以用%*.*d来表示精度，两个*的值分别在后面小括号的前两位数值指定  \n",
    "#如下，不过这种方式04就失去补0的功能，只能补空格，只有小数点后面的3才能补0  \n",
    "print(\"num=%*.*d\" % (4,3,num))  # output: num= 014  \n"
   ]
  },
  {
   "cell_type": "markdown",
   "metadata": {},
   "source": [
    "##### %f "
   ]
  },
  {
   "cell_type": "code",
   "execution_count": 30,
   "metadata": {},
   "outputs": [
    {
     "name": "stdout",
     "output_type": "stream",
     "text": [
      "PI=3.141593\n",
      "PI= 3.141593\n",
      "PI=003\n",
      "PI= 3.142\n",
      "PI=3.142 \n",
      "PI= 3.142\n"
     ]
    }
   ],
   "source": [
    "import math  \n",
    "  \n",
    "#%a.bf，a表示浮点数的打印长度，b表示浮点数小数点后面的精度  \n",
    "  \n",
    "#只是%f时表示原值，默认是小数点后5位数  \n",
    "print(\"PI=%f\" % math.pi )            # output: PI=3.141593  \n",
    "  \n",
    "#只是%9f时，表示打印长度9位数，小数点也占一位，不够左侧补空格  \n",
    "print(\"PI=%9f\" % math.pi )           # output: PI=_3.141593  \n",
    "  \n",
    "#只有.没有后面的数字时，表示去掉小数输出整数，03表示不够3位数左侧补0  \n",
    "print(\"PI=%03.f\" % math.pi)          # output: PI=003  \n",
    "  \n",
    "#%6.3f表示小数点后面精确到3位，总长度6位数，包括小数点，不够左侧补空格  \n",
    "print(\"PI=%6.3f\" % math.pi)          # output: PI=_3.142  \n",
    "  \n",
    "#%-6.3f表示小数点后面精确到3位，总长度6位数，包括小数点，不够右侧补空格  \n",
    "print(\"PI=%-6.3f\" % math.pi)         # output: PI=3.142_  \n",
    "  \n",
    "#还可以用%*.*f来表示精度，两个*的值分别在后面小括号的前两位数值指定  \n",
    "#如下，不过这种方式06就失去补0的功能，只能补空格  \n",
    "print(\"PI=%*.*f\" % (6,3,math.pi))   # output: PI=_3.142  \n"
   ]
  },
  {
   "cell_type": "markdown",
   "metadata": {},
   "source": [
    "### 二、Python进阶知识\n",
    "#### 2.1 Python函数与类"
   ]
  },
  {
   "cell_type": "code",
   "execution_count": 31,
   "metadata": {},
   "outputs": [
    {
     "name": "stdout",
     "output_type": "stream",
     "text": [
      "hello, teachers\n"
     ]
    }
   ],
   "source": [
    "# 函数定义\n",
    "def print_me(say_str):\n",
    "    print(say_str)\n",
    "    str1 = '121'\n",
    "    return str1\n",
    "\n",
    "# 调用函数\n",
    "str1 = print_me(\"hello, teachers\")\n",
    "# print_me函数将一个字符串作为传入参数，再打印出来"
   ]
  },
  {
   "cell_type": "code",
   "execution_count": 32,
   "metadata": {},
   "outputs": [
    {
     "name": "stdout",
     "output_type": "stream",
     "text": [
      "<__main__.Turtle object at 0x7fbd1c2a83c8>\n",
      "<class '__main__.Turtle'>\n",
      "我正在很努力的向前爬...\n",
      "我正在飞快的向前跑...\n",
      "我正在咬你咬你!!\n",
      "green\n"
     ]
    }
   ],
   "source": [
    "class Turtle:  # Python中的类名约定以大写字母开头\n",
    "    \"\"\"关于类的一个简单例子\"\"\"\n",
    "    # 属性\n",
    "    color = 'green'\n",
    "    weight = 10\n",
    "    legs = 4\n",
    "    shell = True\n",
    "    mouth = '大嘴'\n",
    "\n",
    "    # 方法\n",
    "    def climb(self):\n",
    "        print('我正在很努力的向前爬...')\n",
    "\n",
    "    def run(self):\n",
    "        print('我正在飞快的向前跑...')\n",
    "\n",
    "    def bite(self):\n",
    "        print('我正在咬你咬你!!')\n",
    "\n",
    "    def eat(self):\n",
    "        print('有得吃，真满足...')\n",
    "\n",
    "    def sleep(self):\n",
    "        print('困了，睡了，晚安，zzz')\n",
    "\n",
    "\n",
    "tt = Turtle()\n",
    "print(tt)\n",
    "# <__main__.Turtle object at 0x0000007C32D67F98>\n",
    "\n",
    "print(type(tt))\n",
    "# <class '__main__.Turtle'>\n",
    "\n",
    "tt.climb()\n",
    "# 我正在很努力的向前爬...\n",
    "\n",
    "tt.run()\n",
    "# 我正在飞快的向前跑...\n",
    "\n",
    "tt.bite()\n",
    "# 我正在咬你咬你!!\n",
    "\n",
    "print(tt.color)\n"
   ]
  },
  {
   "cell_type": "markdown",
   "metadata": {},
   "source": [
    "#### 2.2 模块\n",
    "Python 模块(Module)，是一个 Python 文件，以 .py 结尾，我们可以理解为一个有特定功能的app。"
   ]
  },
  {
   "cell_type": "markdown",
   "metadata": {},
   "source": [
    "<b>print与pprint</b>\n",
    "\n",
    "pprint.pprint(object, stream=None, indent=1, width=80, depth=None, *, compact=False)\n",
    "\n",
    "- stream：输出流，默认是 sys.stdout ，也就是屏幕输出。\n",
    "- indent：缩进空格数。\n",
    "- width：每行最大宽度，默认为80个字符，超过宽度会换行，但如果单个对象超过不会被换行，比如一段长字符串。\n",
    "- depth：限制数据的层级，设置后可以限制过多的嵌套。\n",
    "- compact：3.4版本新加入的参数，若设为 True ，则输出会在接近 width 限制才进行换行。"
   ]
  },
  {
   "cell_type": "code",
   "execution_count": 33,
   "metadata": {},
   "outputs": [
    {
     "name": "stdout",
     "output_type": "stream",
     "text": [
      "[['spam', 'eggs', 'anb'], [1, 3, 5, 7]]\n"
     ]
    }
   ],
   "source": [
    "import pprint  # 引入pprint模块\n",
    "stuff = [['spam', 'eggs', 'anb'],[1, 3, 5, 7]]\n",
    "print(stuff)"
   ]
  },
  {
   "cell_type": "code",
   "execution_count": 34,
   "metadata": {},
   "outputs": [
    {
     "name": "stdout",
     "output_type": "stream",
     "text": [
      "[['spam',\n",
      "  'eggs',\n",
      "  'anb'],\n",
      " [1, 3, 5, 7]]\n"
     ]
    }
   ],
   "source": [
    "pp = pprint.PrettyPrinter(indent=1, width=20)\n",
    "pp.pprint(stuff)"
   ]
  },
  {
   "cell_type": "code",
   "execution_count": 35,
   "metadata": {},
   "outputs": [
    {
     "name": "stdout",
     "output_type": "stream",
     "text": [
      "1\n",
      "0.7688574760605006\n",
      "3.1659673486295485\n",
      "二等奖\n",
      "95\n"
     ]
    }
   ],
   "source": [
    "import random  # 引入random模块\n",
    "# try random.seed(0)\n",
    "\n",
    "print( random.randint(1,10) )        # 产生 1 到 10 的一个整数型随机数  \n",
    "print( random.random() )             # 产生 0 到 1 之间的随机浮点数\n",
    "print( random.uniform(1.1,5.4) )     # 产生  1.1 到 5.4 之间的随机浮点数，区间可以不是整数\n",
    "print( random.choice(['一等奖', '二等奖', '三等奖', '谢谢参与']) )   # 从序列中随机选取一个元素\n",
    "print( random.randrange(1,100,2) )   # 生成从1到100的间隔为2的随机整数"
   ]
  },
  {
   "cell_type": "code",
   "execution_count": 36,
   "metadata": {},
   "outputs": [
    {
     "name": "stdout",
     "output_type": "stream",
     "text": [
      "1662437153.3552675\n",
      "time.struct_time(tm_year=2022, tm_mon=9, tm_mday=6, tm_hour=12, tm_min=5, tm_sec=53, tm_wday=1, tm_yday=249, tm_isdst=0)\n",
      "Tue Sep  6 12:05:53 2022\n",
      "2022-09-06 12:05:53\n"
     ]
    }
   ],
   "source": [
    "import time  # 引入time模块\n",
    "\n",
    "# 获取当前时间时间戳\n",
    "ticks = time.time()\n",
    "print(ticks)\n",
    "# 从返回浮点数的时间戳方式向时间元组转换，只要将浮点数传递给如localtime之类的函数。\n",
    "localtime = time.localtime()\n",
    "print(localtime)\n",
    "print(time.asctime(localtime))\n",
    "# 格式化成2016-03-20 11:45:39形式\n",
    "print(time.strftime(\"%Y-%m-%d %H:%M:%S\", time.localtime()))"
   ]
  },
  {
   "cell_type": "code",
   "execution_count": 37,
   "metadata": {},
   "outputs": [
    {
     "name": "stdout",
     "output_type": "stream",
     "text": [
      "2022-09-06 12:05:53.363509\n",
      "2022-09-06 12:05:53.355268\n",
      "2022-09-06 12:05:53\n"
     ]
    }
   ],
   "source": [
    "from datetime import datetime  # 引入datetime模块\n",
    "now = datetime.now() # 获取当前datetime\n",
    "print(now)\n",
    "print(datetime.fromtimestamp(ticks))  # 将时间戳转换成常规日期\n",
    "print(now.strftime( '%Y-%m-%d %H:%M:%S' )  )"
   ]
  },
  {
   "cell_type": "code",
   "execution_count": 38,
   "metadata": {},
   "outputs": [
    {
     "name": "stdout",
     "output_type": "stream",
     "text": [
      "15573563467\n",
      "15573563467\n"
     ]
    }
   ],
   "source": [
    "import re  # 引入正则表达式模块\n",
    "\n",
    "# ^a 表示匹配以a开头的字符串（只匹配一次）\n",
    "# . 表示该字符可为任意字符（只匹配一次）\n",
    "# * 表示前面的字符可以出现任意次（0次或多次）（多次匹配）\n",
    "# （） 内的为 匹配模式，通过 group函数 可以取出匹配结果\n",
    "# + ：表示前面的字符，至少出现一次\n",
    "# {n} : 控制前面字符出现次数\n",
    "# a{2} : 表示a出现两次\n",
    "# b{3,4} : 表示b至少出现3次，最多出4次\n",
    "# [] : 表示 里面包含的内容都可以进行匹配,包含内容只有表面字符含义\n",
    "# [abcd] : 表示 只要这个字符为 a/b/c/d中的一个都可以匹配成功\n",
    "# [0-9] : 表示 只要这个字符在 0-9 这个区间内，都可以匹配成功\n",
    "# [^x] : 表示匹配 字符不为 x\n",
    "\n",
    "def regtest(reg_str,line):\n",
    "    test = re.match(reg_str, line)\n",
    "    if test:\n",
    "        print(test.group(1))\n",
    "    else:\n",
    "        print(\"匹配失败！\")\n",
    "\n",
    "line01 = '电话号：15573563467阿里云天池'\n",
    "reg_str0 = '.*(1[3458][0-9]{9}).*'\n",
    "reg_str1 = '.*(1[3458][^2]{9}).*'\n",
    "regtest(reg_str0,line01)   # result : 15573563467\n",
    "regtest(reg_str1,line01)   # result : 15573563467"
   ]
  },
  {
   "cell_type": "markdown",
   "metadata": {},
   "source": [
    "<b>pandas</b>为Python编程语言提供高性能，是基于NumPy 的一种易于使用的数据结构和数据分析工具,<br>\n",
    "pandas为我们提供了高性能的高级数据结构（比如：DataFrame）和高效地操作大型数据集所需的工具，<br>\n",
    "同时提供了大量能使我们快速便捷地处理数据的函数和方法。\n",
    "\n"
   ]
  },
  {
   "cell_type": "code",
   "execution_count": 39,
   "metadata": {},
   "outputs": [
    {
     "data": {
      "text/html": [
       "<div>\n",
       "<style scoped>\n",
       "    .dataframe tbody tr th:only-of-type {\n",
       "        vertical-align: middle;\n",
       "    }\n",
       "\n",
       "    .dataframe tbody tr th {\n",
       "        vertical-align: top;\n",
       "    }\n",
       "\n",
       "    .dataframe thead th {\n",
       "        text-align: right;\n",
       "    }\n",
       "</style>\n",
       "<table border=\"1\" class=\"dataframe\">\n",
       "  <thead>\n",
       "    <tr style=\"text-align: right;\">\n",
       "      <th></th>\n",
       "      <th>CAND_ID</th>\n",
       "      <th>CAND_ELECTION_YR</th>\n",
       "      <th>FEC_ELECTION_YR</th>\n",
       "      <th>CMTE_ID</th>\n",
       "      <th>CMTE_TP</th>\n",
       "      <th>CMTE_DSGN</th>\n",
       "      <th>LINKAGE_ID</th>\n",
       "    </tr>\n",
       "  </thead>\n",
       "  <tbody>\n",
       "    <tr>\n",
       "      <th>0</th>\n",
       "      <td>C00713602</td>\n",
       "      <td>2019</td>\n",
       "      <td>2020</td>\n",
       "      <td>C00712851</td>\n",
       "      <td>O</td>\n",
       "      <td>U</td>\n",
       "      <td>228963</td>\n",
       "    </tr>\n",
       "    <tr>\n",
       "      <th>1</th>\n",
       "      <td>H0AK00105</td>\n",
       "      <td>2020</td>\n",
       "      <td>2020</td>\n",
       "      <td>C00607515</td>\n",
       "      <td>H</td>\n",
       "      <td>P</td>\n",
       "      <td>229250</td>\n",
       "    </tr>\n",
       "    <tr>\n",
       "      <th>2</th>\n",
       "      <td>H0AL01055</td>\n",
       "      <td>2020</td>\n",
       "      <td>2020</td>\n",
       "      <td>C00697789</td>\n",
       "      <td>H</td>\n",
       "      <td>P</td>\n",
       "      <td>226125</td>\n",
       "    </tr>\n",
       "  </tbody>\n",
       "</table>\n",
       "</div>"
      ],
      "text/plain": [
       "     CAND_ID  CAND_ELECTION_YR  FEC_ELECTION_YR    CMTE_ID CMTE_TP CMTE_DSGN  \\\n",
       "0  C00713602              2019             2020  C00712851       O         U   \n",
       "1  H0AK00105              2020             2020  C00607515       H         P   \n",
       "2  H0AL01055              2020             2020  C00697789       H         P   \n",
       "\n",
       "   LINKAGE_ID  \n",
       "0      228963  \n",
       "1      229250  \n",
       "2      226125  "
      ]
     },
     "execution_count": 39,
     "metadata": {},
     "output_type": "execute_result"
    }
   ],
   "source": [
    "import pandas as pd  # 引入pandas模块\n",
    "\n",
    "# 读取数据\n",
    "ccl = pd.read_csv(\"ccl.txt\", sep = '|',names=['CAND_ID','CAND_ELECTION_YR','FEC_ELECTION_YR','CMTE_ID','CMTE_TP','CMTE_DSGN','LINKAGE_ID'])\n",
    "\n",
    "# 查看数据\n",
    "ccl.head(3)"
   ]
  },
  {
   "cell_type": "code",
   "execution_count": 40,
   "metadata": {},
   "outputs": [
    {
     "data": {
      "text/plain": [
       "(6843, 7)"
      ]
     },
     "execution_count": 40,
     "metadata": {},
     "output_type": "execute_result"
    }
   ],
   "source": [
    "# 查看数据规模\n",
    "ccl.shape"
   ]
  },
  {
   "cell_type": "code",
   "execution_count": 41,
   "metadata": {},
   "outputs": [
    {
     "name": "stdout",
     "output_type": "stream",
     "text": [
      "<class 'pandas.core.frame.DataFrame'>\n",
      "RangeIndex: 6843 entries, 0 to 6842\n",
      "Data columns (total 7 columns):\n",
      " #   Column            Non-Null Count  Dtype \n",
      "---  ------            --------------  ----- \n",
      " 0   CAND_ID           6843 non-null   object\n",
      " 1   CAND_ELECTION_YR  6843 non-null   int64 \n",
      " 2   FEC_ELECTION_YR   6843 non-null   int64 \n",
      " 3   CMTE_ID           6843 non-null   object\n",
      " 4   CMTE_TP           6843 non-null   object\n",
      " 5   CMTE_DSGN         6843 non-null   object\n",
      " 6   LINKAGE_ID        6843 non-null   int64 \n",
      "dtypes: int64(3), object(4)\n",
      "memory usage: 374.4+ KB\n"
     ]
    }
   ],
   "source": [
    "# 查看整体数据信息，包括每个字段的名称、非空数量、字段的数据类型\n",
    "ccl.info()"
   ]
  },
  {
   "cell_type": "code",
   "execution_count": 42,
   "metadata": {},
   "outputs": [
    {
     "data": {
      "text/html": [
       "<div>\n",
       "<style scoped>\n",
       "    .dataframe tbody tr th:only-of-type {\n",
       "        vertical-align: middle;\n",
       "    }\n",
       "\n",
       "    .dataframe tbody tr th {\n",
       "        vertical-align: top;\n",
       "    }\n",
       "\n",
       "    .dataframe thead th {\n",
       "        text-align: right;\n",
       "    }\n",
       "</style>\n",
       "<table border=\"1\" class=\"dataframe\">\n",
       "  <thead>\n",
       "    <tr style=\"text-align: right;\">\n",
       "      <th></th>\n",
       "      <th>CAND_ELECTION_YR</th>\n",
       "      <th>FEC_ELECTION_YR</th>\n",
       "      <th>LINKAGE_ID</th>\n",
       "    </tr>\n",
       "  </thead>\n",
       "  <tbody>\n",
       "    <tr>\n",
       "      <th>count</th>\n",
       "      <td>6843.000000</td>\n",
       "      <td>6843.0</td>\n",
       "      <td>6843.000000</td>\n",
       "    </tr>\n",
       "    <tr>\n",
       "      <th>mean</th>\n",
       "      <td>2019.372059</td>\n",
       "      <td>2020.0</td>\n",
       "      <td>226992.078474</td>\n",
       "    </tr>\n",
       "    <tr>\n",
       "      <th>std</th>\n",
       "      <td>19.201956</td>\n",
       "      <td>0.0</td>\n",
       "      <td>3626.059046</td>\n",
       "    </tr>\n",
       "    <tr>\n",
       "      <th>min</th>\n",
       "      <td>1984.000000</td>\n",
       "      <td>2020.0</td>\n",
       "      <td>222106.000000</td>\n",
       "    </tr>\n",
       "    <tr>\n",
       "      <th>25%</th>\n",
       "      <td>2018.000000</td>\n",
       "      <td>2020.0</td>\n",
       "      <td>223859.500000</td>\n",
       "    </tr>\n",
       "    <tr>\n",
       "      <th>50%</th>\n",
       "      <td>2020.000000</td>\n",
       "      <td>2020.0</td>\n",
       "      <td>225625.000000</td>\n",
       "    </tr>\n",
       "    <tr>\n",
       "      <th>75%</th>\n",
       "      <td>2020.000000</td>\n",
       "      <td>2020.0</td>\n",
       "      <td>230250.500000</td>\n",
       "    </tr>\n",
       "    <tr>\n",
       "      <th>max</th>\n",
       "      <td>2929.000000</td>\n",
       "      <td>2020.0</td>\n",
       "      <td>234054.000000</td>\n",
       "    </tr>\n",
       "  </tbody>\n",
       "</table>\n",
       "</div>"
      ],
      "text/plain": [
       "       CAND_ELECTION_YR  FEC_ELECTION_YR     LINKAGE_ID\n",
       "count       6843.000000           6843.0    6843.000000\n",
       "mean        2019.372059           2020.0  226992.078474\n",
       "std           19.201956              0.0    3626.059046\n",
       "min         1984.000000           2020.0  222106.000000\n",
       "25%         2018.000000           2020.0  223859.500000\n",
       "50%         2020.000000           2020.0  225625.000000\n",
       "75%         2020.000000           2020.0  230250.500000\n",
       "max         2929.000000           2020.0  234054.000000"
      ]
     },
     "execution_count": 42,
     "metadata": {},
     "output_type": "execute_result"
    }
   ],
   "source": [
    "# 数据探索\n",
    "ccl.describe()"
   ]
  },
  {
   "cell_type": "code",
   "execution_count": 43,
   "metadata": {},
   "outputs": [],
   "source": [
    "# 数据处理\n",
    "df1 = pd.DataFrame( # 成绩\n",
    "    {'姓名':['张三', '李四', '王五', '赵六', '刘七'],\n",
    "    '成绩':[98, 88, 90, 80, None]}\n",
    ")\n",
    "\n",
    "df2 = pd.DataFrame( # 小组\n",
    "    {'姓名':['张三', '李四', '王五', '赵六', '刘七'],\n",
    "    '小组':[101, 102, 101, 102, 102]}\n",
    ")"
   ]
  },
  {
   "cell_type": "code",
   "execution_count": 44,
   "metadata": {},
   "outputs": [
    {
     "data": {
      "text/html": [
       "<div>\n",
       "<style scoped>\n",
       "    .dataframe tbody tr th:only-of-type {\n",
       "        vertical-align: middle;\n",
       "    }\n",
       "\n",
       "    .dataframe tbody tr th {\n",
       "        vertical-align: top;\n",
       "    }\n",
       "\n",
       "    .dataframe thead th {\n",
       "        text-align: right;\n",
       "    }\n",
       "</style>\n",
       "<table border=\"1\" class=\"dataframe\">\n",
       "  <thead>\n",
       "    <tr style=\"text-align: right;\">\n",
       "      <th></th>\n",
       "      <th>姓名</th>\n",
       "      <th>成绩</th>\n",
       "      <th>小组</th>\n",
       "    </tr>\n",
       "  </thead>\n",
       "  <tbody>\n",
       "    <tr>\n",
       "      <th>0</th>\n",
       "      <td>张三</td>\n",
       "      <td>98.0</td>\n",
       "      <td>101</td>\n",
       "    </tr>\n",
       "    <tr>\n",
       "      <th>1</th>\n",
       "      <td>李四</td>\n",
       "      <td>88.0</td>\n",
       "      <td>102</td>\n",
       "    </tr>\n",
       "    <tr>\n",
       "      <th>2</th>\n",
       "      <td>王五</td>\n",
       "      <td>90.0</td>\n",
       "      <td>101</td>\n",
       "    </tr>\n",
       "    <tr>\n",
       "      <th>3</th>\n",
       "      <td>赵六</td>\n",
       "      <td>80.0</td>\n",
       "      <td>102</td>\n",
       "    </tr>\n",
       "    <tr>\n",
       "      <th>4</th>\n",
       "      <td>刘七</td>\n",
       "      <td>NaN</td>\n",
       "      <td>102</td>\n",
       "    </tr>\n",
       "  </tbody>\n",
       "</table>\n",
       "</div>"
      ],
      "text/plain": [
       "   姓名    成绩   小组\n",
       "0  张三  98.0  101\n",
       "1  李四  88.0  102\n",
       "2  王五  90.0  101\n",
       "3  赵六  80.0  102\n",
       "4  刘七   NaN  102"
      ]
     },
     "execution_count": 44,
     "metadata": {},
     "output_type": "execute_result"
    }
   ],
   "source": [
    "# 数据合并\n",
    "df3 = df1.merge(df2) \n",
    "df3"
   ]
  },
  {
   "cell_type": "code",
   "execution_count": 45,
   "metadata": {},
   "outputs": [
    {
     "name": "stdout",
     "output_type": "stream",
     "text": [
      "<class 'pandas.core.frame.DataFrame'>\n",
      "Int64Index: 5 entries, 0 to 4\n",
      "Data columns (total 3 columns):\n",
      " #   Column  Non-Null Count  Dtype  \n",
      "---  ------  --------------  -----  \n",
      " 0   姓名      5 non-null      object \n",
      " 1   成绩      4 non-null      float64\n",
      " 2   小组      5 non-null      int64  \n",
      "dtypes: float64(1), int64(1), object(1)\n",
      "memory usage: 160.0+ bytes\n"
     ]
    }
   ],
   "source": [
    "df3.info()"
   ]
  },
  {
   "cell_type": "code",
   "execution_count": 46,
   "metadata": {},
   "outputs": [],
   "source": [
    "# 处理缺失值\n",
    "df3['成绩'].fillna(df3['成绩'].mean(),inplace=True)"
   ]
  },
  {
   "cell_type": "code",
   "execution_count": 47,
   "metadata": {},
   "outputs": [
    {
     "data": {
      "text/html": [
       "<div>\n",
       "<style scoped>\n",
       "    .dataframe tbody tr th:only-of-type {\n",
       "        vertical-align: middle;\n",
       "    }\n",
       "\n",
       "    .dataframe tbody tr th {\n",
       "        vertical-align: top;\n",
       "    }\n",
       "\n",
       "    .dataframe thead th {\n",
       "        text-align: right;\n",
       "    }\n",
       "</style>\n",
       "<table border=\"1\" class=\"dataframe\">\n",
       "  <thead>\n",
       "    <tr style=\"text-align: right;\">\n",
       "      <th></th>\n",
       "      <th>姓名</th>\n",
       "      <th>成绩</th>\n",
       "      <th>小组</th>\n",
       "    </tr>\n",
       "  </thead>\n",
       "  <tbody>\n",
       "    <tr>\n",
       "      <th>0</th>\n",
       "      <td>张三</td>\n",
       "      <td>98.0</td>\n",
       "      <td>101</td>\n",
       "    </tr>\n",
       "    <tr>\n",
       "      <th>1</th>\n",
       "      <td>李四</td>\n",
       "      <td>88.0</td>\n",
       "      <td>102</td>\n",
       "    </tr>\n",
       "    <tr>\n",
       "      <th>2</th>\n",
       "      <td>王五</td>\n",
       "      <td>90.0</td>\n",
       "      <td>101</td>\n",
       "    </tr>\n",
       "    <tr>\n",
       "      <th>3</th>\n",
       "      <td>赵六</td>\n",
       "      <td>80.0</td>\n",
       "      <td>102</td>\n",
       "    </tr>\n",
       "    <tr>\n",
       "      <th>4</th>\n",
       "      <td>刘七</td>\n",
       "      <td>89.0</td>\n",
       "      <td>102</td>\n",
       "    </tr>\n",
       "  </tbody>\n",
       "</table>\n",
       "</div>"
      ],
      "text/plain": [
       "   姓名    成绩   小组\n",
       "0  张三  98.0  101\n",
       "1  李四  88.0  102\n",
       "2  王五  90.0  101\n",
       "3  赵六  80.0  102\n",
       "4  刘七  89.0  102"
      ]
     },
     "execution_count": 47,
     "metadata": {},
     "output_type": "execute_result"
    }
   ],
   "source": [
    "df3"
   ]
  },
  {
   "cell_type": "markdown",
   "metadata": {},
   "source": [
    "#### 2.3 Python文件处理\n",
    "Python open() 方法用于打开一个文件，并返回文件对象，在对文件进行处理过程都需要使用到这个函数。\n",
    "\n",
    "\n",
    "注意：使用 open() 方法一定要保证关闭文件对象，即调用 close() 方法。\n",
    "\n",
    "\n",
    "open() 函数常用形式是接收两个参数：文件名(file)和模式(mode)。\n",
    "\n"
   ]
  },
  {
   "cell_type": "code",
   "execution_count": 48,
   "metadata": {},
   "outputs": [
    {
     "name": "stdout",
     "output_type": "stream",
     "text": [
      "<class 'str'>\n",
      "C00713602|\n"
     ]
    }
   ],
   "source": [
    "# 读取数据\n",
    "file1 = open('ccl.txt','r')\n",
    "file_str = file1.read()\n",
    "print(type(file_str))\n",
    "print(file_str[0:10])\n",
    "file1.close()"
   ]
  },
  {
   "cell_type": "code",
   "execution_count": 49,
   "metadata": {},
   "outputs": [
    {
     "name": "stdout",
     "output_type": "stream",
     "text": [
      "H0AK00105|2020|2020|C00607515|H|P|229250\n",
      "\n"
     ]
    }
   ],
   "source": [
    "with open('ccl.txt','r') as file2: \n",
    "    list1 = []\n",
    "    for i in file2.readlines():\n",
    "        list1.append(i)\n",
    "    print(list1[1])"
   ]
  },
  {
   "cell_type": "code",
   "execution_count": 50,
   "metadata": {},
   "outputs": [],
   "source": [
    "# 写入数据\n",
    "str1 = 'Hello TianChi!'\n",
    "with open('123.txt','w') as file:\n",
    "    file.write(str1)"
   ]
  },
  {
   "cell_type": "markdown",
   "metadata": {},
   "source": [
    "#### 2.4 Python列表解析式、生成器表达式\n",
    "\n",
    "<b>列表解析式</b>\n",
    "print([i*2 for i in range(11)])\n",
    "\n",
    "<b>生成器表达式</b>\n",
    "把列表解析的[]换成() 得到的就是生成器表达式\n",
    "\n",
    "列表解析与生成器表达式都是一种便利的编程方式，只不过生成器表达式更节省内存"
   ]
  },
  {
   "cell_type": "code",
   "execution_count": 51,
   "metadata": {},
   "outputs": [
    {
     "name": "stdout",
     "output_type": "stream",
     "text": [
      "<generator object <genexpr> at 0x7fbc577e0f68>\n",
      "[1, 2, 3, 4, 5]\n",
      "[1, 2, 3, 4, 5]\n"
     ]
    }
   ],
   "source": [
    "result=[i for i in range(1,6)]\n",
    "obj=(i for i in range(1,6))\n",
    "print(obj) \n",
    "print(list(obj))\n",
    "print(result)\n",
    "\n",
    "# 输出结果：\n",
    "# <generator object <genexpr> at 0x7f2336f12d58>\n",
    "# [1, 2, 3, 4, 5]\n",
    "# [1, 2, 3, 4, 5]"
   ]
  },
  {
   "cell_type": "markdown",
   "metadata": {},
   "source": [
    "### 三、Python学习测试\n",
    "1、求1+3+5+7+...+99的求和，用Python该如何写"
   ]
  },
  {
   "cell_type": "markdown",
   "metadata": {},
   "source": [
    "2、在DNA中有4种碱基，分别为ATCG，其中符号“A”和“T”是互补的，符号“C”和“G”是互补的，现给定一个DNA序列，求出他的互补DNA序列，编写函数 DNA_strand(dna)<br>\n",
    "\n",
    "测试用例：<br>\n",
    "DNA_strand (\"ATTGC\") # return \"TAACG\"<br>\n",
    "DNA_strand(\"AAAA\")<br>\n",
    "DNA_strand(\"ATCGT\")\n"
   ]
  },
  {
   "cell_type": "markdown",
   "metadata": {},
   "source": [
    "3、编写一个函数duplicate_count(text)，这个函数返回输入字符串text中多次出现的字符的个数（不区分大小写的字母字符和数字，输入字符串只包含字母(大写和小写)和数字）\n",
    "\n",
    "测试用例：<br>\n",
    "\"abcde\" -> 0<br>\n",
    "\"aabBcde\" -> 2<br>\n",
    "\"indivisibility\" -> 1<br>\n"
   ]
  },
  {
   "cell_type": "code",
   "execution_count": null,
   "metadata": {},
   "outputs": [],
   "source": []
  }
 ],
 "metadata": {
  "kernelspec": {
   "display_name": "Python 3",
   "language": "python",
   "name": "python3"
  },
  "language_info": {
   "codemirror_mode": {
    "name": "ipython",
    "version": 3
   },
   "file_extension": ".py",
   "mimetype": "text/x-python",
   "name": "python",
   "nbconvert_exporter": "python",
   "pygments_lexer": "ipython3",
   "version": "3.6.5"
  },
  "tianchi_metadata": {
   "competitions": [],
   "datasets": [
    {
     "id": "13746",
     "title": "ccl"
    }
   ],
   "description": "",
   "notebookId": "58949",
   "source": "ailab"
  }
 },
 "nbformat": 4,
 "nbformat_minor": 4
}
