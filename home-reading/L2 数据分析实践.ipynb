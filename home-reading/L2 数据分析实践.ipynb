{
 "cells": [
  {
   "cell_type": "markdown",
   "metadata": {
    "uuid": "e65b786f-8da2-46a7-b421-4265bcc43715"
   },
   "source": [
    "### 1、数据准备"
   ]
  },
  {
   "cell_type": "markdown",
   "metadata": {
    "uuid": "a73c2fa8-4465-4877-b570-59e8cc439847"
   },
   "source": [
    "#### 1.1 前言\n",
    "本次数据分析实践主要带领学习者利用Python进行数据分析以及数据可视化，包含数据集的处理、数据探索与清晰、数据分析、数据可视化四部分，利用pandas、matplotlib、wordcloud等第三方库带大家玩转数据分析～\n",
    "\n",
    "#### 1.2 数据集来源介绍\n",
    "**所有候选人信息** \n",
    "<br>该文件为每个候选人提供一份记录，并显示候选人的信息、总收入、从授权委员会收到的转账、付款总额、给授权委员会的转账、库存现金总额、贷款和债务以及其他财务汇总信息。\n",
    "<br>数据字段描述详细:https://www.fec.gov/campaign-finance-data/all-candidates-file-description/\n",
    "<br>关键字段说明\n",
    "- CAND_ID 候选人ID\n",
    "- CAND_NAME 候选人姓名\n",
    "- CAND_PTY_AFFILIATION 候选人党派\n",
    "\n",
    "<br>数据来源:https://www.fec.gov/files/bulk-downloads/2020/weball20.zip\n",
    "\n",
    "**候选人委员会链接信息** \n",
    "<br>该文件显示候选人的身份证号码、候选人的选举年份、联邦选举委员会选举年份、委员会识别号、委员会类型、委员会名称和链接标识号。\n",
    "<br>信息描述详细:https://www.fec.gov/campaign-finance-data/candidate-committee-linkage-file-description/\n",
    "<br>关键字段说明\n",
    "- CAND_ID 候选人ID\n",
    "- CAND_ELECTION_YR 候选人选举年份\n",
    "- CMTE_ID 委员会ID\n",
    "\n",
    "<br>数据来源:https://www.fec.gov/files/bulk-downloads/2020/ccl20.zip\n",
    "\n",
    "**个人捐款档案信息** \n",
    "【注意】由于文件较大，本数据集只包含2020.7.22-2020.8.20的相关数据，如果需要更全数据可以通过数据来源中的地址下载。\n",
    "<br>该文件包含有关收到捐款的委员会、披露捐款的报告、提供捐款的个人、捐款日期、金额和有关捐款的其他信息。\n",
    "<br>信息描述详细:[https://www.fec.gov/campaign-finance-data/contributions-individuals-file-description/](https://www.fec.gov/campaign-finance-data/contributions-individuals-file-description/)\n",
    "<br>关键字段说明\n",
    "- CMTE_ID  委员会ID\n",
    "- NAME 捐款人姓名\n",
    "- CITY 捐款人所在市\n",
    "- State 捐款人所在州\n",
    "- EMPLOYER 捐款人雇主/公司\n",
    "- OCCUPATION 捐款人职业\n",
    "\n",
    "<br>数据来源:https://www.fec.gov/files/bulk-downloads/2020/indiv20.zip\n",
    "\n",
    "#### 1.3 需要提前安装的包"
   ]
  },
  {
   "cell_type": "code",
   "execution_count": 1,
   "metadata": {},
   "outputs": [],
   "source": [
    "# 安装词云处理包wordcloud\n",
    "#!pip install wordcloud --user \n",
    "#pip install --upgrade pip #upgrade pip if there is error"
   ]
  },
  {
   "cell_type": "markdown",
   "metadata": {
    "uuid": "55327b96-9727-4e64-871d-82f29778504f"
   },
   "source": [
    "#### 1.4 需要提前下载好数据集\n",
    "<br>在进行数据处理前，你需要点击DSW左侧`天池`tab，下载本案例数据集`数据分析实践`，后续步骤才能正确执行。"
   ]
  },
  {
   "cell_type": "markdown",
   "metadata": {},
   "source": [
    "### 2、数据处理\n",
    "进行数据处理前，我们需要知道我们最终想要的数据是什么样的，因为我们是想分析候选人与捐赠人之间的关系，所以我们想要一张数据表中有捐赠人与候选人一一对应的关系，所以需要将目前的三张数据表进行一一关联，汇总到需要的数据。"
   ]
  },
  {
   "cell_type": "markdown",
   "metadata": {
    "uuid": "e13f9451-de51-4eed-ad7f-b5f4e5477270"
   },
   "source": [
    "#### 2.1 将委员会和候选人一一对应，通过`CAND_ID`关联两个表\n",
    "由于候选人和委员会的联系表中无候选人姓名，只有候选人ID（`CAND_ID`），所以需要通过`CAND_ID`从候选人表中获取到候选人姓名，最终得到候选人与委员会联系表`ccl`。"
   ]
  },
  {
   "cell_type": "code",
   "execution_count": 2,
   "metadata": {
    "uuid": "2d7aa464-c03b-4804-979c-755a682fe034"
   },
   "outputs": [],
   "source": [
    "# 导入相关处理包\n",
    "import pandas as pd"
   ]
  },
  {
   "cell_type": "code",
   "execution_count": 3,
   "metadata": {
    "uuid": "68eb1ac7-d77d-4de4-8e65-431df8edb356"
   },
   "outputs": [],
   "source": [
    "# 读取候选人信息，由于原始数据没有表头，需要添加表头\n",
    "candidates = pd.read_csv(\"weball20.txt\", sep = '|',names=['CAND_ID','CAND_NAME','CAND_ICI','PTY_CD','CAND_PTY_AFFILIATION','TTL_RECEIPTS',\n",
    "                                                          'TRANS_FROM_AUTH','TTL_DISB','TRANS_TO_AUTH','COH_BOP','COH_COP','CAND_CONTRIB',\n",
    "                                                          'CAND_LOANS','OTHER_LOANS','CAND_LOAN_REPAY','OTHER_LOAN_REPAY','DEBTS_OWED_BY',\n",
    "                                                          'TTL_INDIV_CONTRIB','CAND_OFFICE_ST','CAND_OFFICE_DISTRICT','SPEC_ELECTION','PRIM_ELECTION','RUN_ELECTION'\n",
    "                                                          ,'GEN_ELECTION','GEN_ELECTION_PRECENT','OTHER_POL_CMTE_CONTRIB','POL_PTY_CONTRIB',\n",
    "                                                          'CVG_END_DT','INDIV_REFUNDS','CMTE_REFUNDS'])\n",
    "# 读取候选人和委员会的联系信息\n",
    "ccl = pd.read_csv(\"ccl.txt\", sep = '|',names=['CAND_ID','CAND_ELECTION_YR','FEC_ELECTION_YR','CMTE_ID','CMTE_TP','CMTE_DSGN','LINKAGE_ID'])"
   ]
  },
  {
   "cell_type": "code",
   "execution_count": 4,
   "metadata": {
    "uuid": "e56e671d-bd19-4785-95da-78a07096c4fa"
   },
   "outputs": [],
   "source": [
    "# 关联两个表数据\n",
    "ccl = pd.merge(ccl,candidates)\n",
    "# 提取出所需要的列\n",
    "ccl = pd.DataFrame(ccl, columns=[ 'CMTE_ID','CAND_ID', 'CAND_NAME','CAND_PTY_AFFILIATION'])"
   ]
  },
  {
   "cell_type": "markdown",
   "metadata": {
    "uuid": "e0759da0-7584-4a96-ab96-1c089bce2bfd"
   },
   "source": [
    "数据字段说明：\n",
    "- CMTE_ID：委员会ID\n",
    "- CAND_ID：候选人ID\n",
    "- CAND_NAME：候选人姓名\n",
    "- CAND_PTY_AFFILIATION：候选人党派"
   ]
  },
  {
   "cell_type": "code",
   "execution_count": 5,
   "metadata": {
    "uuid": "e79868f7-7905-4571-a25c-803f1d8ddf97"
   },
   "outputs": [
    {
     "data": {
      "text/html": [
       "<div>\n",
       "<style scoped>\n",
       "    .dataframe tbody tr th:only-of-type {\n",
       "        vertical-align: middle;\n",
       "    }\n",
       "\n",
       "    .dataframe tbody tr th {\n",
       "        vertical-align: top;\n",
       "    }\n",
       "\n",
       "    .dataframe thead th {\n",
       "        text-align: right;\n",
       "    }\n",
       "</style>\n",
       "<table border=\"1\" class=\"dataframe\">\n",
       "  <thead>\n",
       "    <tr style=\"text-align: right;\">\n",
       "      <th></th>\n",
       "      <th>CMTE_ID</th>\n",
       "      <th>CAND_ID</th>\n",
       "      <th>CAND_NAME</th>\n",
       "      <th>CAND_PTY_AFFILIATION</th>\n",
       "    </tr>\n",
       "  </thead>\n",
       "  <tbody>\n",
       "    <tr>\n",
       "      <th>0</th>\n",
       "      <td>C00697789</td>\n",
       "      <td>H0AL01055</td>\n",
       "      <td>CARL, JERRY LEE, JR</td>\n",
       "      <td>REP</td>\n",
       "    </tr>\n",
       "    <tr>\n",
       "      <th>1</th>\n",
       "      <td>C00701557</td>\n",
       "      <td>H0AL01063</td>\n",
       "      <td>LAMBERT, DOUGLAS WESTLEY III</td>\n",
       "      <td>REP</td>\n",
       "    </tr>\n",
       "    <tr>\n",
       "      <th>2</th>\n",
       "      <td>C00701409</td>\n",
       "      <td>H0AL01071</td>\n",
       "      <td>PRINGLE, CHRISTOPHER PAUL</td>\n",
       "      <td>REP</td>\n",
       "    </tr>\n",
       "    <tr>\n",
       "      <th>3</th>\n",
       "      <td>C00703066</td>\n",
       "      <td>H0AL01089</td>\n",
       "      <td>HIGHTOWER, BILL</td>\n",
       "      <td>REP</td>\n",
       "    </tr>\n",
       "    <tr>\n",
       "      <th>4</th>\n",
       "      <td>C00708867</td>\n",
       "      <td>H0AL01097</td>\n",
       "      <td>AVERHART, JAMES</td>\n",
       "      <td>DEM</td>\n",
       "    </tr>\n",
       "    <tr>\n",
       "      <th>5</th>\n",
       "      <td>C00710947</td>\n",
       "      <td>H0AL01105</td>\n",
       "      <td>GARDNER, KIANI A</td>\n",
       "      <td>DEM</td>\n",
       "    </tr>\n",
       "    <tr>\n",
       "      <th>6</th>\n",
       "      <td>C00722512</td>\n",
       "      <td>H0AL01121</td>\n",
       "      <td>CASTORANI, JOHN</td>\n",
       "      <td>REP</td>\n",
       "    </tr>\n",
       "    <tr>\n",
       "      <th>7</th>\n",
       "      <td>C00725069</td>\n",
       "      <td>H0AL01139</td>\n",
       "      <td>COLLINS, FREDERICK G. RICK'</td>\n",
       "      <td>DEM</td>\n",
       "    </tr>\n",
       "    <tr>\n",
       "      <th>8</th>\n",
       "      <td>C00462143</td>\n",
       "      <td>H0AL02087</td>\n",
       "      <td>ROBY, MARTHA</td>\n",
       "      <td>REP</td>\n",
       "    </tr>\n",
       "    <tr>\n",
       "      <th>9</th>\n",
       "      <td>C00493783</td>\n",
       "      <td>H0AL02087</td>\n",
       "      <td>ROBY, MARTHA</td>\n",
       "      <td>REP</td>\n",
       "    </tr>\n",
       "  </tbody>\n",
       "</table>\n",
       "</div>"
      ],
      "text/plain": [
       "     CMTE_ID    CAND_ID                     CAND_NAME CAND_PTY_AFFILIATION\n",
       "0  C00697789  H0AL01055           CARL, JERRY LEE, JR                  REP\n",
       "1  C00701557  H0AL01063  LAMBERT, DOUGLAS WESTLEY III                  REP\n",
       "2  C00701409  H0AL01071     PRINGLE, CHRISTOPHER PAUL                  REP\n",
       "3  C00703066  H0AL01089               HIGHTOWER, BILL                  REP\n",
       "4  C00708867  H0AL01097               AVERHART, JAMES                  DEM\n",
       "5  C00710947  H0AL01105              GARDNER, KIANI A                  DEM\n",
       "6  C00722512  H0AL01121               CASTORANI, JOHN                  REP\n",
       "7  C00725069  H0AL01139   COLLINS, FREDERICK G. RICK'                  DEM\n",
       "8  C00462143  H0AL02087                  ROBY, MARTHA                  REP\n",
       "9  C00493783  H0AL02087                  ROBY, MARTHA                  REP"
      ]
     },
     "execution_count": 5,
     "metadata": {},
     "output_type": "execute_result"
    }
   ],
   "source": [
    "# 查看目前ccl数据前10行\n",
    "ccl.head(10)"
   ]
  },
  {
   "cell_type": "markdown",
   "metadata": {
    "uuid": "a7ce0ac0-7b6d-48dc-9a5d-de5f37e4427f"
   },
   "source": [
    "#### 2.2 将候选人和捐赠人一一对应，通过`CMTE_ID`关联两个表\n",
    "通过`CMTE_ID`将目前处理好的候选人和委员会关系表与人捐款档案表进行关联，得到候选人与捐赠人一一对应联系表`cil`。"
   ]
  },
  {
   "cell_type": "code",
   "execution_count": 6,
   "metadata": {
    "uuid": "078d4a62-f8f5-4578-973f-36e582767280"
   },
   "outputs": [],
   "source": [
    "# 读取个人捐赠数据，由于原始数据没有表头，需要添加表头\n",
    "# 提示：读取本文件大概需要5-10s\n",
    "itcont = pd.read_csv('itcont_2020_20200722_20200820.txt', sep='|',names=['CMTE_ID','AMNDT_IND','RPT_TP','TRANSACTION_PGI',\n",
    "                                                                                  'IMAGE_NUM','TRANSACTION_TP','ENTITY_TP','NAME','CITY',\n",
    "                                                                                  'STATE','ZIP_CODE','EMPLOYER','OCCUPATION','TRANSACTION_DT',\n",
    "                                                                                  'TRANSACTION_AMT','OTHER_ID','TRAN_ID','FILE_NUM','MEMO_CD',\n",
    "                                                                                  'MEMO_TEXT','SUB_ID'], low_memory=False)\n",
    "#low_memory 是什么\n",
    "#Pandas 在读取 csv 文件时时按块读取的，并不会一次性读取，并且对于数据的类型“都靠猜”，所以就可能出现了 Pandas 在不同块对同一列的数据“猜”出了不同的数据类型，也就造成了上述的警告。\n",
    "#而如果关闭 low_memory 功能时，Pandas  就会一次性读取 csv 中德所有数据，自然对列的数据类型也只会猜测一次，就不会造成这种警告了。但是关闭 low_memory 时，一旦 csv 文件过大，就会内存溢出，所以建议采取指定类型的方式。\n",
    "#dtype={\"attr1\": str, \"attr2\": str, ...}"
   ]
  },
  {
   "cell_type": "code",
   "execution_count": 7,
   "metadata": {
    "uuid": "174af85b-f173-407c-a4b3-abf3c7837164"
   },
   "outputs": [],
   "source": [
    "# 将候选人与委员会关系表ccl和个人捐赠数据表itcont合并，通过 CMTE_ID\n",
    "c_itcont =  pd.merge(ccl,itcont)\n",
    "# 提取需要的数据列\n",
    "c_itcont = pd.DataFrame(c_itcont, columns=[ 'CAND_NAME','NAME', 'STATE','EMPLOYER','OCCUPATION',\n",
    "                                           'TRANSACTION_AMT', 'TRANSACTION_DT','CAND_PTY_AFFILIATION'])"
   ]
  },
  {
   "cell_type": "markdown",
   "metadata": {
    "uuid": "e2f08a99-e2ad-4515-8749-f6815e29b477"
   },
   "source": [
    "**数据说明**\n",
    "- CAND_NAME – 接受捐赠的候选人姓名\n",
    "- NAME – 捐赠人姓名\n",
    "- STATE – 捐赠人所在州\n",
    "- EMPLOYER – 捐赠人所在公司\n",
    "- OCCUPATION – 捐赠人职业\n",
    "- TRANSACTION_AMT – 捐赠数额（美元）\n",
    "- TRANSACTION_DT – 收到捐款的日期\n",
    "- CAND_PTY_AFFILIATION – 候选人党派"
   ]
  },
  {
   "cell_type": "code",
   "execution_count": 8,
   "metadata": {
    "uuid": "2d8759ba-7a37-44cf-bd8e-24f2cabb8e3d"
   },
   "outputs": [
    {
     "data": {
      "text/html": [
       "<div>\n",
       "<style scoped>\n",
       "    .dataframe tbody tr th:only-of-type {\n",
       "        vertical-align: middle;\n",
       "    }\n",
       "\n",
       "    .dataframe tbody tr th {\n",
       "        vertical-align: top;\n",
       "    }\n",
       "\n",
       "    .dataframe thead th {\n",
       "        text-align: right;\n",
       "    }\n",
       "</style>\n",
       "<table border=\"1\" class=\"dataframe\">\n",
       "  <thead>\n",
       "    <tr style=\"text-align: right;\">\n",
       "      <th></th>\n",
       "      <th>CAND_NAME</th>\n",
       "      <th>NAME</th>\n",
       "      <th>STATE</th>\n",
       "      <th>EMPLOYER</th>\n",
       "      <th>OCCUPATION</th>\n",
       "      <th>TRANSACTION_AMT</th>\n",
       "      <th>TRANSACTION_DT</th>\n",
       "      <th>CAND_PTY_AFFILIATION</th>\n",
       "    </tr>\n",
       "  </thead>\n",
       "  <tbody>\n",
       "    <tr>\n",
       "      <th>0</th>\n",
       "      <td>MORGAN, JOSEPH DAVID</td>\n",
       "      <td>MARTIN, WILLIAM II</td>\n",
       "      <td>AZ</td>\n",
       "      <td>RETIRED</td>\n",
       "      <td>RETIRED</td>\n",
       "      <td>100</td>\n",
       "      <td>7242020</td>\n",
       "      <td>REP</td>\n",
       "    </tr>\n",
       "    <tr>\n",
       "      <th>1</th>\n",
       "      <td>MORGAN, JOSEPH DAVID</td>\n",
       "      <td>RODRIGUEZ, GERARDO</td>\n",
       "      <td>AZ</td>\n",
       "      <td>VA HOSPITAL</td>\n",
       "      <td>LAB TECH</td>\n",
       "      <td>40</td>\n",
       "      <td>7242020</td>\n",
       "      <td>REP</td>\n",
       "    </tr>\n",
       "    <tr>\n",
       "      <th>2</th>\n",
       "      <td>MORGAN, JOSEPH DAVID</td>\n",
       "      <td>RODRIGUEZ, GERARDO</td>\n",
       "      <td>AZ</td>\n",
       "      <td>VA HOSPITAL</td>\n",
       "      <td>LAB TECH</td>\n",
       "      <td>40</td>\n",
       "      <td>7312020</td>\n",
       "      <td>REP</td>\n",
       "    </tr>\n",
       "    <tr>\n",
       "      <th>3</th>\n",
       "      <td>WOOD, DANIEL</td>\n",
       "      <td>HOPKINS, RICHARD</td>\n",
       "      <td>AZ</td>\n",
       "      <td>POWERS-LEAVITT</td>\n",
       "      <td>INSURANCE AGENT</td>\n",
       "      <td>300</td>\n",
       "      <td>8102020</td>\n",
       "      <td>REP</td>\n",
       "    </tr>\n",
       "    <tr>\n",
       "      <th>4</th>\n",
       "      <td>WOOD, DANIEL</td>\n",
       "      <td>PENDLETON, DIANE</td>\n",
       "      <td>AZ</td>\n",
       "      <td>UNEMPLOYED</td>\n",
       "      <td>NaN</td>\n",
       "      <td>500</td>\n",
       "      <td>8072020</td>\n",
       "      <td>REP</td>\n",
       "    </tr>\n",
       "    <tr>\n",
       "      <th>5</th>\n",
       "      <td>WOOD, DANIEL</td>\n",
       "      <td>PREVATT, WILLIAM</td>\n",
       "      <td>AZ</td>\n",
       "      <td>SELF-EMPLOYED</td>\n",
       "      <td>DVM</td>\n",
       "      <td>500</td>\n",
       "      <td>7312020</td>\n",
       "      <td>REP</td>\n",
       "    </tr>\n",
       "    <tr>\n",
       "      <th>6</th>\n",
       "      <td>WOOD, DANIEL</td>\n",
       "      <td>HARDING, DOUG</td>\n",
       "      <td>AZ</td>\n",
       "      <td>MICROSURE</td>\n",
       "      <td>OPERATIONS MANAGER</td>\n",
       "      <td>2800</td>\n",
       "      <td>8102020</td>\n",
       "      <td>REP</td>\n",
       "    </tr>\n",
       "    <tr>\n",
       "      <th>7</th>\n",
       "      <td>WOOD, DANIEL</td>\n",
       "      <td>HARDING, MARI</td>\n",
       "      <td>AZ</td>\n",
       "      <td>NaN</td>\n",
       "      <td>NaN</td>\n",
       "      <td>1400</td>\n",
       "      <td>8152020</td>\n",
       "      <td>REP</td>\n",
       "    </tr>\n",
       "    <tr>\n",
       "      <th>8</th>\n",
       "      <td>WOOD, DANIEL</td>\n",
       "      <td>HEDGER, CYNTHIA</td>\n",
       "      <td>TX</td>\n",
       "      <td>NaN</td>\n",
       "      <td>NaN</td>\n",
       "      <td>200</td>\n",
       "      <td>7312020</td>\n",
       "      <td>REP</td>\n",
       "    </tr>\n",
       "    <tr>\n",
       "      <th>9</th>\n",
       "      <td>HUANG, PEGGY</td>\n",
       "      <td>HUANG - PERSONAL FUNDS, PEGGY</td>\n",
       "      <td>CA</td>\n",
       "      <td>OFFICE OF THE ATTORNEY GENERAL</td>\n",
       "      <td>DEPUTY ATTORNEY GENERAL</td>\n",
       "      <td>2600</td>\n",
       "      <td>7252020</td>\n",
       "      <td>REP</td>\n",
       "    </tr>\n",
       "  </tbody>\n",
       "</table>\n",
       "</div>"
      ],
      "text/plain": [
       "              CAND_NAME                           NAME STATE  \\\n",
       "0  MORGAN, JOSEPH DAVID             MARTIN, WILLIAM II    AZ   \n",
       "1  MORGAN, JOSEPH DAVID             RODRIGUEZ, GERARDO    AZ   \n",
       "2  MORGAN, JOSEPH DAVID             RODRIGUEZ, GERARDO    AZ   \n",
       "3          WOOD, DANIEL               HOPKINS, RICHARD    AZ   \n",
       "4          WOOD, DANIEL               PENDLETON, DIANE    AZ   \n",
       "5          WOOD, DANIEL               PREVATT, WILLIAM    AZ   \n",
       "6          WOOD, DANIEL                  HARDING, DOUG    AZ   \n",
       "7          WOOD, DANIEL                  HARDING, MARI    AZ   \n",
       "8          WOOD, DANIEL                HEDGER, CYNTHIA    TX   \n",
       "9          HUANG, PEGGY  HUANG - PERSONAL FUNDS, PEGGY    CA   \n",
       "\n",
       "                         EMPLOYER               OCCUPATION  TRANSACTION_AMT  \\\n",
       "0                         RETIRED                  RETIRED              100   \n",
       "1                     VA HOSPITAL                 LAB TECH               40   \n",
       "2                     VA HOSPITAL                 LAB TECH               40   \n",
       "3                  POWERS-LEAVITT          INSURANCE AGENT              300   \n",
       "4                      UNEMPLOYED                      NaN              500   \n",
       "5                   SELF-EMPLOYED                      DVM              500   \n",
       "6                       MICROSURE       OPERATIONS MANAGER             2800   \n",
       "7                             NaN                      NaN             1400   \n",
       "8                             NaN                      NaN              200   \n",
       "9  OFFICE OF THE ATTORNEY GENERAL  DEPUTY ATTORNEY GENERAL             2600   \n",
       "\n",
       "   TRANSACTION_DT CAND_PTY_AFFILIATION  \n",
       "0         7242020                  REP  \n",
       "1         7242020                  REP  \n",
       "2         7312020                  REP  \n",
       "3         8102020                  REP  \n",
       "4         8072020                  REP  \n",
       "5         7312020                  REP  \n",
       "6         8102020                  REP  \n",
       "7         8152020                  REP  \n",
       "8         7312020                  REP  \n",
       "9         7252020                  REP  "
      ]
     },
     "execution_count": 8,
     "metadata": {},
     "output_type": "execute_result"
    }
   ],
   "source": [
    "# 查看目前数据前10行\n",
    "c_itcont.head(10)"
   ]
  },
  {
   "cell_type": "markdown",
   "metadata": {
    "uuid": "ddc64575-baf8-4d6f-aff1-ac46e05563d1"
   },
   "source": [
    "### 3、数据探索与清洗"
   ]
  },
  {
   "cell_type": "markdown",
   "metadata": {
    "uuid": "050f57a5-f565-41ec-bb8f-9acc064c0f29"
   },
   "source": [
    "进过数据处理部分，我们获得了可用的数据集，现在我们可以利用调用`shape`属性查看数据的规模，调用`info`函数查看数据信息，调用`describe`函数查看数据分布。"
   ]
  },
  {
   "cell_type": "code",
   "execution_count": 9,
   "metadata": {
    "uuid": "f41d355d-b606-491d-b3f2-9a06cbc3b481"
   },
   "outputs": [
    {
     "data": {
      "text/plain": [
       "(756205, 8)"
      ]
     },
     "execution_count": 9,
     "metadata": {},
     "output_type": "execute_result"
    }
   ],
   "source": [
    "# 查看数据规模 多少行 多少列\n",
    "c_itcont.shape"
   ]
  },
  {
   "cell_type": "code",
   "execution_count": 10,
   "metadata": {
    "uuid": "b6c148a8-b8b8-4959-acac-b1e48548c1a0"
   },
   "outputs": [
    {
     "name": "stdout",
     "output_type": "stream",
     "text": [
      "<class 'pandas.core.frame.DataFrame'>\n",
      "Int64Index: 756205 entries, 0 to 756204\n",
      "Data columns (total 8 columns):\n",
      " #   Column                Non-Null Count   Dtype \n",
      "---  ------                --------------   ----- \n",
      " 0   CAND_NAME             756205 non-null  object\n",
      " 1   NAME                  756205 non-null  object\n",
      " 2   STATE                 756160 non-null  object\n",
      " 3   EMPLOYER              737413 non-null  object\n",
      " 4   OCCUPATION            741294 non-null  object\n",
      " 5   TRANSACTION_AMT       756205 non-null  int64 \n",
      " 6   TRANSACTION_DT        756205 non-null  int64 \n",
      " 7   CAND_PTY_AFFILIATION  756205 non-null  object\n",
      "dtypes: int64(2), object(6)\n",
      "memory usage: 51.9+ MB\n"
     ]
    }
   ],
   "source": [
    "# 查看整体数据信息，包括每个字段的名称、非空数量、字段的数据类型\n",
    "c_itcont.info()"
   ]
  },
  {
   "cell_type": "markdown",
   "metadata": {},
   "source": [
    "通过上面的探索我们知道目前数据集的一些基本情况，目前数据总共有756205行，8列，总占用内存51.9+MB，`STATE`、`EMPLOYER`、`OCCUPATION`有缺失值，另外日期列目前为int64类型，需要进行转换为str类型。"
   ]
  },
  {
   "cell_type": "code",
   "execution_count": 11,
   "metadata": {},
   "outputs": [],
   "source": [
    "#空值处理，统一填充 NOT PROVIDED\n",
    "c_itcont['STATE'].fillna('NOT PROVIDED',inplace=True)\n",
    "c_itcont['EMPLOYER'].fillna('NOT PROVIDED',inplace=True)\n",
    "c_itcont['OCCUPATION'].fillna('NOT PROVIDED',inplace=True)"
   ]
  },
  {
   "cell_type": "code",
   "execution_count": 12,
   "metadata": {},
   "outputs": [],
   "source": [
    "# 对日期TRANSACTION_DT列进行处理\n",
    "c_itcont['TRANSACTION_DT'] = c_itcont['TRANSACTION_DT'] .astype(str)\n",
    "# 将日期格式改为年月日  7242020 to 2020724\n",
    "c_itcont['TRANSACTION_DT'] = [i[3:7]+i[0]+i[1:3] for i in c_itcont['TRANSACTION_DT'] ]"
   ]
  },
  {
   "cell_type": "code",
   "execution_count": 13,
   "metadata": {},
   "outputs": [
    {
     "name": "stdout",
     "output_type": "stream",
     "text": [
      "<class 'pandas.core.frame.DataFrame'>\n",
      "Int64Index: 756205 entries, 0 to 756204\n",
      "Data columns (total 8 columns):\n",
      " #   Column                Non-Null Count   Dtype \n",
      "---  ------                --------------   ----- \n",
      " 0   CAND_NAME             756205 non-null  object\n",
      " 1   NAME                  756205 non-null  object\n",
      " 2   STATE                 756205 non-null  object\n",
      " 3   EMPLOYER              756205 non-null  object\n",
      " 4   OCCUPATION            756205 non-null  object\n",
      " 5   TRANSACTION_AMT       756205 non-null  int64 \n",
      " 6   TRANSACTION_DT        756205 non-null  object\n",
      " 7   CAND_PTY_AFFILIATION  756205 non-null  object\n",
      "dtypes: int64(1), object(7)\n",
      "memory usage: 51.9+ MB\n"
     ]
    }
   ],
   "source": [
    "# 再次查看数据信息\n",
    "c_itcont.info()"
   ]
  },
  {
   "cell_type": "code",
   "execution_count": 14,
   "metadata": {},
   "outputs": [
    {
     "data": {
      "text/html": [
       "<div>\n",
       "<style scoped>\n",
       "    .dataframe tbody tr th:only-of-type {\n",
       "        vertical-align: middle;\n",
       "    }\n",
       "\n",
       "    .dataframe tbody tr th {\n",
       "        vertical-align: top;\n",
       "    }\n",
       "\n",
       "    .dataframe thead th {\n",
       "        text-align: right;\n",
       "    }\n",
       "</style>\n",
       "<table border=\"1\" class=\"dataframe\">\n",
       "  <thead>\n",
       "    <tr style=\"text-align: right;\">\n",
       "      <th></th>\n",
       "      <th>CAND_NAME</th>\n",
       "      <th>NAME</th>\n",
       "      <th>STATE</th>\n",
       "      <th>EMPLOYER</th>\n",
       "      <th>OCCUPATION</th>\n",
       "      <th>TRANSACTION_AMT</th>\n",
       "      <th>TRANSACTION_DT</th>\n",
       "      <th>CAND_PTY_AFFILIATION</th>\n",
       "    </tr>\n",
       "  </thead>\n",
       "  <tbody>\n",
       "    <tr>\n",
       "      <th>0</th>\n",
       "      <td>MORGAN, JOSEPH DAVID</td>\n",
       "      <td>MARTIN, WILLIAM II</td>\n",
       "      <td>AZ</td>\n",
       "      <td>RETIRED</td>\n",
       "      <td>RETIRED</td>\n",
       "      <td>100</td>\n",
       "      <td>2020724</td>\n",
       "      <td>REP</td>\n",
       "    </tr>\n",
       "    <tr>\n",
       "      <th>1</th>\n",
       "      <td>MORGAN, JOSEPH DAVID</td>\n",
       "      <td>RODRIGUEZ, GERARDO</td>\n",
       "      <td>AZ</td>\n",
       "      <td>VA HOSPITAL</td>\n",
       "      <td>LAB TECH</td>\n",
       "      <td>40</td>\n",
       "      <td>2020724</td>\n",
       "      <td>REP</td>\n",
       "    </tr>\n",
       "    <tr>\n",
       "      <th>2</th>\n",
       "      <td>MORGAN, JOSEPH DAVID</td>\n",
       "      <td>RODRIGUEZ, GERARDO</td>\n",
       "      <td>AZ</td>\n",
       "      <td>VA HOSPITAL</td>\n",
       "      <td>LAB TECH</td>\n",
       "      <td>40</td>\n",
       "      <td>2020731</td>\n",
       "      <td>REP</td>\n",
       "    </tr>\n",
       "  </tbody>\n",
       "</table>\n",
       "</div>"
      ],
      "text/plain": [
       "              CAND_NAME                NAME STATE     EMPLOYER OCCUPATION  \\\n",
       "0  MORGAN, JOSEPH DAVID  MARTIN, WILLIAM II    AZ      RETIRED    RETIRED   \n",
       "1  MORGAN, JOSEPH DAVID  RODRIGUEZ, GERARDO    AZ  VA HOSPITAL   LAB TECH   \n",
       "2  MORGAN, JOSEPH DAVID  RODRIGUEZ, GERARDO    AZ  VA HOSPITAL   LAB TECH   \n",
       "\n",
       "   TRANSACTION_AMT TRANSACTION_DT CAND_PTY_AFFILIATION  \n",
       "0              100        2020724                  REP  \n",
       "1               40        2020724                  REP  \n",
       "2               40        2020731                  REP  "
      ]
     },
     "execution_count": 14,
     "metadata": {},
     "output_type": "execute_result"
    }
   ],
   "source": [
    "# 查看数据前3行\n",
    "c_itcont.head(3)"
   ]
  },
  {
   "cell_type": "code",
   "execution_count": 15,
   "metadata": {
    "uuid": "240579c3-f6ef-4c10-a7c6-df3e55f163b1"
   },
   "outputs": [
    {
     "data": {
      "text/html": [
       "<div>\n",
       "<style scoped>\n",
       "    .dataframe tbody tr th:only-of-type {\n",
       "        vertical-align: middle;\n",
       "    }\n",
       "\n",
       "    .dataframe tbody tr th {\n",
       "        vertical-align: top;\n",
       "    }\n",
       "\n",
       "    .dataframe thead th {\n",
       "        text-align: right;\n",
       "    }\n",
       "</style>\n",
       "<table border=\"1\" class=\"dataframe\">\n",
       "  <thead>\n",
       "    <tr style=\"text-align: right;\">\n",
       "      <th></th>\n",
       "      <th>TRANSACTION_AMT</th>\n",
       "    </tr>\n",
       "  </thead>\n",
       "  <tbody>\n",
       "    <tr>\n",
       "      <th>count</th>\n",
       "      <td>7.562050e+05</td>\n",
       "    </tr>\n",
       "    <tr>\n",
       "      <th>mean</th>\n",
       "      <td>1.504307e+02</td>\n",
       "    </tr>\n",
       "    <tr>\n",
       "      <th>std</th>\n",
       "      <td>2.320452e+03</td>\n",
       "    </tr>\n",
       "    <tr>\n",
       "      <th>min</th>\n",
       "      <td>-5.600000e+03</td>\n",
       "    </tr>\n",
       "    <tr>\n",
       "      <th>25%</th>\n",
       "      <td>2.000000e+01</td>\n",
       "    </tr>\n",
       "    <tr>\n",
       "      <th>50%</th>\n",
       "      <td>3.500000e+01</td>\n",
       "    </tr>\n",
       "    <tr>\n",
       "      <th>75%</th>\n",
       "      <td>1.000000e+02</td>\n",
       "    </tr>\n",
       "    <tr>\n",
       "      <th>max</th>\n",
       "      <td>1.500000e+06</td>\n",
       "    </tr>\n",
       "  </tbody>\n",
       "</table>\n",
       "</div>"
      ],
      "text/plain": [
       "       TRANSACTION_AMT\n",
       "count     7.562050e+05\n",
       "mean      1.504307e+02\n",
       "std       2.320452e+03\n",
       "min      -5.600000e+03\n",
       "25%       2.000000e+01\n",
       "50%       3.500000e+01\n",
       "75%       1.000000e+02\n",
       "max       1.500000e+06"
      ]
     },
     "execution_count": 15,
     "metadata": {},
     "output_type": "execute_result"
    }
   ],
   "source": [
    "# 查看数据表中数据类型的列的数据分布情况\n",
    "c_itcont.describe()"
   ]
  },
  {
   "cell_type": "code",
   "execution_count": 16,
   "metadata": {
    "uuid": "18fa8a40-3913-468e-9895-52928f177acc"
   },
   "outputs": [
    {
     "data": {
      "text/plain": [
       "count                 756205\n",
       "unique                   312\n",
       "top       BIDEN, JOSEPH R JR\n",
       "freq                  507816\n",
       "Name: CAND_NAME, dtype: object"
      ]
     },
     "execution_count": 16,
     "metadata": {},
     "output_type": "execute_result"
    }
   ],
   "source": [
    "# 查看单列的数据发布情况\n",
    "c_itcont['CAND_NAME'].describe()"
   ]
  },
  {
   "cell_type": "markdown",
   "metadata": {
    "uuid": "76b08b3f-2242-4f7d-82d6-23e272a249fa"
   },
   "source": [
    "### 4、数据分析"
   ]
  },
  {
   "cell_type": "code",
   "execution_count": 17,
   "metadata": {},
   "outputs": [
    {
     "data": {
      "text/html": [
       "<div>\n",
       "<style scoped>\n",
       "    .dataframe tbody tr th:only-of-type {\n",
       "        vertical-align: middle;\n",
       "    }\n",
       "\n",
       "    .dataframe tbody tr th {\n",
       "        vertical-align: top;\n",
       "    }\n",
       "\n",
       "    .dataframe thead th {\n",
       "        text-align: right;\n",
       "    }\n",
       "</style>\n",
       "<table border=\"1\" class=\"dataframe\">\n",
       "  <thead>\n",
       "    <tr style=\"text-align: right;\">\n",
       "      <th></th>\n",
       "      <th>TRANSACTION_AMT</th>\n",
       "    </tr>\n",
       "    <tr>\n",
       "      <th>CAND_PTY_AFFILIATION</th>\n",
       "      <th></th>\n",
       "    </tr>\n",
       "  </thead>\n",
       "  <tbody>\n",
       "    <tr>\n",
       "      <th>DEM</th>\n",
       "      <td>75961730</td>\n",
       "    </tr>\n",
       "    <tr>\n",
       "      <th>REP</th>\n",
       "      <td>37170653</td>\n",
       "    </tr>\n",
       "    <tr>\n",
       "      <th>IND</th>\n",
       "      <td>328802</td>\n",
       "    </tr>\n",
       "    <tr>\n",
       "      <th>LIB</th>\n",
       "      <td>169202</td>\n",
       "    </tr>\n",
       "    <tr>\n",
       "      <th>DFL</th>\n",
       "      <td>76825</td>\n",
       "    </tr>\n",
       "    <tr>\n",
       "      <th>GRE</th>\n",
       "      <td>18607</td>\n",
       "    </tr>\n",
       "    <tr>\n",
       "      <th>NON</th>\n",
       "      <td>11256</td>\n",
       "    </tr>\n",
       "    <tr>\n",
       "      <th>UNK</th>\n",
       "      <td>10195</td>\n",
       "    </tr>\n",
       "    <tr>\n",
       "      <th>CON</th>\n",
       "      <td>4117</td>\n",
       "    </tr>\n",
       "    <tr>\n",
       "      <th>BDY</th>\n",
       "      <td>3250</td>\n",
       "    </tr>\n",
       "  </tbody>\n",
       "</table>\n",
       "</div>"
      ],
      "text/plain": [
       "                      TRANSACTION_AMT\n",
       "CAND_PTY_AFFILIATION                 \n",
       "DEM                          75961730\n",
       "REP                          37170653\n",
       "IND                            328802\n",
       "LIB                            169202\n",
       "DFL                             76825\n",
       "GRE                             18607\n",
       "NON                             11256\n",
       "UNK                             10195\n",
       "CON                              4117\n",
       "BDY                              3250"
      ]
     },
     "execution_count": 17,
     "metadata": {},
     "output_type": "execute_result"
    }
   ],
   "source": [
    "# 计算每个党派的所获得的捐款总额，然后排序，取前十位\n",
    "c_itcont.groupby(\"CAND_PTY_AFFILIATION\").sum().sort_values(\"TRANSACTION_AMT\",ascending=False).head(10)"
   ]
  },
  {
   "cell_type": "code",
   "execution_count": 18,
   "metadata": {
    "uuid": "e3794468-f116-4afe-acda-47b02b29c02e"
   },
   "outputs": [
    {
     "data": {
      "text/html": [
       "<div>\n",
       "<style scoped>\n",
       "    .dataframe tbody tr th:only-of-type {\n",
       "        vertical-align: middle;\n",
       "    }\n",
       "\n",
       "    .dataframe tbody tr th {\n",
       "        vertical-align: top;\n",
       "    }\n",
       "\n",
       "    .dataframe thead th {\n",
       "        text-align: right;\n",
       "    }\n",
       "</style>\n",
       "<table border=\"1\" class=\"dataframe\">\n",
       "  <thead>\n",
       "    <tr style=\"text-align: right;\">\n",
       "      <th></th>\n",
       "      <th>TRANSACTION_AMT</th>\n",
       "    </tr>\n",
       "    <tr>\n",
       "      <th>CAND_NAME</th>\n",
       "      <th></th>\n",
       "    </tr>\n",
       "  </thead>\n",
       "  <tbody>\n",
       "    <tr>\n",
       "      <th>BIDEN, JOSEPH R JR</th>\n",
       "      <td>68111142</td>\n",
       "    </tr>\n",
       "    <tr>\n",
       "      <th>TRUMP, DONALD J.</th>\n",
       "      <td>16594982</td>\n",
       "    </tr>\n",
       "    <tr>\n",
       "      <th>SULLIVAN, DAN</th>\n",
       "      <td>9912465</td>\n",
       "    </tr>\n",
       "    <tr>\n",
       "      <th>JACOBS, CHRISTOPHER L.</th>\n",
       "      <td>6939209</td>\n",
       "    </tr>\n",
       "    <tr>\n",
       "      <th>BLOOMBERG, MICHAEL R.</th>\n",
       "      <td>3451916</td>\n",
       "    </tr>\n",
       "    <tr>\n",
       "      <th>MARKEY, EDWARD J. SEN.</th>\n",
       "      <td>606832</td>\n",
       "    </tr>\n",
       "    <tr>\n",
       "      <th>SHAHEEN, JEANNE</th>\n",
       "      <td>505446</td>\n",
       "    </tr>\n",
       "    <tr>\n",
       "      <th>KENNEDY, JOSEPH P III</th>\n",
       "      <td>467738</td>\n",
       "    </tr>\n",
       "    <tr>\n",
       "      <th>CORNYN, JOHN SEN</th>\n",
       "      <td>345959</td>\n",
       "    </tr>\n",
       "    <tr>\n",
       "      <th>FIGLESTHALER, WILLIAM MATTHEW MD</th>\n",
       "      <td>258221</td>\n",
       "    </tr>\n",
       "  </tbody>\n",
       "</table>\n",
       "</div>"
      ],
      "text/plain": [
       "                                  TRANSACTION_AMT\n",
       "CAND_NAME                                        \n",
       "BIDEN, JOSEPH R JR                       68111142\n",
       "TRUMP, DONALD J.                         16594982\n",
       "SULLIVAN, DAN                             9912465\n",
       "JACOBS, CHRISTOPHER L.                    6939209\n",
       "BLOOMBERG, MICHAEL R.                     3451916\n",
       "MARKEY, EDWARD J. SEN.                     606832\n",
       "SHAHEEN, JEANNE                            505446\n",
       "KENNEDY, JOSEPH P III                      467738\n",
       "CORNYN, JOHN SEN                           345959\n",
       "FIGLESTHALER, WILLIAM MATTHEW MD           258221"
      ]
     },
     "execution_count": 18,
     "metadata": {},
     "output_type": "execute_result"
    }
   ],
   "source": [
    "# 计算每个总统候选人所获得的捐款总额，然后排序，取前十位\n",
    "c_itcont.groupby(\"CAND_NAME\").sum().sort_values(\"TRANSACTION_AMT\",ascending=False).head(10)"
   ]
  },
  {
   "cell_type": "markdown",
   "metadata": {},
   "source": [
    "获得捐赠最多的党派有`DEM(民主党)`、`REP(共和党)`，分别对应`BIDEN, JOSEPH R JR(拜登)`和`TRUMP, DONALD J.(特朗普)`，从我们目前分析的2020.7.22-2020.8.20这一个月的数据来看，在选民的捐赠数据中拜登代表的民主党完胜特朗普代表的共和党，由于完整数据量过大，所以没有对所有数据进行汇总分析，因此也不能确定11月大选公布结果就一定是拜登当选"
   ]
  },
  {
   "cell_type": "code",
   "execution_count": 19,
   "metadata": {
    "uuid": "0c65c86b-fc39-40d9-8706-2ae752480b2f"
   },
   "outputs": [
    {
     "data": {
      "text/html": [
       "<div>\n",
       "<style scoped>\n",
       "    .dataframe tbody tr th:only-of-type {\n",
       "        vertical-align: middle;\n",
       "    }\n",
       "\n",
       "    .dataframe tbody tr th {\n",
       "        vertical-align: top;\n",
       "    }\n",
       "\n",
       "    .dataframe thead th {\n",
       "        text-align: right;\n",
       "    }\n",
       "</style>\n",
       "<table border=\"1\" class=\"dataframe\">\n",
       "  <thead>\n",
       "    <tr style=\"text-align: right;\">\n",
       "      <th></th>\n",
       "      <th>TRANSACTION_AMT</th>\n",
       "    </tr>\n",
       "    <tr>\n",
       "      <th>OCCUPATION</th>\n",
       "      <th></th>\n",
       "    </tr>\n",
       "  </thead>\n",
       "  <tbody>\n",
       "    <tr>\n",
       "      <th>NOT EMPLOYED</th>\n",
       "      <td>24436214</td>\n",
       "    </tr>\n",
       "    <tr>\n",
       "      <th>RETIRED</th>\n",
       "      <td>18669950</td>\n",
       "    </tr>\n",
       "    <tr>\n",
       "      <th>NOT PROVIDED</th>\n",
       "      <td>5089355</td>\n",
       "    </tr>\n",
       "    <tr>\n",
       "      <th>ATTORNEY</th>\n",
       "      <td>4443569</td>\n",
       "    </tr>\n",
       "    <tr>\n",
       "      <th>FOUNDER</th>\n",
       "      <td>3519109</td>\n",
       "    </tr>\n",
       "    <tr>\n",
       "      <th>PHYSICIAN</th>\n",
       "      <td>3295595</td>\n",
       "    </tr>\n",
       "    <tr>\n",
       "      <th>CONSULTANT</th>\n",
       "      <td>1647033</td>\n",
       "    </tr>\n",
       "    <tr>\n",
       "      <th>LAWYER</th>\n",
       "      <td>1565976</td>\n",
       "    </tr>\n",
       "    <tr>\n",
       "      <th>PROFESSOR</th>\n",
       "      <td>1481260</td>\n",
       "    </tr>\n",
       "    <tr>\n",
       "      <th>EXECUTIVE</th>\n",
       "      <td>1467865</td>\n",
       "    </tr>\n",
       "  </tbody>\n",
       "</table>\n",
       "</div>"
      ],
      "text/plain": [
       "              TRANSACTION_AMT\n",
       "OCCUPATION                   \n",
       "NOT EMPLOYED         24436214\n",
       "RETIRED              18669950\n",
       "NOT PROVIDED          5089355\n",
       "ATTORNEY              4443569\n",
       "FOUNDER               3519109\n",
       "PHYSICIAN             3295595\n",
       "CONSULTANT            1647033\n",
       "LAWYER                1565976\n",
       "PROFESSOR             1481260\n",
       "EXECUTIVE             1467865"
      ]
     },
     "execution_count": 19,
     "metadata": {},
     "output_type": "execute_result"
    }
   ],
   "source": [
    "# 查看不同职业的人捐款的总额，然后排序，取前十位\n",
    "c_itcont.groupby('OCCUPATION').sum().sort_values(\"TRANSACTION_AMT\",ascending=False).head(10)"
   ]
  },
  {
   "cell_type": "code",
   "execution_count": 20,
   "metadata": {},
   "outputs": [
    {
     "data": {
      "text/plain": [
       "NOT EMPLOYED    224109\n",
       "RETIRED         151834\n",
       "ATTORNEY         19666\n",
       "NOT PROVIDED     14912\n",
       "PHYSICIAN        14033\n",
       "CONSULTANT        8333\n",
       "PROFESSOR         8022\n",
       "TEACHER           8013\n",
       "ENGINEER          7922\n",
       "SALES             6435\n",
       "Name: OCCUPATION, dtype: int64"
      ]
     },
     "execution_count": 20,
     "metadata": {},
     "output_type": "execute_result"
    }
   ],
   "source": [
    "# 查看每个职业捐款人的数量，前十个\n",
    "c_itcont['OCCUPATION'].value_counts().head(10)"
   ]
  },
  {
   "cell_type": "markdown",
   "metadata": {},
   "source": [
    "从捐款人的职业这个角度分析，我们会发现`NOT EMPLOYED(自由职业)`的总捐赠额是最多，通过查看每个职业捐赠的人数来看，我们就会发现是因为`NOT EMPLOYED(自由职业)`人数多的原因，另外退休人员捐款人数也特别多，所以捐款总数对应的也多，其他比如像：律师、创始人、医生、顾问、教授、主管这些高薪人才虽然捐款总人数少，但是捐款总金额也占据了很大比例。"
   ]
  },
  {
   "cell_type": "code",
   "execution_count": 21,
   "metadata": {
    "uuid": "de63d40a-37dd-4158-9e51-1b99de6c5173"
   },
   "outputs": [
    {
     "data": {
      "text/html": [
       "<div>\n",
       "<style scoped>\n",
       "    .dataframe tbody tr th:only-of-type {\n",
       "        vertical-align: middle;\n",
       "    }\n",
       "\n",
       "    .dataframe tbody tr th {\n",
       "        vertical-align: top;\n",
       "    }\n",
       "\n",
       "    .dataframe thead th {\n",
       "        text-align: right;\n",
       "    }\n",
       "</style>\n",
       "<table border=\"1\" class=\"dataframe\">\n",
       "  <thead>\n",
       "    <tr style=\"text-align: right;\">\n",
       "      <th></th>\n",
       "      <th>TRANSACTION_AMT</th>\n",
       "    </tr>\n",
       "    <tr>\n",
       "      <th>STATE</th>\n",
       "      <th></th>\n",
       "    </tr>\n",
       "  </thead>\n",
       "  <tbody>\n",
       "    <tr>\n",
       "      <th>CA</th>\n",
       "      <td>19999115</td>\n",
       "    </tr>\n",
       "    <tr>\n",
       "      <th>NY</th>\n",
       "      <td>11468537</td>\n",
       "    </tr>\n",
       "    <tr>\n",
       "      <th>FL</th>\n",
       "      <td>8128789</td>\n",
       "    </tr>\n",
       "    <tr>\n",
       "      <th>TX</th>\n",
       "      <td>8101871</td>\n",
       "    </tr>\n",
       "    <tr>\n",
       "      <th>MA</th>\n",
       "      <td>5187957</td>\n",
       "    </tr>\n",
       "  </tbody>\n",
       "</table>\n",
       "</div>"
      ],
      "text/plain": [
       "       TRANSACTION_AMT\n",
       "STATE                 \n",
       "CA            19999115\n",
       "NY            11468537\n",
       "FL             8128789\n",
       "TX             8101871\n",
       "MA             5187957"
      ]
     },
     "execution_count": 21,
     "metadata": {},
     "output_type": "execute_result"
    }
   ],
   "source": [
    "# 每个州获捐款的总额，然后排序，取前五位\n",
    "c_itcont.groupby('STATE').sum().sort_values(\"TRANSACTION_AMT\",ascending=False).head(5)"
   ]
  },
  {
   "cell_type": "code",
   "execution_count": 22,
   "metadata": {},
   "outputs": [
    {
     "data": {
      "text/plain": [
       "CA    127895\n",
       "TX     54457\n",
       "FL     54343\n",
       "NY     49453\n",
       "MA     29314\n",
       "Name: STATE, dtype: int64"
      ]
     },
     "execution_count": 22,
     "metadata": {},
     "output_type": "execute_result"
    }
   ],
   "source": [
    "# 查看每个州捐款人的数量\n",
    "c_itcont['STATE'].value_counts().head(5)"
   ]
  },
  {
   "cell_type": "markdown",
   "metadata": {
    "uuid": "5a32e549-cc71-4456-8ba2-070af8c300e1"
   },
   "source": [
    "最后查看每个州的捐款总金额，我们会发现`CA(加利福利亚)`、`NY(纽约)`、`FL(弗罗里达)`这几个州的捐款是最多的，在捐款人数上也是在Top端，另一方面也凸显出这些州的经济水平发达。\n",
    "大家也可以通过数据查看下上面列举的高端职业在各州的分布情况，进行进一步的分析探索。"
   ]
  },
  {
   "cell_type": "markdown",
   "metadata": {
    "uuid": "ae500230-23dd-4749-9e48-9f52708a4779"
   },
   "source": [
    "### 4、数据可视化\n",
    "首先导入相关Python库"
   ]
  },
  {
   "cell_type": "code",
   "execution_count": 23,
   "metadata": {
    "uuid": "c7c4b8e3-7b4c-4419-9f87-1185258b37c5"
   },
   "outputs": [],
   "source": [
    "# 导入matplotlib中的pyplot\n",
    "import matplotlib.pyplot as plt\n",
    "# 为了使matplotlib图形能够内联显示\n",
    "%matplotlib inline\n",
    "# 导入词云库\n",
    "from wordcloud import WordCloud,ImageColorGenerator"
   ]
  },
  {
   "cell_type": "markdown",
   "metadata": {
    "uuid": "9ec2ef3e-e21f-481c-b349-2628b00510e5"
   },
   "source": [
    "#### 4.1 按州总捐款数和总捐款人数柱状图"
   ]
  },
  {
   "cell_type": "code",
   "execution_count": 24,
   "metadata": {
    "uuid": "ac7373c1-d015-442d-b673-53376f5a735c"
   },
   "outputs": [
    {
     "data": {
      "image/png": "[encoded data removed]",
      "text/plain": [
       "<Figure size 432x288 with 1 Axes>"
      ]
     },
     "metadata": {
      "needs_background": "light"
     },
     "output_type": "display_data"
    }
   ],
   "source": [
    "# 各州总捐款数可视化\n",
    "st_amt = c_itcont.groupby('STATE').sum().sort_values(\"TRANSACTION_AMT\",ascending=False)[:10] #前十行\n",
    "st_amt=pd.DataFrame(st_amt, columns=['TRANSACTION_AMT'])\n",
    "st_amt.plot(kind='bar')\n",
    "plt.show()"
   ]
  },
  {
   "cell_type": "markdown",
   "metadata": {},
   "source": [
    "#### 4.2 各州捐款总人数可视化"
   ]
  },
  {
   "cell_type": "code",
   "execution_count": 25,
   "metadata": {
    "uuid": "5194864e-9de5-4ebf-b2f0-ddbc9ae948ce"
   },
   "outputs": [
    {
     "data": {
      "image/png": "[encoded data removed]",
      "text/plain": [
       "<Figure size 432x288 with 1 Axes>"
      ]
     },
     "metadata": {
      "needs_background": "light"
     },
     "output_type": "display_data"
    }
   ],
   "source": [
    "# 各州捐款总人数可视化，取前10个州的数据\n",
    "st_amt = c_itcont.groupby('STATE').size().sort_values(ascending=False).head(10)\n",
    "st_amt.plot(kind='bar')\n",
    "plt.show()"
   ]
  },
  {
   "cell_type": "markdown",
   "metadata": {},
   "source": [
    "#### 4.3 热门候选人拜登在各州的获得的捐赠占比"
   ]
  },
  {
   "cell_type": "code",
   "execution_count": 26,
   "metadata": {},
   "outputs": [
    {
     "data": {
      "image/png": "[encoded data removed]",
      "text/plain": [
       "<Figure size 720x720 with 1 Axes>"
      ]
     },
     "metadata": {},
     "output_type": "display_data"
    }
   ],
   "source": [
    "# 从所有数据中取出支持拜登的数据\n",
    "biden = c_itcont[c_itcont['CAND_NAME']=='BIDEN, JOSEPH R JR'] #c_itcont['CAND_NAME']=='BIDEN, JOSEPH R JR': True/False #取出True那些行\n",
    "# 统计各州对拜登的捐款总数,前十\n",
    "biden_state = biden.groupby('STATE').sum().sort_values(\"TRANSACTION_AMT\", ascending=False).head(10)\n",
    "# 饼图可视化各州捐款数据占比\n",
    "biden_state.plot.pie(figsize=(10, 10),autopct='%0.2f%%',subplots=True) #%0.2f%% 浮点数格式\n",
    "plt.show()"
   ]
  },
  {
   "cell_type": "markdown",
   "metadata": {
    "uuid": "22b9d5c7-51e1-4af2-a7d5-5f72949a400f"
   },
   "source": [
    "#### 4.3 总捐最多的候选人捐赠者词云图\n",
    "通过数据分析中获得捐赠总额前三的候选人统计中可以看出拜登在2020.7.22-2020.8.20这期间获得捐赠的总额是最多的，所以我们以拜登为原模型，制作词云图。"
   ]
  },
  {
   "cell_type": "code",
   "execution_count": 27,
   "metadata": {},
   "outputs": [
    {
     "name": "stdout",
     "output_type": "stream",
     "text": [
      "--2021-09-06 11:22:57--  https://img.alicdn.com/tfs/TB10Jx4pBBh1e4jSZFhXXcC9VXa-689-390.jpg\n",
      "Resolving img.alicdn.com (img.alicdn.com)... 106.15.218.254, 106.15.218.207, 240e:978:1403:0:3::3fc, ...\n",
      "Connecting to img.alicdn.com (img.alicdn.com)|106.15.218.254|:443... connected.\n",
      "HTTP request sent, awaiting response... 200 OK\n",
      "Length: 4236 (4.1K) [image/jpeg]\n",
      "Saving to: ‘TB10Jx4pBBh1e4jSZFhXXcC9VXa-689-390.jpg’\n",
      "\n",
      "100%[======================================>] 4,236       --.-K/s   in 0s      \n",
      "\n",
      "2021-09-06 11:22:58 (1.07 GB/s) - ‘TB10Jx4pBBh1e4jSZFhXXcC9VXa-689-390.jpg’ saved [4236/4236]\n",
      "\n"
     ]
    }
   ],
   "source": [
    "# 首先下载图片模型,这里提供的是已经处理好的图片，有兴趣的选手可以自己写代码进行图片处理\n",
    "# 处理结果：需要将人图像和背景颜色分离，并纯色填充，词云才会只显示在人图像区域\n",
    "# 拜登原图：https://img.alicdn.com/tfs/TB1pUcwmZVl614jSZKPXXaGjpXa-689-390.jpg\n",
    "# 拜登处理后图片：https://img.alicdn.com/tfs/TB10Jx4pBBh1e4jSZFhXXcC9VXa-689-390.jpg\n",
    "# 特朗普原图：https://img.alicdn.com/tfs/TB1D0l4pBBh1e4jSZFhXXcC9VXa-298-169.jpg\n",
    "# 特朗普处理后图片：https://img.alicdn.com/tfs/TB1BoowmZVl614jSZKPXXaGjpXa-298-169.jpg\n",
    "# 这里我们先下载处理后的图片\n",
    "!wget https://img.alicdn.com/tfs/TB10Jx4pBBh1e4jSZFhXXcC9VXa-689-390.jpg"
   ]
  },
  {
   "cell_type": "code",
   "execution_count": 28,
   "metadata": {},
   "outputs": [],
   "source": [
    "import os\n",
    "os.rename('TB10Jx4pBBh1e4jSZFhXXcC9VXa-689-390.jpg','biden.jpg')"
   ]
  },
  {
   "cell_type": "code",
   "execution_count": 29,
   "metadata": {
    "uuid": "0f539f92-e1c9-4379-992b-d2bdab65003f"
   },
   "outputs": [
    {
     "data": {
      "image/png": "[encoded data removed]",
      "text/plain": [
       "<Figure size 432x288 with 1 Axes>"
      ]
     },
     "metadata": {
      "needs_background": "light"
     },
     "output_type": "display_data"
    }
   ],
   "source": [
    "# 在4.2 热门候选人拜登在各州的获得的捐赠占比 中我们已经取出了所有支持拜登的人的数据，存在变量：biden中\n",
    "# 将所有捐赠者姓名连接成一个字符串\n",
    "data = ' '.join(biden[\"NAME\"].tolist()) #str.join(sequence)的用法 用str来连接sequence里的字符们\n",
    "# 读取图片文件\n",
    "bg = plt.imread(\"biden.jpg\")\n",
    "# 生成\n",
    "wc = WordCloud(# FFFAE3\n",
    "    background_color=\"white\",  # 设置背景为白色，默认为黑色\n",
    "    width=890,  # 设置图片的宽度\n",
    "    height=600,  # 设置图片的高度\n",
    "    mask=bg,    # 用bg作为画布\n",
    "    margin=10,  # 设置图片的边缘\n",
    "    max_font_size=100,  # 显示的最大的字体大小\n",
    ") #设置词云图的格式\n",
    "wc=wc.generate_from_text(data) #用data里的text来生成词云\n",
    "# 图片背景\n",
    "bg_color = ImageColorGenerator(bg) #提取bg的颜色\n",
    "wc=wc.recolor(color_func=bg_color) #改变wc的颜色\n",
    "# 开始画图\n",
    "plt.imshow(wc) #画图\n",
    "# 为云图去掉坐标轴\n",
    "plt.axis(\"off\")\n",
    "# 画云图，显示\n",
    "# 保存云图\n",
    "wc.to_file(\"biden_wordcloud.png\")\n",
    "plt.show()"
   ]
  }
 ],
 "metadata": {
  "kernelspec": {
   "display_name": "Python 3",
   "language": "python",
   "name": "python3"
  },
  "language_info": {
   "codemirror_mode": {
    "name": "ipython",
    "version": 3
   },
   "file_extension": ".py",
   "mimetype": "text/x-python",
   "name": "python",
   "nbconvert_exporter": "python",
   "pygments_lexer": "ipython3",
   "version": "3.6.5"
  },
  "tianchi_metadata": {
   "competitions": [],
   "datasets": [
    {
     "id": "11640",
     "title": "数据分析实践"
    }
   ],
   "description": "",
   "notebookId": "59136",
   "source": "ailab"
  }
 },
 "nbformat": 4,
 "nbformat_minor": 4
}
