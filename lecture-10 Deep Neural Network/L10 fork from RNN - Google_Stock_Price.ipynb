{
 "cells": [
  {
   "cell_type": "markdown",
   "metadata": {},
   "source": [
    "# Predicting Google Stock Price\n",
    "### Shan Wang\n",
    "\n",
    "### 15, October, 2022\n",
    "\n",
    "[Data Source](https://www.nasdaq.com/market-activity/stocks/goog/historical)\n",
    "\n",
    "循环神经网络 (RNN) 是一类神经网络，它们在序列数据（如时间序列或自然语言）建模方面非常强大。"
   ]
  },
  {
   "cell_type": "markdown",
   "metadata": {},
   "source": [
    "## 1 Loading and Preprocessing the Data Set\n",
    "We firstly load and preprocessing the training data."
   ]
  },
  {
   "cell_type": "code",
   "execution_count": 5,
   "metadata": {},
   "outputs": [],
   "source": [
    "import pandas as pd\n",
    "train = pd.read_csv('Google_Stock_Price_Train.csv')"
   ]
  },
  {
   "cell_type": "code",
   "execution_count": 6,
   "metadata": {},
   "outputs": [
    {
     "data": {
      "text/html": [
       "<div>\n",
       "<style scoped>\n",
       "    .dataframe tbody tr th:only-of-type {\n",
       "        vertical-align: middle;\n",
       "    }\n",
       "\n",
       "    .dataframe tbody tr th {\n",
       "        vertical-align: top;\n",
       "    }\n",
       "\n",
       "    .dataframe thead th {\n",
       "        text-align: right;\n",
       "    }\n",
       "</style>\n",
       "<table border=\"1\" class=\"dataframe\">\n",
       "  <thead>\n",
       "    <tr style=\"text-align: right;\">\n",
       "      <th></th>\n",
       "      <th>Unnamed: 0</th>\n",
       "      <th>Date</th>\n",
       "      <th>Open</th>\n",
       "      <th>High</th>\n",
       "      <th>Low</th>\n",
       "      <th>Close</th>\n",
       "      <th>Volume</th>\n",
       "    </tr>\n",
       "  </thead>\n",
       "  <tbody>\n",
       "    <tr>\n",
       "      <th>0</th>\n",
       "      <td>1</td>\n",
       "      <td>1/3/2012</td>\n",
       "      <td>325.25</td>\n",
       "      <td>332.83</td>\n",
       "      <td>324.97</td>\n",
       "      <td>663.59</td>\n",
       "      <td>7,380,500</td>\n",
       "    </tr>\n",
       "    <tr>\n",
       "      <th>1</th>\n",
       "      <td>2</td>\n",
       "      <td>1/4/2012</td>\n",
       "      <td>331.27</td>\n",
       "      <td>333.87</td>\n",
       "      <td>329.08</td>\n",
       "      <td>666.45</td>\n",
       "      <td>5,749,400</td>\n",
       "    </tr>\n",
       "    <tr>\n",
       "      <th>2</th>\n",
       "      <td>3</td>\n",
       "      <td>1/5/2012</td>\n",
       "      <td>329.83</td>\n",
       "      <td>330.75</td>\n",
       "      <td>326.89</td>\n",
       "      <td>657.21</td>\n",
       "      <td>6,590,300</td>\n",
       "    </tr>\n",
       "    <tr>\n",
       "      <th>3</th>\n",
       "      <td>4</td>\n",
       "      <td>1/6/2012</td>\n",
       "      <td>328.34</td>\n",
       "      <td>328.77</td>\n",
       "      <td>323.68</td>\n",
       "      <td>648.24</td>\n",
       "      <td>5,405,900</td>\n",
       "    </tr>\n",
       "    <tr>\n",
       "      <th>4</th>\n",
       "      <td>5</td>\n",
       "      <td>1/9/2012</td>\n",
       "      <td>322.04</td>\n",
       "      <td>322.29</td>\n",
       "      <td>309.46</td>\n",
       "      <td>620.76</td>\n",
       "      <td>11,688,800</td>\n",
       "    </tr>\n",
       "  </tbody>\n",
       "</table>\n",
       "</div>"
      ],
      "text/plain": [
       "   Unnamed: 0      Date    Open    High     Low   Close      Volume\n",
       "0           1  1/3/2012  325.25  332.83  324.97  663.59   7,380,500\n",
       "1           2  1/4/2012  331.27  333.87  329.08  666.45   5,749,400\n",
       "2           3  1/5/2012  329.83  330.75  326.89  657.21   6,590,300\n",
       "3           4  1/6/2012  328.34  328.77  323.68  648.24   5,405,900\n",
       "4           5  1/9/2012  322.04  322.29  309.46  620.76  11,688,800"
      ]
     },
     "execution_count": 6,
     "metadata": {},
     "output_type": "execute_result"
    }
   ],
   "source": [
    "train.head()"
   ]
  },
  {
   "cell_type": "code",
   "execution_count": 7,
   "metadata": {},
   "outputs": [],
   "source": [
    "training_set=train.iloc[:,1:2].values"
   ]
  },
  {
   "cell_type": "code",
   "execution_count": 9,
   "metadata": {},
   "outputs": [
    {
     "ename": "ValueError",
     "evalue": "could not convert string to float: '1/3/2012'",
     "output_type": "error",
     "traceback": [
      "\u001b[1;31m---------------------------------------------------------------------------\u001b[0m",
      "\u001b[1;31mValueError\u001b[0m                                Traceback (most recent call last)",
      "\u001b[1;32mc:\\Users\\Administrator\\Documents\\GitHub\\DM-ML\\lecture-10 Deep Neural Network\\L10 fork from RNN - Google_Stock_Price.ipynb Cell 6\u001b[0m in \u001b[0;36m<cell line: 5>\u001b[1;34m()\u001b[0m\n\u001b[0;32m      <a href='vscode-notebook-cell:/c%3A/Users/Administrator/Documents/GitHub/DM-ML/lecture-10%20Deep%20Neural%20Network/L10%20fork%20from%20RNN%20-%20Google_Stock_Price.ipynb#W5sZmlsZQ%3D%3D?line=1'>2</a>\u001b[0m \u001b[39mfrom\u001b[39;00m \u001b[39msklearn\u001b[39;00m\u001b[39m.\u001b[39;00m\u001b[39mpreprocessing\u001b[39;00m \u001b[39mimport\u001b[39;00m MinMaxScaler\n\u001b[0;32m      <a href='vscode-notebook-cell:/c%3A/Users/Administrator/Documents/GitHub/DM-ML/lecture-10%20Deep%20Neural%20Network/L10%20fork%20from%20RNN%20-%20Google_Stock_Price.ipynb#W5sZmlsZQ%3D%3D?line=3'>4</a>\u001b[0m sc \u001b[39m=\u001b[39m MinMaxScaler(feature_range \u001b[39m=\u001b[39m (\u001b[39m0\u001b[39m, \u001b[39m1\u001b[39m))\n\u001b[1;32m----> <a href='vscode-notebook-cell:/c%3A/Users/Administrator/Documents/GitHub/DM-ML/lecture-10%20Deep%20Neural%20Network/L10%20fork%20from%20RNN%20-%20Google_Stock_Price.ipynb#W5sZmlsZQ%3D%3D?line=4'>5</a>\u001b[0m training_set_scaled \u001b[39m=\u001b[39m sc\u001b[39m.\u001b[39;49mfit_transform(training_set)\n",
      "File \u001b[1;32mc:\\Python39\\lib\\site-packages\\sklearn\\base.py:852\u001b[0m, in \u001b[0;36mTransformerMixin.fit_transform\u001b[1;34m(self, X, y, **fit_params)\u001b[0m\n\u001b[0;32m    848\u001b[0m \u001b[39m# non-optimized default implementation; override when a better\u001b[39;00m\n\u001b[0;32m    849\u001b[0m \u001b[39m# method is possible for a given clustering algorithm\u001b[39;00m\n\u001b[0;32m    850\u001b[0m \u001b[39mif\u001b[39;00m y \u001b[39mis\u001b[39;00m \u001b[39mNone\u001b[39;00m:\n\u001b[0;32m    851\u001b[0m     \u001b[39m# fit method of arity 1 (unsupervised transformation)\u001b[39;00m\n\u001b[1;32m--> 852\u001b[0m     \u001b[39mreturn\u001b[39;00m \u001b[39mself\u001b[39m\u001b[39m.\u001b[39mfit(X, \u001b[39m*\u001b[39m\u001b[39m*\u001b[39mfit_params)\u001b[39m.\u001b[39mtransform(X)\n\u001b[0;32m    853\u001b[0m \u001b[39melse\u001b[39;00m:\n\u001b[0;32m    854\u001b[0m     \u001b[39m# fit method of arity 2 (supervised transformation)\u001b[39;00m\n\u001b[0;32m    855\u001b[0m     \u001b[39mreturn\u001b[39;00m \u001b[39mself\u001b[39m\u001b[39m.\u001b[39mfit(X, y, \u001b[39m*\u001b[39m\u001b[39m*\u001b[39mfit_params)\u001b[39m.\u001b[39mtransform(X)\n",
      "File \u001b[1;32mc:\\Python39\\lib\\site-packages\\sklearn\\preprocessing\\_data.py:416\u001b[0m, in \u001b[0;36mMinMaxScaler.fit\u001b[1;34m(self, X, y)\u001b[0m\n\u001b[0;32m    414\u001b[0m \u001b[39m# Reset internal state before fitting\u001b[39;00m\n\u001b[0;32m    415\u001b[0m \u001b[39mself\u001b[39m\u001b[39m.\u001b[39m_reset()\n\u001b[1;32m--> 416\u001b[0m \u001b[39mreturn\u001b[39;00m \u001b[39mself\u001b[39;49m\u001b[39m.\u001b[39;49mpartial_fit(X, y)\n",
      "File \u001b[1;32mc:\\Python39\\lib\\site-packages\\sklearn\\preprocessing\\_data.py:453\u001b[0m, in \u001b[0;36mMinMaxScaler.partial_fit\u001b[1;34m(self, X, y)\u001b[0m\n\u001b[0;32m    447\u001b[0m     \u001b[39mraise\u001b[39;00m \u001b[39mTypeError\u001b[39;00m(\n\u001b[0;32m    448\u001b[0m         \u001b[39m\"\u001b[39m\u001b[39mMinMaxScaler does not support sparse input. \u001b[39m\u001b[39m\"\u001b[39m\n\u001b[0;32m    449\u001b[0m         \u001b[39m\"\u001b[39m\u001b[39mConsider using MaxAbsScaler instead.\u001b[39m\u001b[39m\"\u001b[39m\n\u001b[0;32m    450\u001b[0m     )\n\u001b[0;32m    452\u001b[0m first_pass \u001b[39m=\u001b[39m \u001b[39mnot\u001b[39;00m \u001b[39mhasattr\u001b[39m(\u001b[39mself\u001b[39m, \u001b[39m\"\u001b[39m\u001b[39mn_samples_seen_\u001b[39m\u001b[39m\"\u001b[39m)\n\u001b[1;32m--> 453\u001b[0m X \u001b[39m=\u001b[39m \u001b[39mself\u001b[39;49m\u001b[39m.\u001b[39;49m_validate_data(\n\u001b[0;32m    454\u001b[0m     X,\n\u001b[0;32m    455\u001b[0m     reset\u001b[39m=\u001b[39;49mfirst_pass,\n\u001b[0;32m    456\u001b[0m     estimator\u001b[39m=\u001b[39;49m\u001b[39mself\u001b[39;49m,\n\u001b[0;32m    457\u001b[0m     dtype\u001b[39m=\u001b[39;49mFLOAT_DTYPES,\n\u001b[0;32m    458\u001b[0m     force_all_finite\u001b[39m=\u001b[39;49m\u001b[39m\"\u001b[39;49m\u001b[39mallow-nan\u001b[39;49m\u001b[39m\"\u001b[39;49m,\n\u001b[0;32m    459\u001b[0m )\n\u001b[0;32m    461\u001b[0m data_min \u001b[39m=\u001b[39m np\u001b[39m.\u001b[39mnanmin(X, axis\u001b[39m=\u001b[39m\u001b[39m0\u001b[39m)\n\u001b[0;32m    462\u001b[0m data_max \u001b[39m=\u001b[39m np\u001b[39m.\u001b[39mnanmax(X, axis\u001b[39m=\u001b[39m\u001b[39m0\u001b[39m)\n",
      "File \u001b[1;32mc:\\Python39\\lib\\site-packages\\sklearn\\base.py:566\u001b[0m, in \u001b[0;36mBaseEstimator._validate_data\u001b[1;34m(self, X, y, reset, validate_separately, **check_params)\u001b[0m\n\u001b[0;32m    564\u001b[0m     \u001b[39mraise\u001b[39;00m \u001b[39mValueError\u001b[39;00m(\u001b[39m\"\u001b[39m\u001b[39mValidation should be done on X, y or both.\u001b[39m\u001b[39m\"\u001b[39m)\n\u001b[0;32m    565\u001b[0m \u001b[39melif\u001b[39;00m \u001b[39mnot\u001b[39;00m no_val_X \u001b[39mand\u001b[39;00m no_val_y:\n\u001b[1;32m--> 566\u001b[0m     X \u001b[39m=\u001b[39m check_array(X, \u001b[39m*\u001b[39m\u001b[39m*\u001b[39mcheck_params)\n\u001b[0;32m    567\u001b[0m     out \u001b[39m=\u001b[39m X\n\u001b[0;32m    568\u001b[0m \u001b[39melif\u001b[39;00m no_val_X \u001b[39mand\u001b[39;00m \u001b[39mnot\u001b[39;00m no_val_y:\n",
      "File \u001b[1;32mc:\\Python39\\lib\\site-packages\\sklearn\\utils\\validation.py:746\u001b[0m, in \u001b[0;36mcheck_array\u001b[1;34m(array, accept_sparse, accept_large_sparse, dtype, order, copy, force_all_finite, ensure_2d, allow_nd, ensure_min_samples, ensure_min_features, estimator)\u001b[0m\n\u001b[0;32m    744\u001b[0m         array \u001b[39m=\u001b[39m array\u001b[39m.\u001b[39mastype(dtype, casting\u001b[39m=\u001b[39m\u001b[39m\"\u001b[39m\u001b[39munsafe\u001b[39m\u001b[39m\"\u001b[39m, copy\u001b[39m=\u001b[39m\u001b[39mFalse\u001b[39;00m)\n\u001b[0;32m    745\u001b[0m     \u001b[39melse\u001b[39;00m:\n\u001b[1;32m--> 746\u001b[0m         array \u001b[39m=\u001b[39m np\u001b[39m.\u001b[39;49masarray(array, order\u001b[39m=\u001b[39;49morder, dtype\u001b[39m=\u001b[39;49mdtype)\n\u001b[0;32m    747\u001b[0m \u001b[39mexcept\u001b[39;00m ComplexWarning \u001b[39mas\u001b[39;00m complex_warning:\n\u001b[0;32m    748\u001b[0m     \u001b[39mraise\u001b[39;00m \u001b[39mValueError\u001b[39;00m(\n\u001b[0;32m    749\u001b[0m         \u001b[39m\"\u001b[39m\u001b[39mComplex data not supported\u001b[39m\u001b[39m\\n\u001b[39;00m\u001b[39m{}\u001b[39;00m\u001b[39m\\n\u001b[39;00m\u001b[39m\"\u001b[39m\u001b[39m.\u001b[39mformat(array)\n\u001b[0;32m    750\u001b[0m     ) \u001b[39mfrom\u001b[39;00m \u001b[39mcomplex_warning\u001b[39;00m\n",
      "File \u001b[1;32mc:\\Python39\\lib\\site-packages\\numpy\\core\\_asarray.py:102\u001b[0m, in \u001b[0;36masarray\u001b[1;34m(a, dtype, order, like)\u001b[0m\n\u001b[0;32m     99\u001b[0m \u001b[39mif\u001b[39;00m like \u001b[39mis\u001b[39;00m \u001b[39mnot\u001b[39;00m \u001b[39mNone\u001b[39;00m:\n\u001b[0;32m    100\u001b[0m     \u001b[39mreturn\u001b[39;00m _asarray_with_like(a, dtype\u001b[39m=\u001b[39mdtype, order\u001b[39m=\u001b[39morder, like\u001b[39m=\u001b[39mlike)\n\u001b[1;32m--> 102\u001b[0m \u001b[39mreturn\u001b[39;00m array(a, dtype, copy\u001b[39m=\u001b[39;49m\u001b[39mFalse\u001b[39;49;00m, order\u001b[39m=\u001b[39;49morder)\n",
      "\u001b[1;31mValueError\u001b[0m: could not convert string to float: '1/3/2012'"
     ]
    }
   ],
   "source": [
    "#Data Normalization\n",
    "from sklearn.preprocessing import MinMaxScaler\n",
    "\n",
    "sc = MinMaxScaler(feature_range = (0, 1))\n",
    "training_set_scaled = sc.fit_transform(training_set)"
   ]
  },
  {
   "cell_type": "code",
   "execution_count": null,
   "metadata": {},
   "outputs": [
    {
     "data": {
      "text/plain": [
       "(1258, 1)"
      ]
     },
     "execution_count": 5,
     "metadata": {},
     "output_type": "execute_result"
    }
   ],
   "source": [
    "training_set_scaled.shape"
   ]
  },
  {
   "cell_type": "code",
   "execution_count": null,
   "metadata": {},
   "outputs": [],
   "source": [
    "import numpy as np\n",
    "\n",
    "X_train=[]\n",
    "y_train=[]\n",
    "for i in range(60,1258):\n",
    "    X_train.append(training_set_scaled[i-60:i,0]) #前60天的开盘价作为x\n",
    "    y_train.append(training_set_scaled[i,0])\n",
    "X_train, y_train = np.array(X_train), np.array(y_train)"
   ]
  },
  {
   "cell_type": "code",
   "execution_count": null,
   "metadata": {},
   "outputs": [],
   "source": [
    "#reshape it to (batche_size(#size of inputs),timesteps,input_dimension)\n",
    "X_train = np.reshape(X_train, (X_train.shape[0], X_train.shape[1], 1))"
   ]
  },
  {
   "cell_type": "code",
   "execution_count": null,
   "metadata": {},
   "outputs": [
    {
     "data": {
      "text/plain": [
       "(1198, 60, 1)"
      ]
     },
     "execution_count": 8,
     "metadata": {},
     "output_type": "execute_result"
    }
   ],
   "source": [
    "X_train.shape"
   ]
  },
  {
   "cell_type": "markdown",
   "metadata": {},
   "source": [
    "## 2 Building a Recurrent Neural Network"
   ]
  },
  {
   "cell_type": "code",
   "execution_count": null,
   "metadata": {},
   "outputs": [
    {
     "name": "stdout",
     "output_type": "stream",
     "text": [
      "Model: \"sequential\"\n",
      "_________________________________________________________________\n",
      "Layer (type)                 Output Shape              Param #   \n",
      "=================================================================\n",
      "lstm (LSTM)                  (None, 60, 100)           40800     \n",
      "_________________________________________________________________\n",
      "dropout (Dropout)            (None, 60, 100)           0         \n",
      "_________________________________________________________________\n",
      "lstm_1 (LSTM)                (None, 60, 100)           80400     \n",
      "_________________________________________________________________\n",
      "dropout_1 (Dropout)          (None, 60, 100)           0         \n",
      "_________________________________________________________________\n",
      "lstm_2 (LSTM)                (None, 60, 100)           80400     \n",
      "_________________________________________________________________\n",
      "dropout_2 (Dropout)          (None, 60, 100)           0         \n",
      "_________________________________________________________________\n",
      "lstm_3 (LSTM)                (None, 100)               80400     \n",
      "_________________________________________________________________\n",
      "dropout_3 (Dropout)          (None, 100)               0         \n",
      "_________________________________________________________________\n",
      "dense (Dense)                (None, 1)                 101       \n",
      "=================================================================\n",
      "Total params: 282,101\n",
      "Trainable params: 282,101\n",
      "Non-trainable params: 0\n",
      "_________________________________________________________________\n"
     ]
    }
   ],
   "source": [
    "#利用`Sequential`模块搭建层叠的RNN模型,长短期记忆（Long short-term memory, LSTM）是一种特殊的RNN\n",
    "from tensorflow.keras.models import Sequential\n",
    "from tensorflow.keras.layers import Dense,LSTM, Dropout\n",
    "\n",
    "model=Sequential()\n",
    "\n",
    "#Add an LSTM layer with 100 units, expecting input of size `input_shape`.\n",
    "model.add(LSTM(units=100,return_sequences=True,input_shape=(X_train.shape[1], 1)))\n",
    "\n",
    "#The Dropout layer randomly sets input units to 0 with a frequency of rate at each step during training time, which helps prevent overfitting. \n",
    "model.add(Dropout(0.4))\n",
    "model.add(LSTM(units=100,return_sequences=True))\n",
    "model.add(Dropout(0.6))\n",
    "model.add(LSTM(units=100,return_sequences=True))\n",
    "model.add(Dropout(0.6))\n",
    "model.add(LSTM(units=100))\n",
    "model.add(Dropout(0.4))\n",
    "\n",
    "# Add a Dense layer with 1 unit. Dense layer: fully connected layer\n",
    "model.add(Dense(units=1))\n",
    "\n",
    "#模型总结\n",
    "model.summary()"
   ]
  },
  {
   "cell_type": "markdown",
   "metadata": {},
   "source": [
    "`units`: dimensionality of the output space\n",
    "\n",
    "默认情况下，RNN 层的输出为每个样本包含一个向量。此向量是与最后一个时间步骤相对应的 RNN 单元输出，包含关于整个输入序列的信息。此输出的形状为 `(batch_size, units)`。\n",
    "\n",
    "如果您设置了 `return_sequences=True`，RNN 层还能返回每个样本的整个输出序列（每个样本的每个时间步骤一个向量）。此输出的形状为 `(batch_size, timesteps, units)`。"
   ]
  },
  {
   "cell_type": "code",
   "execution_count": null,
   "metadata": {},
   "outputs": [],
   "source": [
    "#Model Compilation：通过调用 compile 方法配置该模型的学习流程\n",
    "model.compile(optimizer='adam',loss='mean_squared_error')"
   ]
  },
  {
   "cell_type": "markdown",
   "metadata": {},
   "source": [
    "## 3 Fitting the model"
   ]
  },
  {
   "cell_type": "code",
   "execution_count": null,
   "metadata": {},
   "outputs": [
    {
     "name": "stdout",
     "output_type": "stream",
     "text": [
      "Epoch 1/100\n",
      "20/20 [==============================] - 11s 329ms/step - loss: 0.1008\n",
      "Epoch 2/100\n",
      "20/20 [==============================] - 9s 468ms/step - loss: 0.0085\n",
      "Epoch 3/100\n",
      "20/20 [==============================] - 8s 389ms/step - loss: 0.0083\n",
      "Epoch 4/100\n",
      "20/20 [==============================] - 9s 452ms/step - loss: 0.0069\n",
      "Epoch 5/100\n",
      "20/20 [==============================] - 7s 353ms/step - loss: 0.0068\n",
      "Epoch 6/100\n",
      "20/20 [==============================] - 7s 357ms/step - loss: 0.0059\n",
      "Epoch 7/100\n",
      "20/20 [==============================] - 7s 347ms/step - loss: 0.0055\n",
      "Epoch 8/100\n",
      "20/20 [==============================] - 8s 417ms/step - loss: 0.0052\n",
      "Epoch 9/100\n",
      "20/20 [==============================] - 11s 550ms/step - loss: 0.0057\n",
      "Epoch 10/100\n",
      "20/20 [==============================] - 12s 583ms/step - loss: 0.0070\n",
      "Epoch 11/100\n",
      "20/20 [==============================] - 12s 635ms/step - loss: 0.0080\n",
      "Epoch 12/100\n",
      "20/20 [==============================] - 9s 468ms/step - loss: 0.0064\n",
      "Epoch 13/100\n",
      "20/20 [==============================] - 8s 379ms/step - loss: 0.0052\n",
      "Epoch 14/100\n",
      "20/20 [==============================] - 12s 591ms/step - loss: 0.0048\n",
      "Epoch 15/100\n",
      "20/20 [==============================] - 8s 422ms/step - loss: 0.0045\n",
      "Epoch 16/100\n",
      "20/20 [==============================] - 12s 606ms/step - loss: 0.0047\n",
      "Epoch 17/100\n",
      "20/20 [==============================] - 10s 520ms/step - loss: 0.0047\n",
      "Epoch 18/100\n",
      "20/20 [==============================] - 10s 511ms/step - loss: 0.0045\n",
      "Epoch 19/100\n",
      "20/20 [==============================] - 9s 453ms/step - loss: 0.0044\n",
      "Epoch 20/100\n",
      "20/20 [==============================] - 8s 410ms/step - loss: 0.0043\n",
      "Epoch 21/100\n",
      "20/20 [==============================] - 9s 438ms/step - loss: 0.0046\n",
      "Epoch 22/100\n",
      "20/20 [==============================] - 8s 431ms/step - loss: 0.0042\n",
      "Epoch 23/100\n",
      "20/20 [==============================] - 8s 412ms/step - loss: 0.0047\n",
      "Epoch 24/100\n",
      "20/20 [==============================] - 9s 474ms/step - loss: 0.0052\n",
      "Epoch 25/100\n",
      "20/20 [==============================] - 8s 389ms/step - loss: 0.0048\n",
      "Epoch 26/100\n",
      "20/20 [==============================] - 8s 422ms/step - loss: 0.0037\n",
      "Epoch 27/100\n",
      "20/20 [==============================] - 8s 392ms/step - loss: 0.0042\n",
      "Epoch 28/100\n",
      "20/20 [==============================] - 8s 374ms/step - loss: 0.0036\n",
      "Epoch 29/100\n",
      "20/20 [==============================] - 8s 372ms/step - loss: 0.0038\n",
      "Epoch 30/100\n",
      "20/20 [==============================] - 7s 364ms/step - loss: 0.0043\n",
      "Epoch 31/100\n",
      "20/20 [==============================] - 8s 389ms/step - loss: 0.0041\n",
      "Epoch 32/100\n",
      "20/20 [==============================] - 8s 383ms/step - loss: 0.0039\n",
      "Epoch 34/100\n",
      "20/20 [==============================] - 7s 362ms/step - loss: 0.0034\n",
      "Epoch 35/100\n",
      "20/20 [==============================] - 8s 417ms/step - loss: 0.0041\n",
      "Epoch 36/100\n",
      "20/20 [==============================] - 9s 447ms/step - loss: 0.0039\n",
      "Epoch 37/100\n",
      "20/20 [==============================] - 7s 363ms/step - loss: 0.0036\n",
      "Epoch 38/100\n",
      "20/20 [==============================] - 8s 404ms/step - loss: 0.0037\n",
      "Epoch 39/100\n",
      "20/20 [==============================] - 7s 371ms/step - loss: 0.0036\n",
      "Epoch 40/100\n",
      "20/20 [==============================] - 8s 422ms/step - loss: 0.0041\n",
      "Epoch 41/100\n",
      "20/20 [==============================] - 8s 389ms/step - loss: 0.0036\n",
      "Epoch 42/100\n",
      "20/20 [==============================] - 8s 395ms/step - loss: 0.0033\n",
      "Epoch 43/100\n",
      "20/20 [==============================] - 8s 389ms/step - loss: 0.0034\n",
      "Epoch 44/100\n",
      "20/20 [==============================] - 7s 374ms/step - loss: 0.0036\n",
      "Epoch 45/100\n",
      "20/20 [==============================] - 8s 416ms/step - loss: 0.0032\n",
      "Epoch 46/100\n",
      "20/20 [==============================] - 8s 395ms/step - loss: 0.0035\n",
      "Epoch 47/100\n",
      "20/20 [==============================] - 8s 385ms/step - loss: 0.0037\n",
      "Epoch 48/100\n",
      "20/20 [==============================] - 8s 378ms/step - loss: 0.0032\n",
      "Epoch 49/100\n",
      "20/20 [==============================] - 8s 427ms/step - loss: 0.0033\n",
      "Epoch 50/100\n",
      "20/20 [==============================] - 8s 400ms/step - loss: 0.0035\n",
      "Epoch 51/100\n",
      "20/20 [==============================] - 9s 452ms/step - loss: 0.0030\n",
      "Epoch 52/100\n",
      "20/20 [==============================] - 8s 426ms/step - loss: 0.0030\n",
      "Epoch 53/100\n",
      "20/20 [==============================] - 8s 404ms/step - loss: 0.0041\n",
      "Epoch 54/100\n",
      "20/20 [==============================] - 8s 399ms/step - loss: 0.0032\n",
      "Epoch 55/100\n",
      "20/20 [==============================] - 9s 426ms/step - loss: 0.0037\n",
      "Epoch 56/100\n",
      "20/20 [==============================] - 8s 383ms/step - loss: 0.0033\n",
      "Epoch 57/100\n",
      "19/20 [===========================>..] - ETA: 0s - loss: 0.0029Epoch 58/100\n",
      "20/20 [==============================] - 8s 384ms/step - loss: 0.0031\n",
      "Epoch 59/100\n",
      "20/20 [==============================] - 8s 407ms/step - loss: 0.0039\n",
      "Epoch 60/100\n",
      "20/20 [==============================] - 8s 420ms/step - loss: 0.0036\n",
      "Epoch 61/100\n",
      "20/20 [==============================] - 8s 375ms/step - loss: 0.0034\n",
      "Epoch 62/100\n",
      "20/20 [==============================] - 8s 420ms/step - loss: 0.0030\n",
      "Epoch 63/100\n",
      "20/20 [==============================] - 8s 364ms/step - loss: 0.0031\n",
      "Epoch 64/100\n",
      "20/20 [==============================] - 7s 352ms/step - loss: 0.0038\n",
      "Epoch 65/100\n",
      "20/20 [==============================] - 8s 382ms/step - loss: 0.0032\n",
      "Epoch 66/100\n",
      "20/20 [==============================] - 7s 374ms/step - loss: 0.0031\n",
      "Epoch 67/100\n",
      "20/20 [==============================] - 7s 375ms/step - loss: 0.0027\n",
      "Epoch 68/100\n",
      "20/20 [==============================] - 7s 338ms/step - loss: 0.0028\n",
      "Epoch 69/100\n",
      "20/20 [==============================] - 8s 385ms/step - loss: 0.0031\n",
      "Epoch 70/100\n",
      "20/20 [==============================] - 8s 405ms/step - loss: 0.0035\n",
      "Epoch 71/100\n",
      "20/20 [==============================] - 7s 359ms/step - loss: 0.0031\n",
      "Epoch 72/100\n",
      "20/20 [==============================] - 8s 379ms/step - loss: 0.0031\n",
      "Epoch 73/100\n",
      "20/20 [==============================] - 7s 368ms/step - loss: 0.0034\n",
      "Epoch 74/100\n",
      "20/20 [==============================] - 7s 368ms/step - loss: 0.0030\n",
      "Epoch 75/100\n",
      "20/20 [==============================] - 7s 368ms/step - loss: 0.0031\n",
      "Epoch 76/100\n",
      "20/20 [==============================] - 8s 414ms/step - loss: 0.0037\n",
      "Epoch 77/100\n",
      "20/20 [==============================] - 7s 373ms/step - loss: 0.0029\n",
      "Epoch 78/100\n",
      "20/20 [==============================] - 8s 382ms/step - loss: 0.0030\n",
      "Epoch 79/100\n",
      "20/20 [==============================] - 8s 373ms/step - loss: 0.0028\n",
      "Epoch 80/100\n",
      "20/20 [==============================] - 7s 365ms/step - loss: 0.0028\n",
      "Epoch 81/100\n",
      "20/20 [==============================] - 8s 416ms/step - loss: 0.0024\n",
      "Epoch 82/100\n",
      "20/20 [==============================] - 8s 404ms/step - loss: 0.0028\n",
      "Epoch 83/100\n",
      "20/20 [==============================] - 8s 380ms/step - loss: 0.0029\n",
      "Epoch 84/100\n",
      "20/20 [==============================] - 8s 385ms/step - loss: 0.0032\n",
      "Epoch 85/100\n",
      "20/20 [==============================] - 8s 409ms/step - loss: 0.0027\n",
      "Epoch 86/100\n",
      "20/20 [==============================] - 8s 425ms/step - loss: 0.0026\n",
      "Epoch 87/100\n",
      "20/20 [==============================] - 8s 398ms/step - loss: 0.0025\n",
      "Epoch 88/100\n",
      "20/20 [==============================] - 8s 383ms/step - loss: 0.0027\n",
      "Epoch 89/100\n",
      "20/20 [==============================] - 8s 390ms/step - loss: 0.0026\n",
      "Epoch 90/100\n",
      "20/20 [==============================] - 7s 357ms/step - loss: 0.0025\n",
      "Epoch 91/100\n",
      "20/20 [==============================] - 8s 396ms/step - loss: 0.0028\n",
      "Epoch 92/100\n",
      "20/20 [==============================] - 8s 398ms/step - loss: 0.0025\n",
      "Epoch 93/100\n",
      "20/20 [==============================] - 8s 389ms/step - loss: 0.0026\n",
      "Epoch 94/100\n",
      "20/20 [==============================] - 8s 398ms/step - loss: 0.0023\n",
      "Epoch 95/100\n",
      "20/20 [==============================] - 7s 363ms/step - loss: 0.0025\n",
      "Epoch 96/100\n",
      "20/20 [==============================] - 7s 357ms/step - loss: 0.0025\n",
      "Epoch 97/100\n",
      "20/20 [==============================] - 8s 407ms/step - loss: 0.0023\n",
      "Epoch 98/100\n",
      "20/20 [==============================] - 8s 400ms/step - loss: 0.0026\n",
      "Epoch 99/100\n",
      "20/20 [==============================] - 8s 407ms/step - loss: 0.0023\n",
      "Epoch 100/100\n",
      "20/20 [==============================] - 8s 378ms/step - loss: 0.0027\n"
     ]
    },
    {
     "data": {
      "text/plain": [
       "<tensorflow.python.keras.callbacks.History at 0x7f22bc0aecf8>"
      ]
     },
     "execution_count": 11,
     "metadata": {},
     "output_type": "execute_result"
    }
   ],
   "source": [
    "model.fit(X_train,y_train,epochs=100,batch_size=60)"
   ]
  },
  {
   "cell_type": "markdown",
   "metadata": {},
   "source": [
    "## 4 Model prediction\n",
    "Loading and preprocessing the testing data."
   ]
  },
  {
   "cell_type": "code",
   "execution_count": null,
   "metadata": {},
   "outputs": [],
   "source": [
    "test = pd.read_csv('Google_Stock_Price_Test.csv')\n",
    "real_stock_price = test.iloc[:, 1:2].values\n",
    "total_data=pd.concat([train['Open'],test['Open']],axis=0)"
   ]
  },
  {
   "cell_type": "code",
   "execution_count": null,
   "metadata": {},
   "outputs": [],
   "source": [
    "inputs=total_data[len(train)-len(test)-60:].values #测试集第一天的60天前的数据 \n",
    "inputs=inputs.reshape(-1,1)\n",
    "inputs = sc.transform(inputs)"
   ]
  },
  {
   "cell_type": "code",
   "execution_count": null,
   "metadata": {},
   "outputs": [],
   "source": [
    "X_test=[]\n",
    "for i in range(60,80):\n",
    "    X_test.append(inputs[i-60:i,0])\n",
    "X_test=np.array(X_test)\n",
    "X_test.shape\n",
    "X_test=np.reshape(X_test,(X_test.shape[0],X_test.shape[1],1))"
   ]
  },
  {
   "cell_type": "code",
   "execution_count": null,
   "metadata": {},
   "outputs": [],
   "source": [
    "#Predict the stock price\n",
    "predicted_stock_price=model.predict(X_test)\n",
    "predicted_stock_price=sc.inverse_transform(predicted_stock_price)"
   ]
  },
  {
   "cell_type": "code",
   "execution_count": null,
   "metadata": {},
   "outputs": [
    {
     "data": {
      "image/png": "[encoded data removed]",
      "text/plain": [
       "<Figure size 864x576 with 1 Axes>"
      ]
     },
     "metadata": {
      "needs_background": "light"
     },
     "output_type": "display_data"
    }
   ],
   "source": [
    "#Visualization\n",
    "import matplotlib.pyplot as plt\n",
    "%matplotlib inline\n",
    "\n",
    "plt.rcParams[\"figure.figsize\"] = (12,8)\n",
    "plt.plot(predicted_stock_price,color='red',label='Predicted Stock Price')\n",
    "plt.plot(real_stock_price,color='blue',label='Real Stock Price')\n",
    "plt.title('Google Stock Price Prediction')\n",
    "plt.xlabel('Time')\n",
    "plt.ylabel('Stock Price')\n",
    "plt.legend()\n",
    "plt.show()"
   ]
  },
  {
   "cell_type": "code",
   "execution_count": null,
   "metadata": {},
   "outputs": [],
   "source": []
  }
 ],
 "metadata": {
  "kernelspec": {
   "display_name": "Python 3.9.0 64-bit",
   "language": "python",
   "name": "python3"
  },
  "language_info": {
   "codemirror_mode": {
    "name": "ipython",
    "version": 3
   },
   "file_extension": ".py",
   "mimetype": "text/x-python",
   "name": "python",
   "nbconvert_exporter": "python",
   "pygments_lexer": "ipython3",
   "version": "3.9.0"
  },
  "tianchi_metadata": {
   "competitions": [],
   "datasets": [
    {
     "id": "14197",
     "title": "Google_Stock_Price"
    }
   ],
   "description": "",
   "notebookId": "65436",
   "source": "ailab"
  },
  "vscode": {
   "interpreter": {
    "hash": "81794d4967e6c3204c66dcd87b604927b115b27c00565d3d43f05ba2f3a2cb0d"
   }
  }
 },
 "nbformat": 4,
 "nbformat_minor": 4
}
