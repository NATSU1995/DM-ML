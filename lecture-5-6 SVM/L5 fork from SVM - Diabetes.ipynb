{
 "cells": [
  {
   "cell_type": "markdown",
   "metadata": {},
   "source": [
    "# Diabetes Care\n",
    "### Shan Wang\n",
    "### 29 August, 2022"
   ]
  },
  {
   "cell_type": "markdown",
   "metadata": {},
   "source": [
    "## 1 Loading and Exploring the Data Set"
   ]
  },
  {
   "cell_type": "markdown",
   "metadata": {},
   "source": [
    "Let us first read the data set from the file."
   ]
  },
  {
   "cell_type": "code",
   "execution_count": 1,
   "metadata": {},
   "outputs": [
    {
     "name": "stdout",
     "output_type": "stream",
     "text": [
      "<class 'pandas.core.frame.DataFrame'>\n",
      "RangeIndex: 131 entries, 0 to 130\n",
      "Data columns (total 14 columns):\n",
      " #   Column                Non-Null Count  Dtype  \n",
      "---  ------                --------------  -----  \n",
      " 0   MemberID              131 non-null    int64  \n",
      " 1   InpatientDays         131 non-null    int64  \n",
      " 2   ERVisits              131 non-null    int64  \n",
      " 3   OfficeVisits          131 non-null    int64  \n",
      " 4   Narcotics             131 non-null    int64  \n",
      " 5   DaysSinceLastERVisit  131 non-null    float64\n",
      " 6   Pain                  131 non-null    int64  \n",
      " 7   TotalVisits           131 non-null    int64  \n",
      " 8   ProviderCount         131 non-null    int64  \n",
      " 9   MedicalClaims         131 non-null    int64  \n",
      " 10  ClaimLines            131 non-null    int64  \n",
      " 11  StartedOnCombination  131 non-null    bool   \n",
      " 12  AcuteDrugGapSmall     131 non-null    int64  \n",
      " 13  PoorCare              131 non-null    int64  \n",
      "dtypes: bool(1), float64(1), int64(12)\n",
      "memory usage: 13.6 KB\n"
     ]
    },
    {
     "data": {
      "text/html": [
       "<div>\n",
       "<style scoped>\n",
       "    .dataframe tbody tr th:only-of-type {\n",
       "        vertical-align: middle;\n",
       "    }\n",
       "\n",
       "    .dataframe tbody tr th {\n",
       "        vertical-align: top;\n",
       "    }\n",
       "\n",
       "    .dataframe thead th {\n",
       "        text-align: right;\n",
       "    }\n",
       "</style>\n",
       "<table border=\"1\" class=\"dataframe\">\n",
       "  <thead>\n",
       "    <tr style=\"text-align: right;\">\n",
       "      <th></th>\n",
       "      <th>MemberID</th>\n",
       "      <th>InpatientDays</th>\n",
       "      <th>ERVisits</th>\n",
       "      <th>OfficeVisits</th>\n",
       "      <th>Narcotics</th>\n",
       "      <th>DaysSinceLastERVisit</th>\n",
       "      <th>Pain</th>\n",
       "      <th>TotalVisits</th>\n",
       "      <th>ProviderCount</th>\n",
       "      <th>MedicalClaims</th>\n",
       "      <th>ClaimLines</th>\n",
       "      <th>StartedOnCombination</th>\n",
       "      <th>AcuteDrugGapSmall</th>\n",
       "      <th>PoorCare</th>\n",
       "    </tr>\n",
       "  </thead>\n",
       "  <tbody>\n",
       "    <tr>\n",
       "      <th>0</th>\n",
       "      <td>1</td>\n",
       "      <td>0</td>\n",
       "      <td>0</td>\n",
       "      <td>18</td>\n",
       "      <td>1</td>\n",
       "      <td>731.0</td>\n",
       "      <td>10</td>\n",
       "      <td>18</td>\n",
       "      <td>21</td>\n",
       "      <td>93</td>\n",
       "      <td>222</td>\n",
       "      <td>False</td>\n",
       "      <td>0</td>\n",
       "      <td>0</td>\n",
       "    </tr>\n",
       "    <tr>\n",
       "      <th>1</th>\n",
       "      <td>2</td>\n",
       "      <td>1</td>\n",
       "      <td>1</td>\n",
       "      <td>6</td>\n",
       "      <td>1</td>\n",
       "      <td>411.0</td>\n",
       "      <td>0</td>\n",
       "      <td>8</td>\n",
       "      <td>27</td>\n",
       "      <td>19</td>\n",
       "      <td>115</td>\n",
       "      <td>False</td>\n",
       "      <td>1</td>\n",
       "      <td>0</td>\n",
       "    </tr>\n",
       "    <tr>\n",
       "      <th>2</th>\n",
       "      <td>3</td>\n",
       "      <td>0</td>\n",
       "      <td>0</td>\n",
       "      <td>5</td>\n",
       "      <td>3</td>\n",
       "      <td>731.0</td>\n",
       "      <td>10</td>\n",
       "      <td>5</td>\n",
       "      <td>16</td>\n",
       "      <td>27</td>\n",
       "      <td>148</td>\n",
       "      <td>False</td>\n",
       "      <td>5</td>\n",
       "      <td>0</td>\n",
       "    </tr>\n",
       "    <tr>\n",
       "      <th>3</th>\n",
       "      <td>4</td>\n",
       "      <td>0</td>\n",
       "      <td>1</td>\n",
       "      <td>19</td>\n",
       "      <td>0</td>\n",
       "      <td>158.0</td>\n",
       "      <td>34</td>\n",
       "      <td>20</td>\n",
       "      <td>14</td>\n",
       "      <td>59</td>\n",
       "      <td>242</td>\n",
       "      <td>False</td>\n",
       "      <td>0</td>\n",
       "      <td>0</td>\n",
       "    </tr>\n",
       "    <tr>\n",
       "      <th>4</th>\n",
       "      <td>5</td>\n",
       "      <td>8</td>\n",
       "      <td>2</td>\n",
       "      <td>19</td>\n",
       "      <td>3</td>\n",
       "      <td>449.0</td>\n",
       "      <td>10</td>\n",
       "      <td>29</td>\n",
       "      <td>24</td>\n",
       "      <td>51</td>\n",
       "      <td>204</td>\n",
       "      <td>False</td>\n",
       "      <td>0</td>\n",
       "      <td>0</td>\n",
       "    </tr>\n",
       "  </tbody>\n",
       "</table>\n",
       "</div>"
      ],
      "text/plain": [
       "   MemberID  InpatientDays  ERVisits  OfficeVisits  Narcotics  \\\n",
       "0         1              0         0            18          1   \n",
       "1         2              1         1             6          1   \n",
       "2         3              0         0             5          3   \n",
       "3         4              0         1            19          0   \n",
       "4         5              8         2            19          3   \n",
       "\n",
       "   DaysSinceLastERVisit  Pain  TotalVisits  ProviderCount  MedicalClaims  \\\n",
       "0                 731.0    10           18             21             93   \n",
       "1                 411.0     0            8             27             19   \n",
       "2                 731.0    10            5             16             27   \n",
       "3                 158.0    34           20             14             59   \n",
       "4                 449.0    10           29             24             51   \n",
       "\n",
       "   ClaimLines  StartedOnCombination  AcuteDrugGapSmall  PoorCare  \n",
       "0         222                 False                  0         0  \n",
       "1         115                 False                  1         0  \n",
       "2         148                 False                  5         0  \n",
       "3         242                 False                  0         0  \n",
       "4         204                 False                  0         0  "
      ]
     },
     "execution_count": 1,
     "metadata": {},
     "output_type": "execute_result"
    }
   ],
   "source": [
    "import pandas as pd\n",
    "\n",
    "quality = pd.read_csv('Diabetes.csv')\n",
    "quality.info()\n",
    "quality.head()"
   ]
  },
  {
   "cell_type": "markdown",
   "metadata": {},
   "source": [
    "MemberID is the unique identifier that numbers patients from 1 to 131. InpatientDays is the number of inpatient visits or the number of days that the patient spent in the hospital. ERVisits is the number of times the patient visited the emergency room. OfficeVisits is the number of times that the patient visited any doctor’s office. Narcotics is the number of prescriptions that the patient had for narcotics. DaysSinceLastERVisit is the number of days between the patient’s last emergency room (ER) visit and the end of the study period, and it is set to the length of the study period if they never visited the ER. Pain is the number of visits for which the patient complained about pain. TotalVisits is the total number of times the patient visited any healthcare provider. ProviderCount is the number of providers that served the patient. MedicalClaims is the number of days on which the patient had a medical claim. ClaimLines is the total number of medical claims. StartedOnCombination is whether or not the patient was started on a combination of drugs to treat their diabetes. AcuteDrugGapSmall is the fraction of acute drugs that were refilled quickly after the prescription ran out. PoorCare is the dependent variable, and is equal to 1 if the patient had poor care, and equal to 0 if the patient had good care.\n",
    "\n",
    "We can see how many patients received poor care and how many patients received good care by using the `df.groupby` function."
   ]
  },
  {
   "cell_type": "code",
   "execution_count": 2,
   "metadata": {},
   "outputs": [
    {
     "data": {
      "text/plain": [
       "0    98\n",
       "1    33\n",
       "Name: PoorCare, dtype: int64"
      ]
     },
     "execution_count": 2,
     "metadata": {},
     "output_type": "execute_result"
    }
   ],
   "source": [
    "quality['PoorCare'].value_counts()"
   ]
  },
  {
   "cell_type": "markdown",
   "metadata": {},
   "source": [
    "The percentage of patients received poor care can be computed as follows."
   ]
  },
  {
   "cell_type": "code",
   "execution_count": 3,
   "metadata": {},
   "outputs": [
    {
     "data": {
      "text/plain": [
       "0.25190839694656486"
      ]
     },
     "execution_count": 3,
     "metadata": {},
     "output_type": "execute_result"
    }
   ],
   "source": [
    "import numpy as np\n",
    "\n",
    "percPC = np.sum(quality['PoorCare'])/len(quality)\n",
    "percPC"
   ]
  },
  {
   "cell_type": "markdown",
   "metadata": {},
   "source": [
    "You can see from the output of the `df.info()` function that the variable PoorCare is of `int` type, which stands for integer. By default, Python treats numbers in the data file according to the type that it was recorded. In this case, since PoorCare is recorded as 0 or 1 in the data file, it is treated as a numerical variable, in particular, an integer variable. For numerical variables, we can use the `df.describe()` function to take a look at some of its statistics."
   ]
  },
  {
   "cell_type": "code",
   "execution_count": 4,
   "metadata": {},
   "outputs": [
    {
     "data": {
      "text/plain": [
       "count    131.000000\n",
       "mean       0.251908\n",
       "std        0.435775\n",
       "min        0.000000\n",
       "25%        0.000000\n",
       "50%        0.000000\n",
       "75%        0.500000\n",
       "max        1.000000\n",
       "Name: PoorCare, dtype: float64"
      ]
     },
     "execution_count": 4,
     "metadata": {},
     "output_type": "execute_result"
    }
   ],
   "source": [
    "quality['PoorCare'].describe()"
   ]
  },
  {
   "cell_type": "markdown",
   "metadata": {},
   "source": [
    "However, in our case, PoorCare should be treated as a categorical variable, i.e., `categotical` data type in pandas. The type of variable will make a big difference in the way that Python handles the variable. We can convert its type to `categorical` using the following command."
   ]
  },
  {
   "cell_type": "code",
   "execution_count": 5,
   "metadata": {},
   "outputs": [
    {
     "data": {
      "text/plain": [
       "0      0\n",
       "1      0\n",
       "2      0\n",
       "3      0\n",
       "4      0\n",
       "      ..\n",
       "126    0\n",
       "127    0\n",
       "128    0\n",
       "129    1\n",
       "130    0\n",
       "Name: PoorCare, Length: 131, dtype: category\n",
       "Categories (2, int64): [0, 1]"
      ]
     },
     "execution_count": 5,
     "metadata": {},
     "output_type": "execute_result"
    }
   ],
   "source": [
    "quality['PoorCare'] = quality['PoorCare'].astype('category')\n",
    "quality['PoorCare']"
   ]
  },
  {
   "cell_type": "markdown",
   "metadata": {},
   "source": [
    "Now, if we apply the `describe()` function on PoorCare, it will be handled differently. No statistics will be computed because it is not a number now. What you will see is count for each possible outcome, called categories in Python."
   ]
  },
  {
   "cell_type": "code",
   "execution_count": 6,
   "metadata": {},
   "outputs": [
    {
     "data": {
      "text/plain": [
       "count     131\n",
       "unique      2\n",
       "top         0\n",
       "freq       98\n",
       "Name: PoorCare, dtype: int64"
      ]
     },
     "execution_count": 6,
     "metadata": {},
     "output_type": "execute_result"
    }
   ],
   "source": [
    "quality['PoorCare'].describe()"
   ]
  },
  {
   "cell_type": "markdown",
   "metadata": {},
   "source": [
    "## 2 Baseline Model for Predicting Patients Receiving Good Care"
   ]
  },
  {
   "cell_type": "markdown",
   "metadata": {},
   "source": [
    "The baseline model for such a classification problem is to just predict the most frequent outcome for all observations. Since good care is more common than poor care, we would predict that all patients are receiving good care, which gives us an accuracy of 74.81%."
   ]
  },
  {
   "cell_type": "markdown",
   "metadata": {},
   "source": [
    "## 3 Splitting the Data Set for Training and Testing"
   ]
  },
  {
   "cell_type": "markdown",
   "metadata": {},
   "source": [
    "It is a good practice to train and test any models using different data sets as we have done before. In this case, we only have one data set, so the common practice is to randomly split the data set into a training set and a test set, where the test set is used to measure the out-of-sample accuracy of our model."
   ]
  },
  {
   "cell_type": "markdown",
   "metadata": {},
   "source": [
    "Now, let us use this package to randomly split our data into a training set and a test set. Since `sample` function randomly splits your data, it could split it differently for each of us. To make sure that we all get the same split, we can set our seed to the same number. The seed initializes the random number generator. This is important not only to make sure we all get the same results later but also to make it easier to check your work in the future. Otherwise, if you do not set the seed, everytime when you run your code and regenerate the results, you will get different numbers, which can make debugging and model improvement very challenging. We will use this feature again and again in this course and you will be very familiar with it."
   ]
  },
  {
   "cell_type": "code",
   "execution_count": 7,
   "metadata": {},
   "outputs": [],
   "source": [
    "from sklearn.model_selection import train_test_split\n",
    "\n",
    "X = quality.loc[:,['OfficeVisits','Narcotics']] #这里只选两个变量只为了画图方便，实际上可以使用很多变量，但要注意进行变量的选择\n",
    "y = quality['PoorCare']\n",
    "X_train, X_test, y_train, y_test = train_test_split(X, y, test_size = 0.3, random_state =10)"
   ]
  },
  {
   "cell_type": "code",
   "execution_count": 8,
   "metadata": {},
   "outputs": [],
   "source": [
    "from sklearn.preprocessing import MinMaxScaler\n",
    "\n",
    "#MinMax归一化：x’=(x-min(x))/(max(x)-min(x))\n",
    "mm = MinMaxScaler()\n",
    "scalerX = mm.fit(X_train) #scalerX相当于记录了min和max\n",
    "X_train = scalerX.transform(X_train)\n",
    "X_test= scalerX.transform(X_test)"
   ]
  },
  {
   "cell_type": "code",
   "execution_count": 9,
   "metadata": {},
   "outputs": [
    {
     "data": {
      "text/plain": [
       "0    66\n",
       "1    25\n",
       "Name: PoorCare, dtype: int64"
      ]
     },
     "execution_count": 9,
     "metadata": {},
     "output_type": "execute_result"
    }
   ],
   "source": [
    "y_train.value_counts()"
   ]
  },
  {
   "cell_type": "code",
   "execution_count": 10,
   "metadata": {},
   "outputs": [
    {
     "data": {
      "text/plain": [
       "0    32\n",
       "1     8\n",
       "Name: PoorCare, dtype: int64"
      ]
     },
     "execution_count": 10,
     "metadata": {},
     "output_type": "execute_result"
    }
   ],
   "source": [
    "y_test.value_counts()"
   ]
  },
  {
   "cell_type": "markdown",
   "metadata": {},
   "source": [
    "## 4 Building an SVM Model\n",
    "\n",
    "Now, we are ready to build a SVM model using OfficeVisits and Narcotics as independent variables, consistent with the Logistic Regression model.\n",
    "\n",
    "Let us plot the `OfficeVisits` and `Narcotics` with `PoorCare`."
   ]
  },
  {
   "cell_type": "code",
   "execution_count": 11,
   "metadata": {},
   "outputs": [
    {
     "data": {
      "image/png": "[encoded data removed]",
      "text/plain": [
       "<Figure size 432x432 with 1 Axes>"
      ]
     },
     "metadata": {
      "needs_background": "light"
     },
     "output_type": "display_data"
    }
   ],
   "source": [
    "import matplotlib.pyplot as plt\n",
    "%matplotlib inline\n",
    "\n",
    "plt.figure(figsize=(6,6))\n",
    "plt.scatter(X_train[np.where(y_train.values==1),0], X_train[np.where(y_train.values==1),1], label='PoorCare')\n",
    "plt.scatter(X_train[np.where(y_train.values==0),0], X_train[np.where(y_train.values==0),1], label='GoodCare')\n",
    "plt.legend()\n",
    "plt.xlabel('OfficeVisits',fontdict={'size':15})\n",
    "plt.ylabel('Narcotics',fontdict={'size':15})\n",
    "plt.show()"
   ]
  },
  {
   "cell_type": "markdown",
   "metadata": {},
   "source": [
    "To build SVM model, we need the package `svm`. Let us load it (import it by yourself)."
   ]
  },
  {
   "cell_type": "code",
   "execution_count": 12,
   "metadata": {},
   "outputs": [],
   "source": [
    "from sklearn import svm"
   ]
  },
  {
   "cell_type": "markdown",
   "metadata": {},
   "source": [
    "Function `svm.SVC` is used to fit a SVM model. Here we still use the formula: PoorCare ~ OfficeVisits + Narcotics. The first argument indicate the kernel function used to train the model, We first try the linear SVM; Argument `C` means the cost of constraints violation, which is the constant C in our PPT formualtion; Argument `shrinking=true(default)` means use of the shrinking heuristic method."
   ]
  },
  {
   "cell_type": "code",
   "execution_count": 13,
   "metadata": {},
   "outputs": [
    {
     "data": {
      "text/plain": [
       "SVC(C=100, kernel='linear')"
      ]
     },
     "execution_count": 13,
     "metadata": {},
     "output_type": "execute_result"
    }
   ],
   "source": [
    "svm1=svm.SVC(kernel='linear', C=100) \n",
    "svm1.fit(X_train,y_train) "
   ]
  },
  {
   "cell_type": "markdown",
   "metadata": {},
   "source": [
    "List the support vectors by `clf.support_`:"
   ]
  },
  {
   "cell_type": "code",
   "execution_count": 14,
   "metadata": {},
   "outputs": [
    {
     "data": {
      "text/plain": [
       "array([15, 18, 23, 32, 34, 35, 38, 45, 46, 47, 52, 54, 56, 57, 60, 66, 67,\n",
       "       70, 76, 81, 87,  1,  2, 16, 24, 29, 30, 31, 33, 37, 39, 41, 43, 49,\n",
       "       59, 71, 74, 75, 78, 80, 86], dtype=int32)"
      ]
     },
     "execution_count": 14,
     "metadata": {},
     "output_type": "execute_result"
    }
   ],
   "source": [
    "svm1.support_"
   ]
  },
  {
   "cell_type": "code",
   "execution_count": 15,
   "metadata": {},
   "outputs": [
    {
     "data": {
      "text/plain": [
       "array([21, 20], dtype=int32)"
      ]
     },
     "execution_count": 15,
     "metadata": {},
     "output_type": "execute_result"
    }
   ],
   "source": [
    "#number of support vectors for each class.\n",
    "svm1.n_support_"
   ]
  },
  {
   "cell_type": "code",
   "execution_count": 16,
   "metadata": {},
   "outputs": [],
   "source": [
    "#绘制图形\n",
    "\n",
    "\n",
    "#确定坐标轴范围\n",
    "x1_min, x1_max = X_train[:,0].min(), X_train[:,0].max() #第0维特征的范围\n",
    "x2_min, x2_max = X_train[:,1].min(), X_train[:,1].max() #第1维特征的范围\n",
    "\n",
    "#生成网络采样点\n",
    "x1,x2=np.mgrid[x1_min:x1_max:80j, x2_min:x2_max:80j ] \n",
    "grid_train=np.stack((x1.flat,x2.flat), axis=1) \n",
    "\n",
    "#预测网络采样点分类值\n",
    "grid_hat = svm1.predict(grid_train) \n",
    "\n",
    "#调整为二维\n",
    "grid_hat = grid_hat.reshape(x1.shape)  "
   ]
  },
  {
   "cell_type": "code",
   "execution_count": 17,
   "metadata": {},
   "outputs": [
    {
     "data": {
      "image/png": "[encoded data removed]",
      "text/plain": [
       "<Figure size 432x432 with 1 Axes>"
      ]
     },
     "metadata": {
      "needs_background": "light"
     },
     "output_type": "display_data"
    }
   ],
   "source": [
    "import matplotlib\n",
    "#设置颜色\n",
    "cm_light=matplotlib.colors.ListedColormap(['#A0FFA0', '#FFA0A0', '#A0A0FF'])\n",
    "cm_dark=matplotlib.colors.ListedColormap(['g','r','b'] )\n",
    "\n",
    "plt.figure(figsize=(6,6))\n",
    "plt.pcolormesh(x1, x2, grid_hat, cmap=cm_light, shading='auto')     # 预测值的显示\n",
    "plt.scatter(X_train[:,0], X_train[:,1], c=y_train.values, cmap=cm_dark)  # 样本\n",
    "plt.xlabel('OfficeVisits', fontsize=15)\n",
    "plt.ylabel('Narcotics', fontsize=15)\n",
    "plt.xlim(x1_min,x1_max)\n",
    "plt.ylim(x2_min,x2_max)\n",
    "plt.title('SVM classification plot', fontsize= 15)\n",
    "plt.show()"
   ]
  },
  {
   "cell_type": "markdown",
   "metadata": {},
   "source": [
    "### Cost Parameter\n",
    "Let us change to a smaller value of the cost parameter:"
   ]
  },
  {
   "cell_type": "code",
   "execution_count": 18,
   "metadata": {},
   "outputs": [
    {
     "data": {
      "text/plain": [
       "SVC(C=1, kernel='linear')"
      ]
     },
     "execution_count": 18,
     "metadata": {},
     "output_type": "execute_result"
    }
   ],
   "source": [
    "svm2=svm.SVC(kernel='linear', C=1) \n",
    "svm2.fit(X_train,y_train)"
   ]
  },
  {
   "cell_type": "code",
   "execution_count": 19,
   "metadata": {},
   "outputs": [
    {
     "data": {
      "image/png": "[encoded data removed]",
      "text/plain": [
       "<Figure size 432x432 with 1 Axes>"
      ]
     },
     "metadata": {
      "needs_background": "light"
     },
     "output_type": "display_data"
    }
   ],
   "source": [
    "#绘制图形\n",
    "grid_hat = svm2.predict(grid_train)       # 预测分类值\n",
    "grid_hat = grid_hat.reshape(x1.shape)  # 使之与输入的形状相同\n",
    "\n",
    "plt.figure(figsize=(6,6))\n",
    "plt.pcolormesh(x1, x2, grid_hat, cmap=cm_light, shading='auto')     # 预测值的显示\n",
    "plt.scatter(X_train[:,0], X_train[:,1],c=y_train.values, cmap=cm_dark)  # 样本\n",
    "plt.xlabel('OfficeVisits', fontsize=15)\n",
    "plt.ylabel('Narcotics', fontsize=15)\n",
    "plt.xlim(x1_min,x1_max)\n",
    "plt.ylim(x2_min,x2_max)\n",
    "plt.title('SVM classification plot', fontsize= 15)\n",
    "plt.show()"
   ]
  },
  {
   "cell_type": "markdown",
   "metadata": {},
   "source": [
    "Softer margin? Let us check the support vectors."
   ]
  },
  {
   "cell_type": "code",
   "execution_count": 20,
   "metadata": {},
   "outputs": [
    {
     "data": {
      "text/plain": [
       "array([15, 18, 23, 27, 32, 34, 35, 38, 45, 46, 47, 52, 54, 56, 57, 60, 65,\n",
       "       66, 67, 70, 76, 77, 81, 85, 87,  1,  2,  6, 16, 20, 24, 29, 30, 31,\n",
       "       33, 37, 39, 41, 43, 49, 59, 63, 71, 74, 75, 78, 80, 84, 86],\n",
       "      dtype=int32)"
      ]
     },
     "execution_count": 20,
     "metadata": {},
     "output_type": "execute_result"
    }
   ],
   "source": [
    "svm2.support_"
   ]
  },
  {
   "cell_type": "code",
   "execution_count": 21,
   "metadata": {},
   "outputs": [
    {
     "data": {
      "text/plain": [
       "array([25, 24], dtype=int32)"
      ]
     },
     "execution_count": 21,
     "metadata": {},
     "output_type": "execute_result"
    }
   ],
   "source": [
    "svm2.n_support_"
   ]
  },
  {
   "cell_type": "markdown",
   "metadata": {},
   "source": [
    "We have more support vectors."
   ]
  },
  {
   "cell_type": "markdown",
   "metadata": {},
   "source": [
    "### Kernel\n",
    "Let us change to a RBF kernel:\n",
    "\n",
    "gamma can be regarded as the inverse of the sigma: exp(-gamma|x-z|^2)"
   ]
  },
  {
   "cell_type": "code",
   "execution_count": 22,
   "metadata": {},
   "outputs": [
    {
     "data": {
      "image/png": "[encoded data removed]",
      "text/plain": [
       "<Figure size 432x432 with 1 Axes>"
      ]
     },
     "metadata": {
      "needs_background": "light"
     },
     "output_type": "display_data"
    }
   ],
   "source": [
    "svm3=svm.SVC(kernel='rbf', C=100, gamma=5) \n",
    "svm3.fit(X_train,y_train)\n",
    "\n",
    "#绘制图形\n",
    "grid_hat = svm3.predict(grid_train)       # 预测分类值\n",
    "grid_hat = grid_hat.reshape(x1.shape)  # 使之与输入的形状相同\n",
    "\n",
    "plt.figure(figsize=(6,6))\n",
    "plt.pcolormesh(x1, x2, grid_hat, cmap=cm_light, shading='auto')     # 预测值的显示\n",
    "plt.scatter(X_train[:,0], X_train[:,1],c=y_train.values, cmap=cm_dark)  # 样本\n",
    "plt.xlabel('OfficeVisits', fontsize=15)\n",
    "plt.ylabel('Narcotics', fontsize=15)\n",
    "plt.xlim(x1_min,x1_max)\n",
    "plt.ylim(x2_min,x2_max)\n",
    "plt.title('SVM classification plot', fontsize= 15)\n",
    "plt.show()"
   ]
  },
  {
   "cell_type": "markdown",
   "metadata": {},
   "source": [
    "Let us change to a smaller value of the cost parameter:"
   ]
  },
  {
   "cell_type": "code",
   "execution_count": 23,
   "metadata": {},
   "outputs": [
    {
     "data": {
      "image/png": "[encoded data removed]",
      "text/plain": [
       "<Figure size 432x432 with 1 Axes>"
      ]
     },
     "metadata": {
      "needs_background": "light"
     },
     "output_type": "display_data"
    }
   ],
   "source": [
    "svm4=svm.SVC(kernel='rbf', C=1, gamma=5) \n",
    "svm4.fit(X_train,y_train)\n",
    "\n",
    "#绘制图形\n",
    "grid_hat = svm4.predict(grid_train)       # 预测分类值\n",
    "grid_hat = grid_hat.reshape(x1.shape)  # 使之与输入的形状相同\n",
    "\n",
    "plt.figure(figsize=(6,6))\n",
    "plt.pcolormesh(x1, x2, grid_hat, cmap=cm_light, shading='auto')     # 预测值的显示\n",
    "plt.scatter(X_train[:,0], X_train[:,1],c=y_train.values, cmap=cm_dark)  # 样本\n",
    "plt.xlabel('OfficeVisits', fontsize=15)\n",
    "plt.ylabel('Narcotics', fontsize=15)\n",
    "plt.xlim(x1_min,x1_max)\n",
    "plt.ylim(x2_min,x2_max)\n",
    "plt.title('SVM classification plot', fontsize= 15)\n",
    "plt.show()"
   ]
  },
  {
   "cell_type": "markdown",
   "metadata": {},
   "source": [
    "More on kernel and parameters can be found by `help(svm)`"
   ]
  },
  {
   "cell_type": "markdown",
   "metadata": {},
   "source": [
    "## 8 In-Sample Cross Validation(SVM Model)"
   ]
  },
  {
   "cell_type": "markdown",
   "metadata": {},
   "source": [
    "`GridSearchCV` function can help us tune the parameters like cost, kernel, gamma etc from a set of choices. It may take a lot of time.\n"
   ]
  },
  {
   "cell_type": "code",
   "execution_count": 24,
   "metadata": {},
   "outputs": [],
   "source": [
    "from sklearn.model_selection import GridSearchCV"
   ]
  },
  {
   "cell_type": "code",
   "execution_count": 25,
   "metadata": {},
   "outputs": [
    {
     "name": "stdout",
     "output_type": "stream",
     "text": [
      "SVC(C=10, kernel='linear')\n"
     ]
    }
   ],
   "source": [
    "parameters = [\n",
    "        {'kernel': ['linear'], 'C': [0.5, 1, 10, 100]},\n",
    "        {'kernel': ['poly'], 'C': [0.5, 1, 10, 100], 'degree': [2, 3]},\n",
    "        {'kernel': ['rbf'], 'C': [0.5, 1, 10, 100], 'gamma':[ 5, 3, 1, 0.5, 0.3]}\n",
    "        ]\n",
    "svm_valid=GridSearchCV(svm.SVC(),parameters) #by default cv=3\n",
    "svm_valid.fit(X_train,y_train)\n",
    "print(svm_valid.best_estimator_)"
   ]
  },
  {
   "cell_type": "markdown",
   "metadata": {},
   "source": [
    "Plot the best model:"
   ]
  },
  {
   "cell_type": "code",
   "execution_count": 26,
   "metadata": {},
   "outputs": [
    {
     "data": {
      "image/png": "[encoded data removed]",
      "text/plain": [
       "<Figure size 432x432 with 1 Axes>"
      ]
     },
     "metadata": {
      "needs_background": "light"
     },
     "output_type": "display_data"
    }
   ],
   "source": [
    "#绘制图形\n",
    "grid_hat = svm_valid.predict(grid_train)       # 预测分类值\n",
    "grid_hat = grid_hat.reshape(x1.shape)  # 使之与输入的形状相同\n",
    "\n",
    "plt.figure(figsize=(6,6))\n",
    "plt.pcolormesh(x1, x2, grid_hat, cmap=cm_light, shading='auto')     # 预测值的显示\n",
    "plt.scatter(X_train[:,0], X_train[:,1],c=y_train.values, cmap=cm_dark)  # 样本\n",
    "plt.xlabel('OfficeVisits', fontsize=15)\n",
    "plt.ylabel('Narcotics', fontsize=15)\n",
    "plt.xlim(x1_min,x1_max)\n",
    "plt.ylim(x2_min,x2_max)\n",
    "plt.title('SVM classification plot', fontsize= 15)\n",
    "plt.show()"
   ]
  },
  {
   "cell_type": "markdown",
   "metadata": {},
   "source": [
    "And we get the following confusion matrix with the best model."
   ]
  },
  {
   "cell_type": "code",
   "execution_count": 27,
   "metadata": {},
   "outputs": [
    {
     "data": {
      "text/html": [
       "<div>\n",
       "<style scoped>\n",
       "    .dataframe tbody tr th:only-of-type {\n",
       "        vertical-align: middle;\n",
       "    }\n",
       "\n",
       "    .dataframe tbody tr th {\n",
       "        vertical-align: top;\n",
       "    }\n",
       "\n",
       "    .dataframe thead th {\n",
       "        text-align: right;\n",
       "    }\n",
       "</style>\n",
       "<table border=\"1\" class=\"dataframe\">\n",
       "  <thead>\n",
       "    <tr style=\"text-align: right;\">\n",
       "      <th>predictTrain</th>\n",
       "      <th>0</th>\n",
       "      <th>1</th>\n",
       "    </tr>\n",
       "    <tr>\n",
       "      <th>PoorCare</th>\n",
       "      <th></th>\n",
       "      <th></th>\n",
       "    </tr>\n",
       "  </thead>\n",
       "  <tbody>\n",
       "    <tr>\n",
       "      <th>0</th>\n",
       "      <td>65</td>\n",
       "      <td>1</td>\n",
       "    </tr>\n",
       "    <tr>\n",
       "      <th>1</th>\n",
       "      <td>17</td>\n",
       "      <td>8</td>\n",
       "    </tr>\n",
       "  </tbody>\n",
       "</table>\n",
       "</div>"
      ],
      "text/plain": [
       "predictTrain   0  1\n",
       "PoorCare           \n",
       "0             65  1\n",
       "1             17  8"
      ]
     },
     "execution_count": 27,
     "metadata": {},
     "output_type": "execute_result"
    }
   ],
   "source": [
    "predictTrain =svm_valid.predict(X_train)\n",
    "conf1 = pd.crosstab(index = y_train,  \n",
    "columns=predictTrain, colnames=['predictTrain'])\n",
    "conf1"
   ]
  },
  {
   "cell_type": "markdown",
   "metadata": {},
   "source": [
    "The in-sample accuracy is 73/91=80.22%.\n",
    "\n",
    "## 9 Out-of-Sample Model Testing(SVM Model)\n",
    "\n",
    "Similarly, we can perform the out-of-sample test for our model using the test data set. We firstly plot the data in test set:"
   ]
  },
  {
   "cell_type": "code",
   "execution_count": 28,
   "metadata": {},
   "outputs": [
    {
     "data": {
      "image/png": "[encoded data removed]",
      "text/plain": [
       "<Figure size 432x432 with 1 Axes>"
      ]
     },
     "metadata": {
      "needs_background": "light"
     },
     "output_type": "display_data"
    }
   ],
   "source": [
    "plt.figure(figsize=(6,6))\n",
    "plt.scatter(X_test[np.where(y_test.values==1),0], X_test[np.where(y_test.values==1),1], label='PoorCare')\n",
    "plt.scatter(X_test[np.where(y_test.values==0),0], X_test[np.where(y_test.values==0),1], label='GoodCare')\n",
    "plt.legend()\n",
    "plt.xlabel('OfficeVisits',fontdict={'size':15})\n",
    "plt.ylabel('Narcotics',fontdict={'size':15})\n",
    "plt.show()"
   ]
  },
  {
   "cell_type": "markdown",
   "metadata": {},
   "source": [
    "And we get the following confusion matrix with the best model for new prediction."
   ]
  },
  {
   "cell_type": "code",
   "execution_count": 29,
   "metadata": {},
   "outputs": [
    {
     "data": {
      "text/html": [
       "<div>\n",
       "<style scoped>\n",
       "    .dataframe tbody tr th:only-of-type {\n",
       "        vertical-align: middle;\n",
       "    }\n",
       "\n",
       "    .dataframe tbody tr th {\n",
       "        vertical-align: top;\n",
       "    }\n",
       "\n",
       "    .dataframe thead th {\n",
       "        text-align: right;\n",
       "    }\n",
       "</style>\n",
       "<table border=\"1\" class=\"dataframe\">\n",
       "  <thead>\n",
       "    <tr style=\"text-align: right;\">\n",
       "      <th>predictTest</th>\n",
       "      <th>0</th>\n",
       "      <th>1</th>\n",
       "    </tr>\n",
       "    <tr>\n",
       "      <th>PoorCare</th>\n",
       "      <th></th>\n",
       "      <th></th>\n",
       "    </tr>\n",
       "  </thead>\n",
       "  <tbody>\n",
       "    <tr>\n",
       "      <th>0</th>\n",
       "      <td>31</td>\n",
       "      <td>1</td>\n",
       "    </tr>\n",
       "    <tr>\n",
       "      <th>1</th>\n",
       "      <td>5</td>\n",
       "      <td>3</td>\n",
       "    </tr>\n",
       "  </tbody>\n",
       "</table>\n",
       "</div>"
      ],
      "text/plain": [
       "predictTest   0  1\n",
       "PoorCare          \n",
       "0            31  1\n",
       "1             5  3"
      ]
     },
     "execution_count": 29,
     "metadata": {},
     "output_type": "execute_result"
    }
   ],
   "source": [
    "predictTest = svm_valid.predict(X_test)\n",
    "conf2 = pd.crosstab(index = y_test,  \n",
    "columns=predictTest, colnames=['predictTest'])\n",
    "conf2"
   ]
  },
  {
   "cell_type": "markdown",
   "metadata": {},
   "source": [
    "The out-of-sample accuracy of the best model is 34/40=85%, which is higher than the logistic regression model (accuracy is 75% with threshold 0.3)."
   ]
  }
 ],
 "metadata": {
  "interpreter": {
   "hash": "ae7890921ac3c17143ff000ac7152addc6614e2051824da39aa37dab63d26d82"
  },
  "kernelspec": {
   "display_name": "Python 3",
   "language": "python",
   "name": "python3"
  },
  "language_info": {
   "codemirror_mode": {
    "name": "ipython",
    "version": 3
   },
   "file_extension": ".py",
   "mimetype": "text/x-python",
   "name": "python",
   "nbconvert_exporter": "python",
   "pygments_lexer": "ipython3",
   "version": "3.6.5"
  },
  "tianchi_metadata": {
   "competitions": [],
   "datasets": [
    {
     "id": "13521",
     "title": "diabetes"
    }
   ],
   "description": "",
   "notebookId": "59601",
   "source": "ailab"
  }
 },
 "nbformat": 4,
 "nbformat_minor": 4
}
